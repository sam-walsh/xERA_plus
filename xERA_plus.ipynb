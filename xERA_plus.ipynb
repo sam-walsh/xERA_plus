{
 "cells": [
  {
   "cell_type": "code",
   "execution_count": 1,
   "metadata": {},
   "outputs": [],
   "source": [
    "import pandas as pd\n",
    "import numpy as np\n",
    "import matplotlib.pyplot as plt\n",
    "import seaborn as sns"
   ]
  },
  {
   "cell_type": "code",
   "execution_count": 2,
   "metadata": {},
   "outputs": [],
   "source": [
    "df = pd.read_csv('2022.csv')\n"
   ]
  },
  {
   "cell_type": "code",
   "execution_count": 3,
   "metadata": {},
   "outputs": [],
   "source": [
    "df_all = pd.DataFrame()\n",
    "for year in range(2015, 2024):\n",
    "    df_year = pd.read_csv(f'{year}.csv')\n",
    "    df_all = pd.concat([df_all, df_year])"
   ]
  },
  {
   "cell_type": "code",
   "execution_count": 4,
   "metadata": {},
   "outputs": [
    {
     "data": {
      "text/html": [
       "<div>\n",
       "<style scoped>\n",
       "    .dataframe tbody tr th:only-of-type {\n",
       "        vertical-align: middle;\n",
       "    }\n",
       "\n",
       "    .dataframe tbody tr th {\n",
       "        vertical-align: top;\n",
       "    }\n",
       "\n",
       "    .dataframe thead th {\n",
       "        text-align: right;\n",
       "    }\n",
       "</style>\n",
       "<table border=\"1\" class=\"dataframe\">\n",
       "  <thead>\n",
       "    <tr style=\"text-align: right;\">\n",
       "      <th></th>\n",
       "      <th>Unnamed: 0</th>\n",
       "      <th>pitch_type</th>\n",
       "      <th>game_date</th>\n",
       "      <th>release_speed</th>\n",
       "      <th>release_pos_x</th>\n",
       "      <th>release_pos_z</th>\n",
       "      <th>player_name</th>\n",
       "      <th>batter</th>\n",
       "      <th>pitcher</th>\n",
       "      <th>events</th>\n",
       "      <th>...</th>\n",
       "      <th>runner_1b</th>\n",
       "      <th>runner_2b</th>\n",
       "      <th>runner_3b</th>\n",
       "      <th>runners</th>\n",
       "      <th>half_inning</th>\n",
       "      <th>bat_score_min</th>\n",
       "      <th>runs_scored_inning_total</th>\n",
       "      <th>runs_scored_rest_of_inning</th>\n",
       "      <th>re24</th>\n",
       "      <th>re24_change</th>\n",
       "    </tr>\n",
       "  </thead>\n",
       "  <tbody>\n",
       "    <tr>\n",
       "      <th>0</th>\n",
       "      <td>4686</td>\n",
       "      <td>FF</td>\n",
       "      <td>2022-08-20</td>\n",
       "      <td>96.9</td>\n",
       "      <td>-1.13</td>\n",
       "      <td>6.48</td>\n",
       "      <td>Bradish, Kyle</td>\n",
       "      <td>624414</td>\n",
       "      <td>680694</td>\n",
       "      <td>field_out</td>\n",
       "      <td>...</td>\n",
       "      <td>0</td>\n",
       "      <td>0</td>\n",
       "      <td>0</td>\n",
       "      <td>000</td>\n",
       "      <td>661043 1 Top</td>\n",
       "      <td>0</td>\n",
       "      <td>0</td>\n",
       "      <td>0</td>\n",
       "      <td>0.47</td>\n",
       "      <td>-0.24</td>\n",
       "    </tr>\n",
       "    <tr>\n",
       "      <th>1</th>\n",
       "      <td>4616</td>\n",
       "      <td>FF</td>\n",
       "      <td>2022-08-20</td>\n",
       "      <td>96.1</td>\n",
       "      <td>-1.46</td>\n",
       "      <td>6.37</td>\n",
       "      <td>Bradish, Kyle</td>\n",
       "      <td>657077</td>\n",
       "      <td>680694</td>\n",
       "      <td>NaN</td>\n",
       "      <td>...</td>\n",
       "      <td>0</td>\n",
       "      <td>0</td>\n",
       "      <td>0</td>\n",
       "      <td>000</td>\n",
       "      <td>661043 1 Top</td>\n",
       "      <td>0</td>\n",
       "      <td>0</td>\n",
       "      <td>0</td>\n",
       "      <td>0.23</td>\n",
       "      <td>0.00</td>\n",
       "    </tr>\n",
       "    <tr>\n",
       "      <th>2</th>\n",
       "      <td>4392</td>\n",
       "      <td>FF</td>\n",
       "      <td>2022-08-20</td>\n",
       "      <td>95.4</td>\n",
       "      <td>-1.04</td>\n",
       "      <td>6.72</td>\n",
       "      <td>Bradish, Kyle</td>\n",
       "      <td>657077</td>\n",
       "      <td>680694</td>\n",
       "      <td>NaN</td>\n",
       "      <td>...</td>\n",
       "      <td>0</td>\n",
       "      <td>0</td>\n",
       "      <td>0</td>\n",
       "      <td>000</td>\n",
       "      <td>661043 1 Top</td>\n",
       "      <td>0</td>\n",
       "      <td>0</td>\n",
       "      <td>0</td>\n",
       "      <td>0.23</td>\n",
       "      <td>0.00</td>\n",
       "    </tr>\n",
       "    <tr>\n",
       "      <th>3</th>\n",
       "      <td>4322</td>\n",
       "      <td>CU</td>\n",
       "      <td>2022-08-20</td>\n",
       "      <td>86.1</td>\n",
       "      <td>-1.28</td>\n",
       "      <td>6.52</td>\n",
       "      <td>Bradish, Kyle</td>\n",
       "      <td>657077</td>\n",
       "      <td>680694</td>\n",
       "      <td>NaN</td>\n",
       "      <td>...</td>\n",
       "      <td>0</td>\n",
       "      <td>0</td>\n",
       "      <td>0</td>\n",
       "      <td>000</td>\n",
       "      <td>661043 1 Top</td>\n",
       "      <td>0</td>\n",
       "      <td>0</td>\n",
       "      <td>0</td>\n",
       "      <td>0.23</td>\n",
       "      <td>0.00</td>\n",
       "    </tr>\n",
       "    <tr>\n",
       "      <th>4</th>\n",
       "      <td>4102</td>\n",
       "      <td>FF</td>\n",
       "      <td>2022-08-20</td>\n",
       "      <td>96.6</td>\n",
       "      <td>-1.28</td>\n",
       "      <td>6.44</td>\n",
       "      <td>Bradish, Kyle</td>\n",
       "      <td>657077</td>\n",
       "      <td>680694</td>\n",
       "      <td>field_out</td>\n",
       "      <td>...</td>\n",
       "      <td>0</td>\n",
       "      <td>0</td>\n",
       "      <td>0</td>\n",
       "      <td>000</td>\n",
       "      <td>661043 1 Top</td>\n",
       "      <td>0</td>\n",
       "      <td>0</td>\n",
       "      <td>0</td>\n",
       "      <td>0.23</td>\n",
       "      <td>-0.14</td>\n",
       "    </tr>\n",
       "  </tbody>\n",
       "</table>\n",
       "<p>5 rows × 104 columns</p>\n",
       "</div>"
      ],
      "text/plain": [
       "   Unnamed: 0 pitch_type   game_date  release_speed  release_pos_x  \\\n",
       "0        4686         FF  2022-08-20           96.9          -1.13   \n",
       "1        4616         FF  2022-08-20           96.1          -1.46   \n",
       "2        4392         FF  2022-08-20           95.4          -1.04   \n",
       "3        4322         CU  2022-08-20           86.1          -1.28   \n",
       "4        4102         FF  2022-08-20           96.6          -1.28   \n",
       "\n",
       "   release_pos_z    player_name  batter  pitcher     events  ... runner_1b  \\\n",
       "0           6.48  Bradish, Kyle  624414   680694  field_out  ...         0   \n",
       "1           6.37  Bradish, Kyle  657077   680694        NaN  ...         0   \n",
       "2           6.72  Bradish, Kyle  657077   680694        NaN  ...         0   \n",
       "3           6.52  Bradish, Kyle  657077   680694        NaN  ...         0   \n",
       "4           6.44  Bradish, Kyle  657077   680694  field_out  ...         0   \n",
       "\n",
       "   runner_2b  runner_3b  runners   half_inning  bat_score_min  \\\n",
       "0          0          0      000  661043 1 Top              0   \n",
       "1          0          0      000  661043 1 Top              0   \n",
       "2          0          0      000  661043 1 Top              0   \n",
       "3          0          0      000  661043 1 Top              0   \n",
       "4          0          0      000  661043 1 Top              0   \n",
       "\n",
       "  runs_scored_inning_total runs_scored_rest_of_inning  re24 re24_change  \n",
       "0                        0                          0  0.47       -0.24  \n",
       "1                        0                          0  0.23        0.00  \n",
       "2                        0                          0  0.23        0.00  \n",
       "3                        0                          0  0.23        0.00  \n",
       "4                        0                          0  0.23       -0.14  \n",
       "\n",
       "[5 rows x 104 columns]"
      ]
     },
     "execution_count": 4,
     "metadata": {},
     "output_type": "execute_result"
    }
   ],
   "source": [
    "import compute_rv\n",
    "df = compute_rv.compute_re24(df)\n",
    "df_all = compute_rv.compute_re24(df_all)\n",
    "df.head()"
   ]
  },
  {
   "cell_type": "code",
   "execution_count": 5,
   "metadata": {},
   "outputs": [
    {
     "data": {
      "text/plain": [
       "events\n",
       "catcher_interf                0.338621\n",
       "caught_stealing_2b                 NaN\n",
       "caught_stealing_3b                 NaN\n",
       "caught_stealing_home               NaN\n",
       "double                        0.750734\n",
       "double_play                  -1.047895\n",
       "field_error                   0.390265\n",
       "field_out                    -0.238232\n",
       "fielders_choice               0.693592\n",
       "fielders_choice_out          -0.684554\n",
       "force_out                    -0.338848\n",
       "grounded_into_double_play    -0.896938\n",
       "hit_by_pitch                  0.348771\n",
       "home_run                      1.387745\n",
       "other_out                          NaN\n",
       "pickoff_1b                         NaN\n",
       "pickoff_caught_stealing_2b         NaN\n",
       "sac_bunt                     -0.027042\n",
       "sac_fly                      -0.061478\n",
       "sac_fly_double_play          -1.170000\n",
       "single                        0.456800\n",
       "strikeout                    -0.279833\n",
       "strikeout_double_play        -0.909167\n",
       "triple                        0.994000\n",
       "triple_play                        NaN\n",
       "walk                          0.320553\n",
       "wild_pitch                         NaN\n",
       "Name: re24_change, dtype: float64"
      ]
     },
     "execution_count": 5,
     "metadata": {},
     "output_type": "execute_result"
    }
   ],
   "source": [
    "df.groupby('events')['re24_change'].mean()"
   ]
  },
  {
   "cell_type": "code",
   "execution_count": 6,
   "metadata": {},
   "outputs": [],
   "source": [
    "mean_run_values = df.groupby('events')['re24_change'].mean()\n",
    "df['mean_run_value'] = df['events'].map(mean_run_values)\n"
   ]
  },
  {
   "cell_type": "code",
   "execution_count": 7,
   "metadata": {},
   "outputs": [],
   "source": [
    "mean_run_values = df_all.groupby('events')['re24_change'].mean()\n",
    "df_all['mean_run_value'] = df_all['events'].map(mean_run_values)"
   ]
  },
  {
   "cell_type": "code",
   "execution_count": 8,
   "metadata": {},
   "outputs": [
    {
     "data": {
      "text/html": [
       "<div>\n",
       "<style scoped>\n",
       "    .dataframe tbody tr th:only-of-type {\n",
       "        vertical-align: middle;\n",
       "    }\n",
       "\n",
       "    .dataframe tbody tr th {\n",
       "        vertical-align: top;\n",
       "    }\n",
       "\n",
       "    .dataframe thead th {\n",
       "        text-align: right;\n",
       "    }\n",
       "</style>\n",
       "<table border=\"1\" class=\"dataframe\">\n",
       "  <thead>\n",
       "    <tr style=\"text-align: right;\">\n",
       "      <th></th>\n",
       "      <th>mean</th>\n",
       "      <th>std</th>\n",
       "    </tr>\n",
       "    <tr>\n",
       "      <th>events</th>\n",
       "      <th></th>\n",
       "      <th></th>\n",
       "    </tr>\n",
       "  </thead>\n",
       "  <tbody>\n",
       "    <tr>\n",
       "      <th>catcher_interf</th>\n",
       "      <td>0.338621</td>\n",
       "      <td>0.0</td>\n",
       "    </tr>\n",
       "    <tr>\n",
       "      <th>caught_stealing_2b</th>\n",
       "      <td>NaN</td>\n",
       "      <td>NaN</td>\n",
       "    </tr>\n",
       "    <tr>\n",
       "      <th>caught_stealing_3b</th>\n",
       "      <td>NaN</td>\n",
       "      <td>NaN</td>\n",
       "    </tr>\n",
       "    <tr>\n",
       "      <th>caught_stealing_home</th>\n",
       "      <td>NaN</td>\n",
       "      <td>NaN</td>\n",
       "    </tr>\n",
       "    <tr>\n",
       "      <th>double</th>\n",
       "      <td>0.750734</td>\n",
       "      <td>0.0</td>\n",
       "    </tr>\n",
       "    <tr>\n",
       "      <th>double_play</th>\n",
       "      <td>-1.047895</td>\n",
       "      <td>0.0</td>\n",
       "    </tr>\n",
       "    <tr>\n",
       "      <th>field_error</th>\n",
       "      <td>0.390265</td>\n",
       "      <td>0.0</td>\n",
       "    </tr>\n",
       "    <tr>\n",
       "      <th>field_out</th>\n",
       "      <td>-0.238232</td>\n",
       "      <td>0.0</td>\n",
       "    </tr>\n",
       "    <tr>\n",
       "      <th>fielders_choice</th>\n",
       "      <td>0.693592</td>\n",
       "      <td>0.0</td>\n",
       "    </tr>\n",
       "    <tr>\n",
       "      <th>fielders_choice_out</th>\n",
       "      <td>-0.684554</td>\n",
       "      <td>0.0</td>\n",
       "    </tr>\n",
       "    <tr>\n",
       "      <th>force_out</th>\n",
       "      <td>-0.338848</td>\n",
       "      <td>0.0</td>\n",
       "    </tr>\n",
       "    <tr>\n",
       "      <th>grounded_into_double_play</th>\n",
       "      <td>-0.896938</td>\n",
       "      <td>0.0</td>\n",
       "    </tr>\n",
       "    <tr>\n",
       "      <th>hit_by_pitch</th>\n",
       "      <td>0.348771</td>\n",
       "      <td>0.0</td>\n",
       "    </tr>\n",
       "    <tr>\n",
       "      <th>home_run</th>\n",
       "      <td>1.387745</td>\n",
       "      <td>0.0</td>\n",
       "    </tr>\n",
       "    <tr>\n",
       "      <th>other_out</th>\n",
       "      <td>NaN</td>\n",
       "      <td>NaN</td>\n",
       "    </tr>\n",
       "    <tr>\n",
       "      <th>pickoff_1b</th>\n",
       "      <td>NaN</td>\n",
       "      <td>NaN</td>\n",
       "    </tr>\n",
       "    <tr>\n",
       "      <th>pickoff_caught_stealing_2b</th>\n",
       "      <td>NaN</td>\n",
       "      <td>NaN</td>\n",
       "    </tr>\n",
       "    <tr>\n",
       "      <th>sac_bunt</th>\n",
       "      <td>-0.027042</td>\n",
       "      <td>0.0</td>\n",
       "    </tr>\n",
       "    <tr>\n",
       "      <th>sac_fly</th>\n",
       "      <td>-0.061478</td>\n",
       "      <td>0.0</td>\n",
       "    </tr>\n",
       "    <tr>\n",
       "      <th>sac_fly_double_play</th>\n",
       "      <td>-1.170000</td>\n",
       "      <td>0.0</td>\n",
       "    </tr>\n",
       "    <tr>\n",
       "      <th>single</th>\n",
       "      <td>0.456800</td>\n",
       "      <td>0.0</td>\n",
       "    </tr>\n",
       "    <tr>\n",
       "      <th>strikeout</th>\n",
       "      <td>-0.279833</td>\n",
       "      <td>0.0</td>\n",
       "    </tr>\n",
       "    <tr>\n",
       "      <th>strikeout_double_play</th>\n",
       "      <td>-0.909167</td>\n",
       "      <td>0.0</td>\n",
       "    </tr>\n",
       "    <tr>\n",
       "      <th>triple</th>\n",
       "      <td>0.994000</td>\n",
       "      <td>0.0</td>\n",
       "    </tr>\n",
       "    <tr>\n",
       "      <th>triple_play</th>\n",
       "      <td>NaN</td>\n",
       "      <td>NaN</td>\n",
       "    </tr>\n",
       "    <tr>\n",
       "      <th>walk</th>\n",
       "      <td>0.320553</td>\n",
       "      <td>0.0</td>\n",
       "    </tr>\n",
       "    <tr>\n",
       "      <th>wild_pitch</th>\n",
       "      <td>NaN</td>\n",
       "      <td>NaN</td>\n",
       "    </tr>\n",
       "  </tbody>\n",
       "</table>\n",
       "</div>"
      ],
      "text/plain": [
       "                                mean  std\n",
       "events                                   \n",
       "catcher_interf              0.338621  0.0\n",
       "caught_stealing_2b               NaN  NaN\n",
       "caught_stealing_3b               NaN  NaN\n",
       "caught_stealing_home             NaN  NaN\n",
       "double                      0.750734  0.0\n",
       "double_play                -1.047895  0.0\n",
       "field_error                 0.390265  0.0\n",
       "field_out                  -0.238232  0.0\n",
       "fielders_choice             0.693592  0.0\n",
       "fielders_choice_out        -0.684554  0.0\n",
       "force_out                  -0.338848  0.0\n",
       "grounded_into_double_play  -0.896938  0.0\n",
       "hit_by_pitch                0.348771  0.0\n",
       "home_run                    1.387745  0.0\n",
       "other_out                        NaN  NaN\n",
       "pickoff_1b                       NaN  NaN\n",
       "pickoff_caught_stealing_2b       NaN  NaN\n",
       "sac_bunt                   -0.027042  0.0\n",
       "sac_fly                    -0.061478  0.0\n",
       "sac_fly_double_play        -1.170000  0.0\n",
       "single                      0.456800  0.0\n",
       "strikeout                  -0.279833  0.0\n",
       "strikeout_double_play      -0.909167  0.0\n",
       "triple                      0.994000  0.0\n",
       "triple_play                      NaN  NaN\n",
       "walk                        0.320553  0.0\n",
       "wild_pitch                       NaN  NaN"
      ]
     },
     "execution_count": 8,
     "metadata": {},
     "output_type": "execute_result"
    }
   ],
   "source": [
    "df.groupby('events')['mean_run_value'].agg(['mean', 'std'])"
   ]
  },
  {
   "attachments": {},
   "cell_type": "markdown",
   "metadata": {},
   "source": [
    "2022 run value leaders:"
   ]
  },
  {
   "cell_type": "code",
   "execution_count": 9,
   "metadata": {},
   "outputs": [
    {
     "data": {
      "text/plain": [
       "player_name        pitcher\n",
       "Gallen, Zac        668678    -31.286740\n",
       "Javier, Cristian   664299    -18.953566\n",
       "Bieber, Shane      669456    -18.835842\n",
       "Cortes, Nestor     641482    -17.923083\n",
       "deGrom, Jacob      594798    -17.672160\n",
       "Ohtani, Shohei     660271    -17.532337\n",
       "McKenzie, Triston  663474    -16.988364\n",
       "Rasmussen, Drew    656876    -15.421682\n",
       "Manoah, Alek       666201    -14.936888\n",
       "Verlander, Justin  434378    -14.763768\n",
       "Quantrill, Cal     615698    -14.350686\n",
       "Scherzer, Max      453286    -14.350645\n",
       "Anderson, Tyler    542881    -14.333164\n",
       "Urías, Julio       628711    -14.156706\n",
       "Luzardo, Jesús     666200    -13.775998\n",
       "Darvish, Yu        506433    -13.737528\n",
       "Cease, Dylan       656302    -13.695184\n",
       "Rodón, Carlos      607074    -12.812586\n",
       "Quintana, José     500779    -12.272034\n",
       "Burnes, Corbin     669203    -12.270651\n",
       "Strider, Spencer   675911    -11.782965\n",
       "Germán, Domingo    593334    -11.780080\n",
       "Alcantara, Sandy   645261    -11.735358\n",
       "Herget, Jimmy      623474    -11.443772\n",
       "Woodruff, Brandon  605540    -11.300571\n",
       "Name: mean_run_value, dtype: float64"
      ]
     },
     "execution_count": 9,
     "metadata": {},
     "output_type": "execute_result"
    }
   ],
   "source": [
    "df.groupby(['player_name', 'pitcher'])['mean_run_value'].sum().sort_values().head(25)"
   ]
  },
  {
   "cell_type": "code",
   "execution_count": 10,
   "metadata": {},
   "outputs": [],
   "source": [
    "df_gdp = df[df['events'] == 'grounded_into_double_play']\n",
    "df_gdp_count = df_gdp.groupby(['player_name', 'pitcher']).size().reset_index(name='gdp_count')\n",
    "df_new = pd.merge(df_all, df_gdp_count, on=['player_name', 'pitcher'], how='left')\n",
    "df_new['gdp_count'] = df_new['gdp_count'].fillna(0)\n",
    "\n"
   ]
  },
  {
   "attachments": {},
   "cell_type": "markdown",
   "metadata": {},
   "source": [
    "2015-2023 re24 run value leaders:"
   ]
  },
  {
   "cell_type": "code",
   "execution_count": 11,
   "metadata": {},
   "outputs": [
    {
     "data": {
      "text/plain": [
       "player_name         pitcher\n",
       "deGrom, Jacob       594798    -267.901550\n",
       "Scherzer, Max       453286    -266.690483\n",
       "Kershaw, Clayton    477132    -265.487438\n",
       "Verlander, Justin   434378    -231.045007\n",
       "Cole, Gerrit        543037    -214.427595\n",
       "Greinke, Zack       425844    -173.946314\n",
       "Nola, Aaron         605400    -161.091447\n",
       "Sale, Chris         519242    -150.912065\n",
       "Kluber, Corey       446372    -143.999727\n",
       "Strasburg, Stephen  544931    -142.699943\n",
       "Wheeler, Zack       554430    -139.376951\n",
       "Stroman, Marcus     573186    -131.153688\n",
       "Hendricks, Kyle     543294    -125.793388\n",
       "Snell, Blake        605483    -122.034697\n",
       "Buehler, Walker     621111    -116.359128\n",
       "Castillo, Luis      622491    -115.572272\n",
       "Morton, Charlie     450203    -115.514814\n",
       "Jansen, Kenley      445276    -114.063951\n",
       "Gray, Sonny         543243    -113.454947\n",
       "Darvish, Yu         506433    -113.122936\n",
       "Name: mean_run_value, dtype: float64"
      ]
     },
     "execution_count": 11,
     "metadata": {},
     "output_type": "execute_result"
    }
   ],
   "source": [
    "df_new.groupby(['player_name', 'pitcher'])['mean_run_value'].sum().sort_values().head(20)"
   ]
  },
  {
   "cell_type": "code",
   "execution_count": 12,
   "metadata": {},
   "outputs": [
    {
     "data": {
      "text/plain": [
       "player_name         pitcher\n",
       "Bautista, Félix     642585    -8.45\n",
       "Hader, Josh         623352    -4.13\n",
       "Maddox, Austin      545348    -3.70\n",
       "Suarez, Robert      663158    -3.26\n",
       "Frías, Carlos       516910    -2.78\n",
       "Duran, Jhoan        661395    -2.67\n",
       "Hinojosa, Dalier    648737    -2.54\n",
       "Barrios, Yhonathan  553872    -2.30\n",
       "Felipe, Angel       665734    -2.23\n",
       "McGee, Easton       668834    -2.20\n",
       "Martín, Rafael      514669    -2.04\n",
       "Morrow, Brandon     453344    -1.98\n",
       "Abbott, Andrew      671096    -1.87\n",
       "Baz, Shane          669358    -1.87\n",
       "Vásquez, Randy      681190    -1.78\n",
       "Castillo, Luis      622379    -1.55\n",
       "Cosgrove, Tom       676680    -1.34\n",
       "De Jesus, Angel     669804    -1.27\n",
       "Rodriguez, Elvin    660730    -1.23\n",
       "Hancock, Justin     606995    -1.20\n",
       "Neuse, Sheldon      641914    -1.20\n",
       "Gose, Anthony       543238    -1.13\n",
       "Griffin, Foster     656492    -1.10\n",
       "Mejia, Jenrry       516769    -1.09\n",
       "Simmons, Shae       623406    -1.03\n",
       "Name: re24_change, dtype: float64"
      ]
     },
     "execution_count": 12,
     "metadata": {},
     "output_type": "execute_result"
    }
   ],
   "source": [
    "df_all.groupby(['player_name', 'pitcher'])['re24_change'].sum().sort_values().head(25)"
   ]
  },
  {
   "cell_type": "code",
   "execution_count": 20,
   "metadata": {},
   "outputs": [
    {
     "data": {
      "text/html": [
       "<style>#sk-container-id-3 {color: black;background-color: white;}#sk-container-id-3 pre{padding: 0;}#sk-container-id-3 div.sk-toggleable {background-color: white;}#sk-container-id-3 label.sk-toggleable__label {cursor: pointer;display: block;width: 100%;margin-bottom: 0;padding: 0.3em;box-sizing: border-box;text-align: center;}#sk-container-id-3 label.sk-toggleable__label-arrow:before {content: \"▸\";float: left;margin-right: 0.25em;color: #696969;}#sk-container-id-3 label.sk-toggleable__label-arrow:hover:before {color: black;}#sk-container-id-3 div.sk-estimator:hover label.sk-toggleable__label-arrow:before {color: black;}#sk-container-id-3 div.sk-toggleable__content {max-height: 0;max-width: 0;overflow: hidden;text-align: left;background-color: #f0f8ff;}#sk-container-id-3 div.sk-toggleable__content pre {margin: 0.2em;color: black;border-radius: 0.25em;background-color: #f0f8ff;}#sk-container-id-3 input.sk-toggleable__control:checked~div.sk-toggleable__content {max-height: 200px;max-width: 100%;overflow: auto;}#sk-container-id-3 input.sk-toggleable__control:checked~label.sk-toggleable__label-arrow:before {content: \"▾\";}#sk-container-id-3 div.sk-estimator input.sk-toggleable__control:checked~label.sk-toggleable__label {background-color: #d4ebff;}#sk-container-id-3 div.sk-label input.sk-toggleable__control:checked~label.sk-toggleable__label {background-color: #d4ebff;}#sk-container-id-3 input.sk-hidden--visually {border: 0;clip: rect(1px 1px 1px 1px);clip: rect(1px, 1px, 1px, 1px);height: 1px;margin: -1px;overflow: hidden;padding: 0;position: absolute;width: 1px;}#sk-container-id-3 div.sk-estimator {font-family: monospace;background-color: #f0f8ff;border: 1px dotted black;border-radius: 0.25em;box-sizing: border-box;margin-bottom: 0.5em;}#sk-container-id-3 div.sk-estimator:hover {background-color: #d4ebff;}#sk-container-id-3 div.sk-parallel-item::after {content: \"\";width: 100%;border-bottom: 1px solid gray;flex-grow: 1;}#sk-container-id-3 div.sk-label:hover label.sk-toggleable__label {background-color: #d4ebff;}#sk-container-id-3 div.sk-serial::before {content: \"\";position: absolute;border-left: 1px solid gray;box-sizing: border-box;top: 0;bottom: 0;left: 50%;z-index: 0;}#sk-container-id-3 div.sk-serial {display: flex;flex-direction: column;align-items: center;background-color: white;padding-right: 0.2em;padding-left: 0.2em;position: relative;}#sk-container-id-3 div.sk-item {position: relative;z-index: 1;}#sk-container-id-3 div.sk-parallel {display: flex;align-items: stretch;justify-content: center;background-color: white;position: relative;}#sk-container-id-3 div.sk-item::before, #sk-container-id-3 div.sk-parallel-item::before {content: \"\";position: absolute;border-left: 1px solid gray;box-sizing: border-box;top: 0;bottom: 0;left: 50%;z-index: -1;}#sk-container-id-3 div.sk-parallel-item {display: flex;flex-direction: column;z-index: 1;position: relative;background-color: white;}#sk-container-id-3 div.sk-parallel-item:first-child::after {align-self: flex-end;width: 50%;}#sk-container-id-3 div.sk-parallel-item:last-child::after {align-self: flex-start;width: 50%;}#sk-container-id-3 div.sk-parallel-item:only-child::after {width: 0;}#sk-container-id-3 div.sk-dashed-wrapped {border: 1px dashed gray;margin: 0 0.4em 0.5em 0.4em;box-sizing: border-box;padding-bottom: 0.4em;background-color: white;}#sk-container-id-3 div.sk-label label {font-family: monospace;font-weight: bold;display: inline-block;line-height: 1.2em;}#sk-container-id-3 div.sk-label-container {text-align: center;}#sk-container-id-3 div.sk-container {/* jupyter's `normalize.less` sets `[hidden] { display: none; }` but bootstrap.min.css set `[hidden] { display: none !important; }` so we also need the `!important` here to be able to override the default hidden behavior on the sphinx rendered scikit-learn.org. See: https://github.com/scikit-learn/scikit-learn/issues/21755 */display: inline-block !important;position: relative;}#sk-container-id-3 div.sk-text-repr-fallback {display: none;}</style><div id=\"sk-container-id-3\" class=\"sk-top-container\"><div class=\"sk-text-repr-fallback\"><pre>KNeighborsRegressor(n_neighbors=250)</pre><b>In a Jupyter environment, please rerun this cell to show the HTML representation or trust the notebook. <br />On GitHub, the HTML representation is unable to render, please try loading this page with nbviewer.org.</b></div><div class=\"sk-container\" hidden><div class=\"sk-item\"><div class=\"sk-estimator sk-toggleable\"><input class=\"sk-toggleable__control sk-hidden--visually\" id=\"sk-estimator-id-3\" type=\"checkbox\" checked><label for=\"sk-estimator-id-3\" class=\"sk-toggleable__label sk-toggleable__label-arrow\">KNeighborsRegressor</label><div class=\"sk-toggleable__content\"><pre>KNeighborsRegressor(n_neighbors=250)</pre></div></div></div></div></div>"
      ],
      "text/plain": [
       "KNeighborsRegressor(n_neighbors=250)"
      ]
     },
     "execution_count": 20,
     "metadata": {},
     "output_type": "execute_result"
    }
   ],
   "source": [
    "from sklearn.neighbors import KNeighborsRegressor\n",
    "from sklearn.model_selection import train_test_split\n",
    "df_all_bip = df_all.dropna(subset=['launch_speed', 'launch_angle', 'mean_run_value'])\n",
    "\n",
    "X = df_all_bip[['launch_speed', 'launch_angle']]\n",
    "y = df_all_bip['mean_run_value']\n",
    "\n",
    "X_train, X_test, y_train, y_test = train_test_split(X, y, test_size=0.2, random_state=42)\n",
    "\n",
    "knn = KNeighborsRegressor(n_neighbors=250, n_jobs=-1)\n",
    "knn.fit(X_train, y_train)\n"
   ]
  },
  {
   "cell_type": "code",
   "execution_count": 21,
   "metadata": {},
   "outputs": [
    {
     "name": "stdout",
     "output_type": "stream",
     "text": [
      "Mean squared error: 0.14\n",
      "R2 score: 0.43\n"
     ]
    }
   ],
   "source": [
    "from sklearn.metrics import mean_squared_error, r2_score\n",
    "\n",
    "y_pred = knn.predict(X_test)\n",
    "\n",
    "print(\"Mean squared error: %.2f\" % mean_squared_error(y_test, y_pred))\n",
    "print('R2 score: %.2f' % r2_score(y_test, y_pred))\n"
   ]
  },
  {
   "cell_type": "code",
   "execution_count": 22,
   "metadata": {},
   "outputs": [],
   "source": [
    "df['pred_run_value'] = np.nan\n",
    "mask = df[['launch_speed', 'launch_angle']].notna().all(axis=1)\n",
    "df.loc[mask, 'pred_run_value'] = knn.predict(df.loc[mask, ['launch_speed', 'launch_angle']])\n",
    "\n",
    "events_to_update = ['walk', 'hit_by_pitch', 'strikeout', 'strikeout_double_play']\n",
    "\n",
    "mean_run_values_df = df.groupby('events')['re24_change'].mean().to_dict()\n",
    "mean_run_values_df_all = df_all.groupby('events')['re24_change'].mean().to_dict()\n",
    "\n",
    "for event in events_to_update:\n",
    "    mask = (df['events'] == event)\n",
    "    df.loc[mask, 'pred_run_value'] = mean_run_values_df[event]\n",
    "    \n",
    "    mask_all = (df_all['events'] == event)\n",
    "    df_all.loc[mask_all, 'pred_run_value'] = mean_run_values_df_all[event]\n"
   ]
  },
  {
   "attachments": {},
   "cell_type": "markdown",
   "metadata": {},
   "source": [
    "2021 predicted run value leaders:"
   ]
  },
  {
   "cell_type": "code",
   "execution_count": 24,
   "metadata": {},
   "outputs": [
    {
     "data": {
      "text/plain": [
       "player_name        pitcher\n",
       "Cole, Gerrit       543037    -55.912658\n",
       "Wheeler, Zack      554430    -54.835160\n",
       "Burnes, Corbin     669203    -54.193286\n",
       "Scherzer, Max      453286    -53.849057\n",
       "Ray, Robbie        592662    -53.202038\n",
       "Nola, Aaron        605400    -48.773939\n",
       "Gausman, Kevin     592332    -48.140589\n",
       "Woodruff, Brandon  605540    -44.973719\n",
       "Eovaldi, Nathan    543135    -43.015617\n",
       "Buehler, Walker    621111    -42.859888\n",
       "Urías, Julio       628711    -42.385520\n",
       "Giolito, Lucas     608337    -41.064033\n",
       "Berríos, José      621244    -40.704778\n",
       "Darvish, Yu        506433    -40.671631\n",
       "Montas, Frankie    593423    -40.266108\n",
       "Cease, Dylan       656302    -40.180568\n",
       "Manaea, Sean       640455    -39.533973\n",
       "Rodón, Carlos      607074    -39.187623\n",
       "Alcantara, Sandy   645261    -38.993217\n",
       "Morton, Charlie    450203    -38.084906\n",
       "Name: pred_run_value, dtype: float64"
      ]
     },
     "execution_count": 24,
     "metadata": {},
     "output_type": "execute_result"
    }
   ],
   "source": [
    "df_all.loc[df_all['game_year'] == 2021].groupby(['player_name', 'pitcher'])['pred_run_value'].sum().sort_values().head(20)"
   ]
  },
  {
   "attachments": {},
   "cell_type": "markdown",
   "metadata": {},
   "source": [
    "2022 predicted run value leaders:"
   ]
  },
  {
   "cell_type": "code",
   "execution_count": 23,
   "metadata": {},
   "outputs": [
    {
     "data": {
      "text/plain": [
       "player_name        pitcher\n",
       "Gallen, Zac        668678    -30.429919\n",
       "Alcantara, Sandy   645261    -29.126842\n",
       "deGrom, Jacob      594798    -27.894529\n",
       "Rasmussen, Drew    656876    -26.575954\n",
       "Scherzer, Max      453286    -26.265449\n",
       "Javier, Cristian   664299    -26.074465\n",
       "Verlander, Justin  434378    -25.337232\n",
       "Lynn, Lance        458681    -25.123722\n",
       "Suarez, José       660761    -24.980738\n",
       "Strider, Spencer   675911    -24.827173\n",
       "Snell, Blake       605483    -24.249472\n",
       "McKenzie, Triston  663474    -24.006615\n",
       "Gausman, Kevin     592332    -23.829050\n",
       "Kirby, George      669923    -23.440450\n",
       "Wright, Kyle       657140    -22.651879\n",
       "Springs, Jeffrey   605488    -22.562000\n",
       "Webb, Logan        657277    -22.280698\n",
       "Ray, Robbie        592662    -21.298655\n",
       "Urías, Julio       628711    -21.296585\n",
       "Castillo, Luis     622491    -21.220939\n",
       "Name: pred_run_value, dtype: float64"
      ]
     },
     "execution_count": 23,
     "metadata": {},
     "output_type": "execute_result"
    }
   ],
   "source": [
    "df.groupby(['player_name', 'pitcher'])['pred_run_value'].sum().sort_values().head(20)"
   ]
  },
  {
   "attachments": {},
   "cell_type": "markdown",
   "metadata": {},
   "source": [
    "2023 predicted run value leaders:"
   ]
  },
  {
   "cell_type": "code",
   "execution_count": 35,
   "metadata": {},
   "outputs": [
    {
     "data": {
      "text/plain": [
       "player_name         pitcher\n",
       "Strider, Spencer    675911    -45.473791\n",
       "Gausman, Kevin      592332    -39.240130\n",
       "Ryan, Joe           657746    -34.158123\n",
       "López, Pablo        641154    -33.856257\n",
       "Gallen, Zac         668678    -32.766658\n",
       "Webb, Logan         657277    -32.585047\n",
       "Wheeler, Zack       554430    -31.755062\n",
       "Cole, Gerrit        543037    -31.470068\n",
       "Castillo, Luis      622491    -31.403292\n",
       "Luzardo, Jesús      666200    -29.646439\n",
       "Eflin, Zach         621107    -29.425553\n",
       "Kirby, George       669923    -28.613845\n",
       "Nola, Aaron         605400    -28.165633\n",
       "Valdez, Framber     664285    -27.907704\n",
       "Gilbert, Logan      669302    -27.803172\n",
       "Lynn, Lance         458681    -26.895896\n",
       "Keller, Mitch       656605    -26.656245\n",
       "Garrett, Braxton    666129    -26.208617\n",
       "Scherzer, Max       453286    -26.089283\n",
       "Ohtani, Shohei      660271    -25.983297\n",
       "Giolito, Lucas      608337    -24.122673\n",
       "Peralta, Freddy     642547    -23.269036\n",
       "Cease, Dylan        656302    -22.757301\n",
       "Snell, Blake        605483    -22.521886\n",
       "Detmers, Reid       672282    -22.305499\n",
       "Burnes, Corbin      669203    -22.044317\n",
       "McClanahan, Shane   663556    -22.007483\n",
       "Kikuchi, Yusei      579328    -21.975261\n",
       "Kershaw, Clayton    477132    -21.796578\n",
       "Brown, Hunter       686613    -21.733443\n",
       "Bautista, Félix     642585    -21.597611\n",
       "Steele, Justin      657006    -21.510389\n",
       "Gore, MacKenzie     669022    -21.122658\n",
       "Ober, Bailey        641927    -20.878011\n",
       "Berríos, José       621244    -20.823772\n",
       "Gray, Sonny         543243    -20.644117\n",
       "Kremer, Dean        665152    -20.630773\n",
       "Alcantara, Sandy    645261    -20.429039\n",
       "Eovaldi, Nathan     543135    -20.219168\n",
       "Glasnow, Tyler      607192    -20.190035\n",
       "Darvish, Yu         506433    -20.120445\n",
       "Wells, Tyler        669330    -20.002083\n",
       "Senga, Kodai        673540    -19.935695\n",
       "Germán, Domingo     593334    -19.869891\n",
       "Rodriguez, Eduardo  593958    -19.852421\n",
       "Bradley, Taj        671737    -19.787926\n",
       "Pivetta, Nick       601713    -19.716055\n",
       "Sears, JP           676664    -19.265452\n",
       "Cobb, Alex          502171    -19.260079\n",
       "Bassitt, Chris      605135    -18.738800\n",
       "Name: pred_run_value, dtype: float64"
      ]
     },
     "execution_count": 35,
     "metadata": {},
     "output_type": "execute_result"
    }
   ],
   "source": [
    "df_all.loc[df_all['game_year'] == 2023].groupby(['player_name', 'pitcher'])['pred_run_value'].sum().sort_values().head(50)"
   ]
  },
  {
   "cell_type": "code",
   "execution_count": 27,
   "metadata": {},
   "outputs": [
    {
     "data": {
      "text/plain": [
       "player_name       pitcher\n",
       "Gausman, Kevin    592332    -106.272530\n",
       "Cole, Gerrit      543037    -103.999494\n",
       "Scherzer, Max     453286     -94.688355\n",
       "Wheeler, Zack     554430     -94.544014\n",
       "Nola, Aaron       605400     -93.627289\n",
       "Burnes, Corbin    669203     -90.755457\n",
       "Lynn, Lance       458681     -78.381602\n",
       "Castillo, Luis    622491     -77.160198\n",
       "Darvish, Yu       506433     -76.335680\n",
       "Gallen, Zac       668678     -75.348006\n",
       "Giolito, Lucas    608337     -75.137763\n",
       "deGrom, Jacob     594798     -75.038524\n",
       "Alcantara, Sandy  645261     -74.136795\n",
       "Webb, Logan       657277     -73.493402\n",
       "Cease, Dylan      656302     -72.703902\n",
       "Morton, Charlie   450203     -68.607287\n",
       "Urías, Julio      628711     -67.683494\n",
       "Snell, Blake      605483     -67.575626\n",
       "Berríos, José     621244     -66.860029\n",
       "Eovaldi, Nathan   543135     -66.323056\n",
       "Name: pred_run_value, dtype: float64"
      ]
     },
     "execution_count": 27,
     "metadata": {},
     "output_type": "execute_result"
    }
   ],
   "source": [
    "df_all.loc[df_all['game_year'].isin([2021, 2022, 2023])].groupby(['player_name', 'pitcher'])['pred_run_value'].sum().sort_values().head(20)"
   ]
  },
  {
   "cell_type": "code",
   "execution_count": 32,
   "metadata": {},
   "outputs": [],
   "source": [
    "df_all = df_all.sort_values(['game_year', 'game_pk', 'inning', 'at_bat_number', 'pitch_number'])\n",
    "df_all['outs_on_play'] = df_all.groupby(['inning', 'inning_topbot'])['outs_when_up'].add().shift(-1)\n",
    "df_all['outs_on_play'] = df_all['outs_on_play'].fillna(0)\n"
   ]
  },
  {
   "cell_type": "code",
   "execution_count": 34,
   "metadata": {},
   "outputs": [
    {
     "data": {
      "text/html": [
       "<div>\n",
       "<style scoped>\n",
       "    .dataframe tbody tr th:only-of-type {\n",
       "        vertical-align: middle;\n",
       "    }\n",
       "\n",
       "    .dataframe tbody tr th {\n",
       "        vertical-align: top;\n",
       "    }\n",
       "\n",
       "    .dataframe thead th {\n",
       "        text-align: right;\n",
       "    }\n",
       "</style>\n",
       "<table border=\"1\" class=\"dataframe\">\n",
       "  <thead>\n",
       "    <tr style=\"text-align: right;\">\n",
       "      <th></th>\n",
       "      <th>Unnamed: 0</th>\n",
       "      <th>pitch_type</th>\n",
       "      <th>game_date</th>\n",
       "      <th>release_speed</th>\n",
       "      <th>release_pos_x</th>\n",
       "      <th>release_pos_z</th>\n",
       "      <th>player_name</th>\n",
       "      <th>batter</th>\n",
       "      <th>pitcher</th>\n",
       "      <th>events</th>\n",
       "      <th>...</th>\n",
       "      <th>runners</th>\n",
       "      <th>half_inning</th>\n",
       "      <th>bat_score_min</th>\n",
       "      <th>runs_scored_inning_total</th>\n",
       "      <th>runs_scored_rest_of_inning</th>\n",
       "      <th>re24</th>\n",
       "      <th>re24_change</th>\n",
       "      <th>mean_run_value</th>\n",
       "      <th>pred_run_value</th>\n",
       "      <th>outs_on_play</th>\n",
       "    </tr>\n",
       "  </thead>\n",
       "  <tbody>\n",
       "    <tr>\n",
       "      <th>0</th>\n",
       "      <td>4800.0</td>\n",
       "      <td>FF</td>\n",
       "      <td>2015-07-22</td>\n",
       "      <td>89.4</td>\n",
       "      <td>2.64</td>\n",
       "      <td>5.42</td>\n",
       "      <td>Cingrani, Tony</td>\n",
       "      <td>451594</td>\n",
       "      <td>571561</td>\n",
       "      <td>NaN</td>\n",
       "      <td>...</td>\n",
       "      <td>000</td>\n",
       "      <td>413902 1 Top</td>\n",
       "      <td>0</td>\n",
       "      <td>0</td>\n",
       "      <td>0</td>\n",
       "      <td>0.51</td>\n",
       "      <td>0.00</td>\n",
       "      <td>NaN</td>\n",
       "      <td>NaN</td>\n",
       "      <td>0.0</td>\n",
       "    </tr>\n",
       "    <tr>\n",
       "      <th>1</th>\n",
       "      <td>4645.0</td>\n",
       "      <td>FF</td>\n",
       "      <td>2015-07-22</td>\n",
       "      <td>89.4</td>\n",
       "      <td>2.37</td>\n",
       "      <td>5.46</td>\n",
       "      <td>Cingrani, Tony</td>\n",
       "      <td>451594</td>\n",
       "      <td>571561</td>\n",
       "      <td>NaN</td>\n",
       "      <td>...</td>\n",
       "      <td>000</td>\n",
       "      <td>413902 1 Top</td>\n",
       "      <td>0</td>\n",
       "      <td>0</td>\n",
       "      <td>0</td>\n",
       "      <td>0.51</td>\n",
       "      <td>0.00</td>\n",
       "      <td>NaN</td>\n",
       "      <td>NaN</td>\n",
       "      <td>0.0</td>\n",
       "    </tr>\n",
       "    <tr>\n",
       "      <th>2</th>\n",
       "      <td>4486.0</td>\n",
       "      <td>SL</td>\n",
       "      <td>2015-07-22</td>\n",
       "      <td>80.8</td>\n",
       "      <td>2.69</td>\n",
       "      <td>5.39</td>\n",
       "      <td>Cingrani, Tony</td>\n",
       "      <td>451594</td>\n",
       "      <td>571561</td>\n",
       "      <td>double</td>\n",
       "      <td>...</td>\n",
       "      <td>000</td>\n",
       "      <td>413902 1 Top</td>\n",
       "      <td>0</td>\n",
       "      <td>0</td>\n",
       "      <td>0</td>\n",
       "      <td>0.51</td>\n",
       "      <td>0.62</td>\n",
       "      <td>0.75195</td>\n",
       "      <td>NaN</td>\n",
       "      <td>0.0</td>\n",
       "    </tr>\n",
       "    <tr>\n",
       "      <th>3</th>\n",
       "      <td>4314.0</td>\n",
       "      <td>FF</td>\n",
       "      <td>2015-07-22</td>\n",
       "      <td>90.9</td>\n",
       "      <td>2.49</td>\n",
       "      <td>5.49</td>\n",
       "      <td>Cingrani, Tony</td>\n",
       "      <td>516770</td>\n",
       "      <td>571561</td>\n",
       "      <td>NaN</td>\n",
       "      <td>...</td>\n",
       "      <td>010</td>\n",
       "      <td>413902 1 Top</td>\n",
       "      <td>0</td>\n",
       "      <td>0</td>\n",
       "      <td>0</td>\n",
       "      <td>1.13</td>\n",
       "      <td>0.00</td>\n",
       "      <td>NaN</td>\n",
       "      <td>NaN</td>\n",
       "      <td>0.0</td>\n",
       "    </tr>\n",
       "    <tr>\n",
       "      <th>4</th>\n",
       "      <td>4142.0</td>\n",
       "      <td>FF</td>\n",
       "      <td>2015-07-22</td>\n",
       "      <td>90.9</td>\n",
       "      <td>2.50</td>\n",
       "      <td>5.54</td>\n",
       "      <td>Cingrani, Tony</td>\n",
       "      <td>516770</td>\n",
       "      <td>571561</td>\n",
       "      <td>NaN</td>\n",
       "      <td>...</td>\n",
       "      <td>010</td>\n",
       "      <td>413902 1 Top</td>\n",
       "      <td>0</td>\n",
       "      <td>0</td>\n",
       "      <td>0</td>\n",
       "      <td>1.13</td>\n",
       "      <td>0.00</td>\n",
       "      <td>NaN</td>\n",
       "      <td>NaN</td>\n",
       "      <td>0.0</td>\n",
       "    </tr>\n",
       "  </tbody>\n",
       "</table>\n",
       "<p>5 rows × 108 columns</p>\n",
       "</div>"
      ],
      "text/plain": [
       "   Unnamed: 0 pitch_type   game_date  release_speed  release_pos_x  \\\n",
       "0      4800.0         FF  2015-07-22           89.4           2.64   \n",
       "1      4645.0         FF  2015-07-22           89.4           2.37   \n",
       "2      4486.0         SL  2015-07-22           80.8           2.69   \n",
       "3      4314.0         FF  2015-07-22           90.9           2.49   \n",
       "4      4142.0         FF  2015-07-22           90.9           2.50   \n",
       "\n",
       "   release_pos_z     player_name  batter  pitcher  events  ... runners  \\\n",
       "0           5.42  Cingrani, Tony  451594   571561     NaN  ...     000   \n",
       "1           5.46  Cingrani, Tony  451594   571561     NaN  ...     000   \n",
       "2           5.39  Cingrani, Tony  451594   571561  double  ...     000   \n",
       "3           5.49  Cingrani, Tony  516770   571561     NaN  ...     010   \n",
       "4           5.54  Cingrani, Tony  516770   571561     NaN  ...     010   \n",
       "\n",
       "    half_inning  bat_score_min  runs_scored_inning_total  \\\n",
       "0  413902 1 Top              0                         0   \n",
       "1  413902 1 Top              0                         0   \n",
       "2  413902 1 Top              0                         0   \n",
       "3  413902 1 Top              0                         0   \n",
       "4  413902 1 Top              0                         0   \n",
       "\n",
       "   runs_scored_rest_of_inning  re24 re24_change mean_run_value pred_run_value  \\\n",
       "0                           0  0.51        0.00            NaN            NaN   \n",
       "1                           0  0.51        0.00            NaN            NaN   \n",
       "2                           0  0.51        0.62        0.75195            NaN   \n",
       "3                           0  1.13        0.00            NaN            NaN   \n",
       "4                           0  1.13        0.00            NaN            NaN   \n",
       "\n",
       "  outs_on_play  \n",
       "0          0.0  \n",
       "1          0.0  \n",
       "2          0.0  \n",
       "3          0.0  \n",
       "4          0.0  \n",
       "\n",
       "[5 rows x 108 columns]"
      ]
     },
     "execution_count": 34,
     "metadata": {},
     "output_type": "execute_result"
    }
   ],
   "source": [
    "df_all.head()"
   ]
  },
  {
   "cell_type": "code",
   "execution_count": 33,
   "metadata": {},
   "outputs": [
    {
     "data": {
      "text/plain": [
       "events\n",
       "catcher_interf                  0.000000\n",
       "caught_stealing_2b             -1.940467\n",
       "caught_stealing_3b             -1.928571\n",
       "caught_stealing_home           -1.938776\n",
       "double                         -0.009078\n",
       "double_play                    -0.572419\n",
       "ejection                       -2.000000\n",
       "field_error                    -0.008564\n",
       "field_out                       0.007937\n",
       "fielders_choice                -0.019163\n",
       "fielders_choice_out             0.886702\n",
       "force_out                      -0.118796\n",
       "game_advisory                  -2.000000\n",
       "grounded_into_double_play      -0.370841\n",
       "hit_by_pitch                   -0.001068\n",
       "home_run                       -0.024099\n",
       "intent_walk                     0.000000\n",
       "other_out                      -1.952569\n",
       "passed_ball                    -1.857143\n",
       "pickoff_1b                     -1.950820\n",
       "pickoff_2b                     -1.928571\n",
       "pickoff_3b                     -1.923077\n",
       "pickoff_caught_stealing_2b     -1.850000\n",
       "pickoff_caught_stealing_3b     -2.000000\n",
       "pickoff_caught_stealing_home   -1.875000\n",
       "pickoff_error_2b               -1.000000\n",
       "runner_double_play             -2.000000\n",
       "sac_bunt                        0.931560\n",
       "sac_bunt_double_play            1.500000\n",
       "sac_fly                         0.967344\n",
       "sac_fly_double_play            -1.000000\n",
       "single                         -0.013328\n",
       "stolen_base_2b                 -1.750000\n",
       "stolen_base_3b                 -2.000000\n",
       "stolen_base_home               -1.000000\n",
       "strikeout                       0.003200\n",
       "strikeout_double_play          -0.582979\n",
       "triple                         -0.004848\n",
       "triple_play                    -1.968750\n",
       "walk                           -0.001176\n",
       "wild_pitch                     -1.974359\n",
       "Name: outs_on_play, dtype: float64"
      ]
     },
     "execution_count": 33,
     "metadata": {},
     "output_type": "execute_result"
    }
   ],
   "source": [
    "df_all.groupby('events')['outs_on_play'].mean()"
   ]
  },
  {
   "cell_type": "code",
   "execution_count": 46,
   "metadata": {},
   "outputs": [
    {
     "data": {
      "text/html": [
       "<div>\n",
       "<style scoped>\n",
       "    .dataframe tbody tr th:only-of-type {\n",
       "        vertical-align: middle;\n",
       "    }\n",
       "\n",
       "    .dataframe tbody tr th {\n",
       "        vertical-align: top;\n",
       "    }\n",
       "\n",
       "    .dataframe thead th {\n",
       "        text-align: right;\n",
       "    }\n",
       "</style>\n",
       "<table border=\"1\" class=\"dataframe\">\n",
       "  <thead>\n",
       "    <tr style=\"text-align: right;\">\n",
       "      <th></th>\n",
       "      <th>Tm</th>\n",
       "      <th>IP</th>\n",
       "      <th>ER</th>\n",
       "      <th>ERA</th>\n",
       "      <th>GDP</th>\n",
       "      <th>BB</th>\n",
       "      <th>SO</th>\n",
       "      <th>BF</th>\n",
       "      <th>mlbID</th>\n",
       "    </tr>\n",
       "  </thead>\n",
       "  <tbody>\n",
       "    <tr>\n",
       "      <th>1</th>\n",
       "      <td>Colorado</td>\n",
       "      <td>6.1</td>\n",
       "      <td>3</td>\n",
       "      <td>4.26</td>\n",
       "      <td>2</td>\n",
       "      <td>3</td>\n",
       "      <td>2</td>\n",
       "      <td>32</td>\n",
       "      <td>472551</td>\n",
       "    </tr>\n",
       "    <tr>\n",
       "      <th>2</th>\n",
       "      <td>Cincinnati</td>\n",
       "      <td>81.1</td>\n",
       "      <td>27</td>\n",
       "      <td>2.99</td>\n",
       "      <td>3</td>\n",
       "      <td>27</td>\n",
       "      <td>88</td>\n",
       "      <td>327</td>\n",
       "      <td>671096</td>\n",
       "    </tr>\n",
       "    <tr>\n",
       "      <th>3</th>\n",
       "      <td>Washington</td>\n",
       "      <td>26.2</td>\n",
       "      <td>15</td>\n",
       "      <td>5.06</td>\n",
       "      <td>4</td>\n",
       "      <td>15</td>\n",
       "      <td>24</td>\n",
       "      <td>121</td>\n",
       "      <td>676265</td>\n",
       "    </tr>\n",
       "    <tr>\n",
       "      <th>4</th>\n",
       "      <td>New York</td>\n",
       "      <td>51.0</td>\n",
       "      <td>27</td>\n",
       "      <td>4.76</td>\n",
       "      <td>3</td>\n",
       "      <td>30</td>\n",
       "      <td>54</td>\n",
       "      <td>228</td>\n",
       "      <td>656061</td>\n",
       "    </tr>\n",
       "    <tr>\n",
       "      <th>5</th>\n",
       "      <td>Houston</td>\n",
       "      <td>56.0</td>\n",
       "      <td>14</td>\n",
       "      <td>2.25</td>\n",
       "      <td>4</td>\n",
       "      <td>26</td>\n",
       "      <td>81</td>\n",
       "      <td>231</td>\n",
       "      <td>650556</td>\n",
       "    </tr>\n",
       "  </tbody>\n",
       "</table>\n",
       "</div>"
      ],
      "text/plain": [
       "           Tm    IP  ER   ERA  GDP  BB  SO   BF   mlbID\n",
       "1    Colorado   6.1   3  4.26    2   3   2   32  472551\n",
       "2  Cincinnati  81.1  27  2.99    3  27  88  327  671096\n",
       "3  Washington  26.2  15  5.06    4  15  24  121  676265\n",
       "4    New York  51.0  27  4.76    3  30  54  228  656061\n",
       "5     Houston  56.0  14  2.25    4  26  81  231  650556"
      ]
     },
     "execution_count": 46,
     "metadata": {},
     "output_type": "execute_result"
    }
   ],
   "source": [
    "from pybaseball import pitching_stats_bref\n",
    "\n",
    "pitchers_2023 = pitching_stats_bref(2023)\n",
    "pitchers_2023 = pitchers_2023.loc[:, ['Tm', 'IP', 'ER', 'ERA', 'GDP', 'BB', 'SO', 'BF', 'mlbID']]\n",
    "pitchers_2023['mlbID'] = pitchers_2023['mlbID'].astype('int64')\n",
    "pitchers_2023.head()\n"
   ]
  },
  {
   "cell_type": "code",
   "execution_count": 50,
   "metadata": {},
   "outputs": [],
   "source": [
    "leaders_23 = df_all.loc[df_all['game_year'] == 2023].groupby(['player_name', 'pitcher'], as_index=False)['pred_run_value'].sum().sort_values(by='pred_run_value').round(1)"
   ]
  },
  {
   "cell_type": "code",
   "execution_count": 51,
   "metadata": {},
   "outputs": [
    {
     "data": {
      "text/html": [
       "<div>\n",
       "<style scoped>\n",
       "    .dataframe tbody tr th:only-of-type {\n",
       "        vertical-align: middle;\n",
       "    }\n",
       "\n",
       "    .dataframe tbody tr th {\n",
       "        vertical-align: top;\n",
       "    }\n",
       "\n",
       "    .dataframe thead th {\n",
       "        text-align: right;\n",
       "    }\n",
       "</style>\n",
       "<table border=\"1\" class=\"dataframe\">\n",
       "  <thead>\n",
       "    <tr style=\"text-align: right;\">\n",
       "      <th></th>\n",
       "      <th>player_name</th>\n",
       "      <th>pitcher</th>\n",
       "      <th>pred_run_value</th>\n",
       "      <th>Tm</th>\n",
       "      <th>IP</th>\n",
       "      <th>ER</th>\n",
       "      <th>ERA</th>\n",
       "      <th>GDP</th>\n",
       "      <th>BB</th>\n",
       "      <th>SO</th>\n",
       "      <th>BF</th>\n",
       "      <th>mlbID</th>\n",
       "    </tr>\n",
       "  </thead>\n",
       "  <tbody>\n",
       "    <tr>\n",
       "      <th>0</th>\n",
       "      <td>Strider, Spencer</td>\n",
       "      <td>675911</td>\n",
       "      <td>-45.5</td>\n",
       "      <td>Atlanta</td>\n",
       "      <td>139.1</td>\n",
       "      <td>58</td>\n",
       "      <td>3.75</td>\n",
       "      <td>5</td>\n",
       "      <td>45</td>\n",
       "      <td>217</td>\n",
       "      <td>572</td>\n",
       "      <td>675911</td>\n",
       "    </tr>\n",
       "    <tr>\n",
       "      <th>1</th>\n",
       "      <td>Gausman, Kevin</td>\n",
       "      <td>592332</td>\n",
       "      <td>-39.2</td>\n",
       "      <td>Toronto</td>\n",
       "      <td>144.1</td>\n",
       "      <td>52</td>\n",
       "      <td>3.24</td>\n",
       "      <td>7</td>\n",
       "      <td>37</td>\n",
       "      <td>187</td>\n",
       "      <td>590</td>\n",
       "      <td>592332</td>\n",
       "    </tr>\n",
       "    <tr>\n",
       "      <th>2</th>\n",
       "      <td>Ryan, Joe</td>\n",
       "      <td>657746</td>\n",
       "      <td>-34.2</td>\n",
       "      <td>Minnesota</td>\n",
       "      <td>126.0</td>\n",
       "      <td>62</td>\n",
       "      <td>4.43</td>\n",
       "      <td>5</td>\n",
       "      <td>25</td>\n",
       "      <td>152</td>\n",
       "      <td>523</td>\n",
       "      <td>657746</td>\n",
       "    </tr>\n",
       "    <tr>\n",
       "      <th>3</th>\n",
       "      <td>López, Pablo</td>\n",
       "      <td>641154</td>\n",
       "      <td>-33.9</td>\n",
       "      <td>Minnesota</td>\n",
       "      <td>147.2</td>\n",
       "      <td>60</td>\n",
       "      <td>3.66</td>\n",
       "      <td>6</td>\n",
       "      <td>37</td>\n",
       "      <td>180</td>\n",
       "      <td>600</td>\n",
       "      <td>641154</td>\n",
       "    </tr>\n",
       "    <tr>\n",
       "      <th>4</th>\n",
       "      <td>Gallen, Zac</td>\n",
       "      <td>668678</td>\n",
       "      <td>-32.8</td>\n",
       "      <td>Arizona</td>\n",
       "      <td>155.2</td>\n",
       "      <td>56</td>\n",
       "      <td>3.24</td>\n",
       "      <td>13</td>\n",
       "      <td>32</td>\n",
       "      <td>165</td>\n",
       "      <td>620</td>\n",
       "      <td>668678</td>\n",
       "    </tr>\n",
       "  </tbody>\n",
       "</table>\n",
       "</div>"
      ],
      "text/plain": [
       "        player_name  pitcher  pred_run_value         Tm     IP  ER   ERA  GDP  \\\n",
       "0  Strider, Spencer   675911           -45.5    Atlanta  139.1  58  3.75    5   \n",
       "1    Gausman, Kevin   592332           -39.2    Toronto  144.1  52  3.24    7   \n",
       "2         Ryan, Joe   657746           -34.2  Minnesota  126.0  62  4.43    5   \n",
       "3      López, Pablo   641154           -33.9  Minnesota  147.2  60  3.66    6   \n",
       "4       Gallen, Zac   668678           -32.8    Arizona  155.2  56  3.24   13   \n",
       "\n",
       "   BB   SO   BF   mlbID  \n",
       "0  45  217  572  675911  \n",
       "1  37  187  590  592332  \n",
       "2  25  152  523  657746  \n",
       "3  37  180  600  641154  \n",
       "4  32  165  620  668678  "
      ]
     },
     "execution_count": 51,
     "metadata": {},
     "output_type": "execute_result"
    }
   ],
   "source": [
    "df_23 = pd.merge(leaders_23, pitchers_2023, left_on='pitcher', right_on='mlbID')\n",
    "df_23.head()"
   ]
  },
  {
   "cell_type": "code",
   "execution_count": 57,
   "metadata": {},
   "outputs": [],
   "source": [
    "df_23['xRV/BF'] = df_23['pred_run_value'].div(df_23['BF']).round(3)"
   ]
  },
  {
   "cell_type": "code",
   "execution_count": 59,
   "metadata": {},
   "outputs": [
    {
     "data": {
      "text/html": [
       "<div>\n",
       "<style scoped>\n",
       "    .dataframe tbody tr th:only-of-type {\n",
       "        vertical-align: middle;\n",
       "    }\n",
       "\n",
       "    .dataframe tbody tr th {\n",
       "        vertical-align: top;\n",
       "    }\n",
       "\n",
       "    .dataframe thead th {\n",
       "        text-align: right;\n",
       "    }\n",
       "</style>\n",
       "<table border=\"1\" class=\"dataframe\">\n",
       "  <thead>\n",
       "    <tr style=\"text-align: right;\">\n",
       "      <th></th>\n",
       "      <th>player_name</th>\n",
       "      <th>pitcher</th>\n",
       "      <th>pred_run_value</th>\n",
       "      <th>Tm</th>\n",
       "      <th>IP</th>\n",
       "      <th>ER</th>\n",
       "      <th>ERA</th>\n",
       "      <th>GDP</th>\n",
       "      <th>BB</th>\n",
       "      <th>SO</th>\n",
       "      <th>BF</th>\n",
       "      <th>mlbID</th>\n",
       "      <th>xRV/BF</th>\n",
       "    </tr>\n",
       "  </thead>\n",
       "  <tbody>\n",
       "    <tr>\n",
       "      <th>0</th>\n",
       "      <td>Strider, Spencer</td>\n",
       "      <td>675911</td>\n",
       "      <td>-45.5</td>\n",
       "      <td>Atlanta</td>\n",
       "      <td>139.1</td>\n",
       "      <td>58</td>\n",
       "      <td>3.75</td>\n",
       "      <td>5</td>\n",
       "      <td>45</td>\n",
       "      <td>217</td>\n",
       "      <td>572</td>\n",
       "      <td>675911</td>\n",
       "      <td>-0.080</td>\n",
       "    </tr>\n",
       "    <tr>\n",
       "      <th>1</th>\n",
       "      <td>Gausman, Kevin</td>\n",
       "      <td>592332</td>\n",
       "      <td>-39.2</td>\n",
       "      <td>Toronto</td>\n",
       "      <td>144.1</td>\n",
       "      <td>52</td>\n",
       "      <td>3.24</td>\n",
       "      <td>7</td>\n",
       "      <td>37</td>\n",
       "      <td>187</td>\n",
       "      <td>590</td>\n",
       "      <td>592332</td>\n",
       "      <td>-0.066</td>\n",
       "    </tr>\n",
       "    <tr>\n",
       "      <th>2</th>\n",
       "      <td>Ryan, Joe</td>\n",
       "      <td>657746</td>\n",
       "      <td>-34.2</td>\n",
       "      <td>Minnesota</td>\n",
       "      <td>126.0</td>\n",
       "      <td>62</td>\n",
       "      <td>4.43</td>\n",
       "      <td>5</td>\n",
       "      <td>25</td>\n",
       "      <td>152</td>\n",
       "      <td>523</td>\n",
       "      <td>657746</td>\n",
       "      <td>-0.065</td>\n",
       "    </tr>\n",
       "    <tr>\n",
       "      <th>3</th>\n",
       "      <td>López, Pablo</td>\n",
       "      <td>641154</td>\n",
       "      <td>-33.9</td>\n",
       "      <td>Minnesota</td>\n",
       "      <td>147.2</td>\n",
       "      <td>60</td>\n",
       "      <td>3.66</td>\n",
       "      <td>6</td>\n",
       "      <td>37</td>\n",
       "      <td>180</td>\n",
       "      <td>600</td>\n",
       "      <td>641154</td>\n",
       "      <td>-0.056</td>\n",
       "    </tr>\n",
       "    <tr>\n",
       "      <th>10</th>\n",
       "      <td>Eflin, Zach</td>\n",
       "      <td>621107</td>\n",
       "      <td>-29.4</td>\n",
       "      <td>Tampa Bay</td>\n",
       "      <td>132.1</td>\n",
       "      <td>54</td>\n",
       "      <td>3.67</td>\n",
       "      <td>9</td>\n",
       "      <td>18</td>\n",
       "      <td>132</td>\n",
       "      <td>524</td>\n",
       "      <td>621107</td>\n",
       "      <td>-0.056</td>\n",
       "    </tr>\n",
       "    <tr>\n",
       "      <th>4</th>\n",
       "      <td>Gallen, Zac</td>\n",
       "      <td>668678</td>\n",
       "      <td>-32.8</td>\n",
       "      <td>Arizona</td>\n",
       "      <td>155.2</td>\n",
       "      <td>56</td>\n",
       "      <td>3.24</td>\n",
       "      <td>13</td>\n",
       "      <td>32</td>\n",
       "      <td>165</td>\n",
       "      <td>620</td>\n",
       "      <td>668678</td>\n",
       "      <td>-0.053</td>\n",
       "    </tr>\n",
       "    <tr>\n",
       "      <th>6</th>\n",
       "      <td>Wheeler, Zack</td>\n",
       "      <td>554430</td>\n",
       "      <td>-31.8</td>\n",
       "      <td>Philadelphia</td>\n",
       "      <td>144.0</td>\n",
       "      <td>58</td>\n",
       "      <td>3.63</td>\n",
       "      <td>4</td>\n",
       "      <td>29</td>\n",
       "      <td>160</td>\n",
       "      <td>596</td>\n",
       "      <td>554430</td>\n",
       "      <td>-0.053</td>\n",
       "    </tr>\n",
       "    <tr>\n",
       "      <th>28</th>\n",
       "      <td>Kershaw, Clayton</td>\n",
       "      <td>477132</td>\n",
       "      <td>-21.8</td>\n",
       "      <td>Los Angeles</td>\n",
       "      <td>105.1</td>\n",
       "      <td>29</td>\n",
       "      <td>2.48</td>\n",
       "      <td>12</td>\n",
       "      <td>26</td>\n",
       "      <td>111</td>\n",
       "      <td>416</td>\n",
       "      <td>477132</td>\n",
       "      <td>-0.052</td>\n",
       "    </tr>\n",
       "    <tr>\n",
       "      <th>8</th>\n",
       "      <td>Castillo, Luis</td>\n",
       "      <td>622491</td>\n",
       "      <td>-31.4</td>\n",
       "      <td>Seattle</td>\n",
       "      <td>150.1</td>\n",
       "      <td>54</td>\n",
       "      <td>3.23</td>\n",
       "      <td>2</td>\n",
       "      <td>37</td>\n",
       "      <td>166</td>\n",
       "      <td>607</td>\n",
       "      <td>622491</td>\n",
       "      <td>-0.052</td>\n",
       "    </tr>\n",
       "    <tr>\n",
       "      <th>17</th>\n",
       "      <td>Garrett, Braxton</td>\n",
       "      <td>666129</td>\n",
       "      <td>-26.2</td>\n",
       "      <td>Miami</td>\n",
       "      <td>122.0</td>\n",
       "      <td>53</td>\n",
       "      <td>3.91</td>\n",
       "      <td>10</td>\n",
       "      <td>21</td>\n",
       "      <td>126</td>\n",
       "      <td>507</td>\n",
       "      <td>666129</td>\n",
       "      <td>-0.052</td>\n",
       "    </tr>\n",
       "    <tr>\n",
       "      <th>9</th>\n",
       "      <td>Luzardo, Jesús</td>\n",
       "      <td>666200</td>\n",
       "      <td>-29.6</td>\n",
       "      <td>Miami</td>\n",
       "      <td>137.1</td>\n",
       "      <td>63</td>\n",
       "      <td>4.13</td>\n",
       "      <td>16</td>\n",
       "      <td>41</td>\n",
       "      <td>160</td>\n",
       "      <td>578</td>\n",
       "      <td>666200</td>\n",
       "      <td>-0.051</td>\n",
       "    </tr>\n",
       "    <tr>\n",
       "      <th>5</th>\n",
       "      <td>Webb, Logan</td>\n",
       "      <td>657277</td>\n",
       "      <td>-32.6</td>\n",
       "      <td>San Francisco</td>\n",
       "      <td>163.0</td>\n",
       "      <td>59</td>\n",
       "      <td>3.26</td>\n",
       "      <td>20</td>\n",
       "      <td>26</td>\n",
       "      <td>157</td>\n",
       "      <td>644</td>\n",
       "      <td>657277</td>\n",
       "      <td>-0.051</td>\n",
       "    </tr>\n",
       "    <tr>\n",
       "      <th>7</th>\n",
       "      <td>Cole, Gerrit</td>\n",
       "      <td>543037</td>\n",
       "      <td>-31.5</td>\n",
       "      <td>New York</td>\n",
       "      <td>156.1</td>\n",
       "      <td>48</td>\n",
       "      <td>2.76</td>\n",
       "      <td>13</td>\n",
       "      <td>42</td>\n",
       "      <td>166</td>\n",
       "      <td>623</td>\n",
       "      <td>543037</td>\n",
       "      <td>-0.051</td>\n",
       "    </tr>\n",
       "    <tr>\n",
       "      <th>11</th>\n",
       "      <td>Kirby, George</td>\n",
       "      <td>669923</td>\n",
       "      <td>-28.6</td>\n",
       "      <td>Seattle</td>\n",
       "      <td>144.2</td>\n",
       "      <td>50</td>\n",
       "      <td>3.11</td>\n",
       "      <td>14</td>\n",
       "      <td>14</td>\n",
       "      <td>131</td>\n",
       "      <td>569</td>\n",
       "      <td>669923</td>\n",
       "      <td>-0.050</td>\n",
       "    </tr>\n",
       "    <tr>\n",
       "      <th>18</th>\n",
       "      <td>Scherzer, Max</td>\n",
       "      <td>453286</td>\n",
       "      <td>-26.1</td>\n",
       "      <td>New York,Texas</td>\n",
       "      <td>127.2</td>\n",
       "      <td>52</td>\n",
       "      <td>3.67</td>\n",
       "      <td>7</td>\n",
       "      <td>35</td>\n",
       "      <td>147</td>\n",
       "      <td>518</td>\n",
       "      <td>453286</td>\n",
       "      <td>-0.050</td>\n",
       "    </tr>\n",
       "    <tr>\n",
       "      <th>14</th>\n",
       "      <td>Gilbert, Logan</td>\n",
       "      <td>669302</td>\n",
       "      <td>-27.8</td>\n",
       "      <td>Seattle</td>\n",
       "      <td>142.0</td>\n",
       "      <td>60</td>\n",
       "      <td>3.80</td>\n",
       "      <td>7</td>\n",
       "      <td>26</td>\n",
       "      <td>143</td>\n",
       "      <td>571</td>\n",
       "      <td>669302</td>\n",
       "      <td>-0.049</td>\n",
       "    </tr>\n",
       "    <tr>\n",
       "      <th>19</th>\n",
       "      <td>Ohtani, Shohei</td>\n",
       "      <td>660271</td>\n",
       "      <td>-26.0</td>\n",
       "      <td>Los Angeles</td>\n",
       "      <td>130.2</td>\n",
       "      <td>46</td>\n",
       "      <td>3.17</td>\n",
       "      <td>16</td>\n",
       "      <td>54</td>\n",
       "      <td>165</td>\n",
       "      <td>526</td>\n",
       "      <td>660271</td>\n",
       "      <td>-0.049</td>\n",
       "    </tr>\n",
       "    <tr>\n",
       "      <th>26</th>\n",
       "      <td>McClanahan, Shane</td>\n",
       "      <td>663556</td>\n",
       "      <td>-22.0</td>\n",
       "      <td>Tampa Bay</td>\n",
       "      <td>115.0</td>\n",
       "      <td>42</td>\n",
       "      <td>3.29</td>\n",
       "      <td>9</td>\n",
       "      <td>41</td>\n",
       "      <td>121</td>\n",
       "      <td>469</td>\n",
       "      <td>663556</td>\n",
       "      <td>-0.047</td>\n",
       "    </tr>\n",
       "    <tr>\n",
       "      <th>44</th>\n",
       "      <td>Rodriguez, Eduardo</td>\n",
       "      <td>593958</td>\n",
       "      <td>-19.9</td>\n",
       "      <td>Detroit</td>\n",
       "      <td>106.1</td>\n",
       "      <td>37</td>\n",
       "      <td>3.13</td>\n",
       "      <td>5</td>\n",
       "      <td>26</td>\n",
       "      <td>109</td>\n",
       "      <td>430</td>\n",
       "      <td>593958</td>\n",
       "      <td>-0.046</td>\n",
       "    </tr>\n",
       "    <tr>\n",
       "      <th>46</th>\n",
       "      <td>Pivetta, Nick</td>\n",
       "      <td>601713</td>\n",
       "      <td>-19.7</td>\n",
       "      <td>Boston</td>\n",
       "      <td>101.2</td>\n",
       "      <td>49</td>\n",
       "      <td>4.34</td>\n",
       "      <td>5</td>\n",
       "      <td>41</td>\n",
       "      <td>127</td>\n",
       "      <td>427</td>\n",
       "      <td>601713</td>\n",
       "      <td>-0.046</td>\n",
       "    </tr>\n",
       "  </tbody>\n",
       "</table>\n",
       "</div>"
      ],
      "text/plain": [
       "           player_name  pitcher  pred_run_value              Tm     IP  ER  \\\n",
       "0     Strider, Spencer   675911           -45.5         Atlanta  139.1  58   \n",
       "1       Gausman, Kevin   592332           -39.2         Toronto  144.1  52   \n",
       "2            Ryan, Joe   657746           -34.2       Minnesota  126.0  62   \n",
       "3         López, Pablo   641154           -33.9       Minnesota  147.2  60   \n",
       "10         Eflin, Zach   621107           -29.4       Tampa Bay  132.1  54   \n",
       "4          Gallen, Zac   668678           -32.8         Arizona  155.2  56   \n",
       "6        Wheeler, Zack   554430           -31.8    Philadelphia  144.0  58   \n",
       "28    Kershaw, Clayton   477132           -21.8     Los Angeles  105.1  29   \n",
       "8       Castillo, Luis   622491           -31.4         Seattle  150.1  54   \n",
       "17    Garrett, Braxton   666129           -26.2           Miami  122.0  53   \n",
       "9       Luzardo, Jesús   666200           -29.6           Miami  137.1  63   \n",
       "5          Webb, Logan   657277           -32.6   San Francisco  163.0  59   \n",
       "7         Cole, Gerrit   543037           -31.5        New York  156.1  48   \n",
       "11       Kirby, George   669923           -28.6         Seattle  144.2  50   \n",
       "18       Scherzer, Max   453286           -26.1  New York,Texas  127.2  52   \n",
       "14      Gilbert, Logan   669302           -27.8         Seattle  142.0  60   \n",
       "19      Ohtani, Shohei   660271           -26.0     Los Angeles  130.2  46   \n",
       "26   McClanahan, Shane   663556           -22.0       Tampa Bay  115.0  42   \n",
       "44  Rodriguez, Eduardo   593958           -19.9         Detroit  106.1  37   \n",
       "46       Pivetta, Nick   601713           -19.7          Boston  101.2  49   \n",
       "\n",
       "     ERA  GDP  BB   SO   BF   mlbID  xRV/BF  \n",
       "0   3.75    5  45  217  572  675911  -0.080  \n",
       "1   3.24    7  37  187  590  592332  -0.066  \n",
       "2   4.43    5  25  152  523  657746  -0.065  \n",
       "3   3.66    6  37  180  600  641154  -0.056  \n",
       "10  3.67    9  18  132  524  621107  -0.056  \n",
       "4   3.24   13  32  165  620  668678  -0.053  \n",
       "6   3.63    4  29  160  596  554430  -0.053  \n",
       "28  2.48   12  26  111  416  477132  -0.052  \n",
       "8   3.23    2  37  166  607  622491  -0.052  \n",
       "17  3.91   10  21  126  507  666129  -0.052  \n",
       "9   4.13   16  41  160  578  666200  -0.051  \n",
       "5   3.26   20  26  157  644  657277  -0.051  \n",
       "7   2.76   13  42  166  623  543037  -0.051  \n",
       "11  3.11   14  14  131  569  669923  -0.050  \n",
       "18  3.67    7  35  147  518  453286  -0.050  \n",
       "14  3.80    7  26  143  571  669302  -0.049  \n",
       "19  3.17   16  54  165  526  660271  -0.049  \n",
       "26  3.29    9  41  121  469  663556  -0.047  \n",
       "44  3.13    5  26  109  430  593958  -0.046  \n",
       "46  4.34    5  41  127  427  601713  -0.046  "
      ]
     },
     "execution_count": 59,
     "metadata": {},
     "output_type": "execute_result"
    }
   ],
   "source": [
    "df_23.loc[df_23['IP'] > 100].sort_values(by='xRV/BF').head(20)"
   ]
  },
  {
   "cell_type": "code",
   "execution_count": 60,
   "metadata": {},
   "outputs": [
    {
     "name": "stderr",
     "output_type": "stream",
     "text": [
      "C:\\Users\\wampl\\AppData\\Local\\Temp\\ipykernel_18796\\3497080820.py:1: FutureWarning: The default value of numeric_only in DataFrame.corr is deprecated. In a future version, it will default to False. Select only valid columns or specify the value of numeric_only to silence this warning.\n",
      "  df_23.corr()\n"
     ]
    },
    {
     "data": {
      "text/html": [
       "<div>\n",
       "<style scoped>\n",
       "    .dataframe tbody tr th:only-of-type {\n",
       "        vertical-align: middle;\n",
       "    }\n",
       "\n",
       "    .dataframe tbody tr th {\n",
       "        vertical-align: top;\n",
       "    }\n",
       "\n",
       "    .dataframe thead th {\n",
       "        text-align: right;\n",
       "    }\n",
       "</style>\n",
       "<table border=\"1\" class=\"dataframe\">\n",
       "  <thead>\n",
       "    <tr style=\"text-align: right;\">\n",
       "      <th></th>\n",
       "      <th>pitcher</th>\n",
       "      <th>pred_run_value</th>\n",
       "      <th>IP</th>\n",
       "      <th>ER</th>\n",
       "      <th>ERA</th>\n",
       "      <th>GDP</th>\n",
       "      <th>BB</th>\n",
       "      <th>SO</th>\n",
       "      <th>BF</th>\n",
       "      <th>mlbID</th>\n",
       "      <th>xRV/BF</th>\n",
       "    </tr>\n",
       "  </thead>\n",
       "  <tbody>\n",
       "    <tr>\n",
       "      <th>pitcher</th>\n",
       "      <td>1.000000</td>\n",
       "      <td>0.115377</td>\n",
       "      <td>-0.146017</td>\n",
       "      <td>-0.138670</td>\n",
       "      <td>0.008183</td>\n",
       "      <td>-0.114508</td>\n",
       "      <td>-0.110268</td>\n",
       "      <td>-0.125412</td>\n",
       "      <td>-0.145594</td>\n",
       "      <td>1.000000</td>\n",
       "      <td>0.003148</td>\n",
       "    </tr>\n",
       "    <tr>\n",
       "      <th>pred_run_value</th>\n",
       "      <td>0.115377</td>\n",
       "      <td>1.000000</td>\n",
       "      <td>-0.875214</td>\n",
       "      <td>-0.722386</td>\n",
       "      <td>0.209193</td>\n",
       "      <td>-0.645037</td>\n",
       "      <td>-0.679303</td>\n",
       "      <td>-0.948609</td>\n",
       "      <td>-0.856226</td>\n",
       "      <td>0.115377</td>\n",
       "      <td>0.478382</td>\n",
       "    </tr>\n",
       "    <tr>\n",
       "      <th>IP</th>\n",
       "      <td>-0.146017</td>\n",
       "      <td>-0.875214</td>\n",
       "      <td>1.000000</td>\n",
       "      <td>0.917818</td>\n",
       "      <td>-0.214395</td>\n",
       "      <td>0.837321</td>\n",
       "      <td>0.877510</td>\n",
       "      <td>0.958587</td>\n",
       "      <td>0.997699</td>\n",
       "      <td>-0.146017</td>\n",
       "      <td>-0.311504</td>\n",
       "    </tr>\n",
       "    <tr>\n",
       "      <th>ER</th>\n",
       "      <td>-0.138670</td>\n",
       "      <td>-0.722386</td>\n",
       "      <td>0.917818</td>\n",
       "      <td>1.000000</td>\n",
       "      <td>-0.108936</td>\n",
       "      <td>0.761209</td>\n",
       "      <td>0.851615</td>\n",
       "      <td>0.844173</td>\n",
       "      <td>0.936508</td>\n",
       "      <td>-0.138670</td>\n",
       "      <td>-0.198505</td>\n",
       "    </tr>\n",
       "    <tr>\n",
       "      <th>ERA</th>\n",
       "      <td>0.008183</td>\n",
       "      <td>0.209193</td>\n",
       "      <td>-0.214395</td>\n",
       "      <td>-0.108936</td>\n",
       "      <td>1.000000</td>\n",
       "      <td>-0.181183</td>\n",
       "      <td>-0.187143</td>\n",
       "      <td>-0.219845</td>\n",
       "      <td>-0.204343</td>\n",
       "      <td>0.008183</td>\n",
       "      <td>0.372198</td>\n",
       "    </tr>\n",
       "    <tr>\n",
       "      <th>GDP</th>\n",
       "      <td>-0.114508</td>\n",
       "      <td>-0.645037</td>\n",
       "      <td>0.837321</td>\n",
       "      <td>0.761209</td>\n",
       "      <td>-0.181183</td>\n",
       "      <td>1.000000</td>\n",
       "      <td>0.749957</td>\n",
       "      <td>0.751547</td>\n",
       "      <td>0.835340</td>\n",
       "      <td>-0.114508</td>\n",
       "      <td>-0.188527</td>\n",
       "    </tr>\n",
       "    <tr>\n",
       "      <th>BB</th>\n",
       "      <td>-0.110268</td>\n",
       "      <td>-0.679303</td>\n",
       "      <td>0.877510</td>\n",
       "      <td>0.851615</td>\n",
       "      <td>-0.187143</td>\n",
       "      <td>0.749957</td>\n",
       "      <td>1.000000</td>\n",
       "      <td>0.865371</td>\n",
       "      <td>0.893832</td>\n",
       "      <td>-0.110268</td>\n",
       "      <td>-0.196416</td>\n",
       "    </tr>\n",
       "    <tr>\n",
       "      <th>SO</th>\n",
       "      <td>-0.125412</td>\n",
       "      <td>-0.948609</td>\n",
       "      <td>0.958587</td>\n",
       "      <td>0.844173</td>\n",
       "      <td>-0.219845</td>\n",
       "      <td>0.751547</td>\n",
       "      <td>0.865371</td>\n",
       "      <td>1.000000</td>\n",
       "      <td>0.952292</td>\n",
       "      <td>-0.125412</td>\n",
       "      <td>-0.393070</td>\n",
       "    </tr>\n",
       "    <tr>\n",
       "      <th>BF</th>\n",
       "      <td>-0.145594</td>\n",
       "      <td>-0.856226</td>\n",
       "      <td>0.997699</td>\n",
       "      <td>0.936508</td>\n",
       "      <td>-0.204343</td>\n",
       "      <td>0.835340</td>\n",
       "      <td>0.893832</td>\n",
       "      <td>0.952292</td>\n",
       "      <td>1.000000</td>\n",
       "      <td>-0.145594</td>\n",
       "      <td>-0.294063</td>\n",
       "    </tr>\n",
       "    <tr>\n",
       "      <th>mlbID</th>\n",
       "      <td>1.000000</td>\n",
       "      <td>0.115377</td>\n",
       "      <td>-0.146017</td>\n",
       "      <td>-0.138670</td>\n",
       "      <td>0.008183</td>\n",
       "      <td>-0.114508</td>\n",
       "      <td>-0.110268</td>\n",
       "      <td>-0.125412</td>\n",
       "      <td>-0.145594</td>\n",
       "      <td>1.000000</td>\n",
       "      <td>0.003148</td>\n",
       "    </tr>\n",
       "    <tr>\n",
       "      <th>xRV/BF</th>\n",
       "      <td>0.003148</td>\n",
       "      <td>0.478382</td>\n",
       "      <td>-0.311504</td>\n",
       "      <td>-0.198505</td>\n",
       "      <td>0.372198</td>\n",
       "      <td>-0.188527</td>\n",
       "      <td>-0.196416</td>\n",
       "      <td>-0.393070</td>\n",
       "      <td>-0.294063</td>\n",
       "      <td>0.003148</td>\n",
       "      <td>1.000000</td>\n",
       "    </tr>\n",
       "  </tbody>\n",
       "</table>\n",
       "</div>"
      ],
      "text/plain": [
       "                 pitcher  pred_run_value        IP        ER       ERA  \\\n",
       "pitcher         1.000000        0.115377 -0.146017 -0.138670  0.008183   \n",
       "pred_run_value  0.115377        1.000000 -0.875214 -0.722386  0.209193   \n",
       "IP             -0.146017       -0.875214  1.000000  0.917818 -0.214395   \n",
       "ER             -0.138670       -0.722386  0.917818  1.000000 -0.108936   \n",
       "ERA             0.008183        0.209193 -0.214395 -0.108936  1.000000   \n",
       "GDP            -0.114508       -0.645037  0.837321  0.761209 -0.181183   \n",
       "BB             -0.110268       -0.679303  0.877510  0.851615 -0.187143   \n",
       "SO             -0.125412       -0.948609  0.958587  0.844173 -0.219845   \n",
       "BF             -0.145594       -0.856226  0.997699  0.936508 -0.204343   \n",
       "mlbID           1.000000        0.115377 -0.146017 -0.138670  0.008183   \n",
       "xRV/BF          0.003148        0.478382 -0.311504 -0.198505  0.372198   \n",
       "\n",
       "                     GDP        BB        SO        BF     mlbID    xRV/BF  \n",
       "pitcher        -0.114508 -0.110268 -0.125412 -0.145594  1.000000  0.003148  \n",
       "pred_run_value -0.645037 -0.679303 -0.948609 -0.856226  0.115377  0.478382  \n",
       "IP              0.837321  0.877510  0.958587  0.997699 -0.146017 -0.311504  \n",
       "ER              0.761209  0.851615  0.844173  0.936508 -0.138670 -0.198505  \n",
       "ERA            -0.181183 -0.187143 -0.219845 -0.204343  0.008183  0.372198  \n",
       "GDP             1.000000  0.749957  0.751547  0.835340 -0.114508 -0.188527  \n",
       "BB              0.749957  1.000000  0.865371  0.893832 -0.110268 -0.196416  \n",
       "SO              0.751547  0.865371  1.000000  0.952292 -0.125412 -0.393070  \n",
       "BF              0.835340  0.893832  0.952292  1.000000 -0.145594 -0.294063  \n",
       "mlbID          -0.114508 -0.110268 -0.125412 -0.145594  1.000000  0.003148  \n",
       "xRV/BF         -0.188527 -0.196416 -0.393070 -0.294063  0.003148  1.000000  "
      ]
     },
     "execution_count": 60,
     "metadata": {},
     "output_type": "execute_result"
    }
   ],
   "source": [
    "df_23.corr()"
   ]
  },
  {
   "cell_type": "code",
   "execution_count": 69,
   "metadata": {},
   "outputs": [
    {
     "data": {
      "image/png": "[encoded data removed]",
      "text/plain": [
       "<Figure size 3000x2400 with 1 Axes>"
      ]
     },
     "metadata": {},
     "output_type": "display_data"
    }
   ],
   "source": [
    "\n",
    "df_100 = df_23[df_23['IP'] > 100]\n",
    "\n",
    "plt.figure(figsize=(10, 8), dpi=300)\n",
    "sns.regplot(x='xRV/BF', y='ERA', data=df_100)\n",
    "\n",
    "for i in range(df_100.shape[0]):\n",
    "    plt.text(x=df_100['xRV/BF'].iloc[i],\n",
    "     y=df_100['ERA'].iloc[i],\n",
    "      s=df_100['player_name'].iloc[i],\n",
    "       fontdict=dict(color='black',size=4),\n",
    "        bbox=dict(facecolor='gray',alpha=0.5))\n",
    "\n",
    "plt.xlabel('xRV/BF')\n",
    "plt.ylabel('ERA')\n",
    "plt.title('ERA vs xRV/BF for pitchers with > 100 IP')\n",
    "plt.show()\n",
    "\n",
    "\n"
   ]
  },
  {
   "cell_type": "code",
   "execution_count": 140,
   "metadata": {},
   "outputs": [
    {
     "data": {
      "application/vnd.plotly.v1+json": {
       "config": {
        "plotlyServerURL": "https://plotly.com"
       },
       "data": [
        {
         "customdata": [
          [
           139.1
          ],
          [
           144.1
          ],
          [
           126
          ],
          [
           147.2
          ],
          [
           155.2
          ],
          [
           163
          ],
          [
           144
          ],
          [
           156.1
          ],
          [
           150.1
          ],
          [
           137.1
          ],
          [
           132.1
          ],
          [
           144.2
          ],
          [
           153.1
          ],
          [
           149.2
          ],
          [
           142
          ],
          [
           137.2
          ],
          [
           149.2
          ],
          [
           122
          ],
          [
           127.2
          ],
          [
           130.2
          ],
          [
           142
          ],
          [
           128
          ],
          [
           133.1
          ],
          [
           136
          ],
          [
           115
          ],
          [
           145
          ],
          [
           115
          ],
          [
           128.1
          ],
          [
           105.1
          ],
          [
           125.1
          ],
          [
           57.1
          ],
          [
           126
          ],
          [
           123.1
          ],
          [
           113.2
          ],
          [
           140.1
          ],
          [
           136.1
          ],
          [
           138
          ],
          [
           158.1
          ],
          [
           123.2
          ],
          [
           74.2
          ],
          [
           127.1
          ],
          [
           113.2
          ],
          [
           122.2
          ],
          [
           108.2
          ],
          [
           106.1
          ],
          [
           74.2
          ],
          [
           101.2
          ],
          [
           130.2
          ],
          [
           121.2
          ],
          [
           145.2
          ],
          [
           121.2
          ],
          [
           139
          ],
          [
           97.1
          ],
          [
           97.1
          ],
          [
           134.2
          ],
          [
           73.1
          ],
          [
           117.1
          ],
          [
           124
          ],
          [
           147.2
          ],
          [
           88.1
          ],
          [
           72.2
          ],
          [
           122.1
          ],
          [
           90
          ],
          [
           145.1
          ],
          [
           114.1
          ],
          [
           119.2
          ],
          [
           54.1
          ],
          [
           135.2
          ],
          [
           86.1
          ],
          [
           122.2
          ],
          [
           99.1
          ],
          [
           117
          ],
          [
           91.1
          ],
          [
           128.2
          ],
          [
           105
          ],
          [
           113.1
          ],
          [
           99.2
          ],
          [
           108.2
          ],
          [
           52
          ],
          [
           140.1
          ],
          [
           131.2
          ],
          [
           97.1
          ],
          [
           56
          ],
          [
           55.1
          ],
          [
           56
          ],
          [
           63.2
          ],
          [
           110.2
          ],
          [
           68
          ],
          [
           100.1
          ],
          [
           125.1
          ],
          [
           69.2
          ],
          [
           45.1
          ],
          [
           57.2
          ],
          [
           90.2
          ],
          [
           81
          ],
          [
           81.1
          ],
          [
           48
          ],
          [
           112.1
          ],
          [
           104
          ],
          [
           123.2
          ],
          [
           81
          ],
          [
           56.2
          ],
          [
           137.1
          ],
          [
           53.1
          ],
          [
           86
          ],
          [
           71
          ],
          [
           53.2
          ],
          [
           49.2
          ],
          [
           30.1
          ],
          [
           127.2
          ],
          [
           52.1
          ],
          [
           43.2
          ],
          [
           97.1
          ],
          [
           52
          ],
          [
           138
          ],
          [
           46.2
          ],
          [
           62
          ],
          [
           48
          ],
          [
           53.1
          ],
          [
           50.1
          ],
          [
           45.2
          ],
          [
           131.1
          ],
          [
           64
          ],
          [
           64
          ],
          [
           71
          ],
          [
           40.1
          ],
          [
           41.1
          ],
          [
           52.2
          ],
          [
           130.1
          ],
          [
           46.1
          ],
          [
           55
          ],
          [
           49
          ],
          [
           117.2
          ],
          [
           52.1
          ],
          [
           54.2
          ],
          [
           125
          ],
          [
           54.2
          ],
          [
           72.2
          ],
          [
           129.2
          ],
          [
           79.1
          ],
          [
           75.1
          ],
          [
           127.2
          ],
          [
           43
          ],
          [
           42.2
          ],
          [
           67.2
          ],
          [
           83
          ],
          [
           44
          ],
          [
           65
          ],
          [
           63.1
          ],
          [
           56.2
          ],
          [
           39
          ],
          [
           63.1
          ],
          [
           49.1
          ],
          [
           44
          ],
          [
           48.1
          ],
          [
           45
          ],
          [
           56
          ],
          [
           57
          ],
          [
           124
          ],
          [
           45
          ],
          [
           49.2
          ],
          [
           50
          ],
          [
           37.2
          ],
          [
           102
          ],
          [
           48
          ],
          [
           44.2
          ],
          [
           43
          ],
          [
           78.1
          ],
          [
           40.2
          ],
          [
           97
          ],
          [
           112
          ],
          [
           33.2
          ],
          [
           52.2
          ],
          [
           72.2
          ],
          [
           62
          ],
          [
           77
          ],
          [
           46
          ],
          [
           64
          ],
          [
           109
          ],
          [
           112.1
          ],
          [
           49.2
          ],
          [
           41.1
          ],
          [
           59.1
          ],
          [
           48.1
          ],
          [
           60.2
          ],
          [
           92.1
          ],
          [
           92.1
          ],
          [
           68.2
          ],
          [
           46
          ],
          [
           69.2
          ],
          [
           37.2
          ],
          [
           26
          ],
          [
           39.1
          ],
          [
           45
          ],
          [
           44.1
          ],
          [
           57.1
          ],
          [
           44.1
          ],
          [
           52.2
          ],
          [
           52.1
          ],
          [
           42
          ],
          [
           48.1
          ],
          [
           34.1
          ],
          [
           54.1
          ],
          [
           58.1
          ],
          [
           52
          ],
          [
           47
          ],
          [
           62.1
          ],
          [
           42
          ],
          [
           44
          ],
          [
           45.1
          ],
          [
           72
          ],
          [
           53.1
          ],
          [
           47.1
          ],
          [
           55.1
          ],
          [
           40.1
          ],
          [
           40.1
          ],
          [
           49
          ],
          [
           83.1
          ],
          [
           62.2
          ],
          [
           32.1
          ],
          [
           48.2
          ],
          [
           39.2
          ],
          [
           47
          ],
          [
           45.1
          ],
          [
           28.2
          ],
          [
           35.1
          ],
          [
           37.2
          ],
          [
           41.1
          ],
          [
           46.1
          ],
          [
           47.1
          ],
          [
           53.1
          ],
          [
           82.2
          ],
          [
           43.1
          ],
          [
           49.2
          ],
          [
           32.2
          ],
          [
           99.2
          ],
          [
           44
          ],
          [
           44.1
          ],
          [
           25.2
          ],
          [
           49
          ],
          [
           46
          ],
          [
           34.2
          ],
          [
           42
          ],
          [
           44
          ],
          [
           57.1
          ],
          [
           127
          ],
          [
           41.1
          ],
          [
           40
          ],
          [
           50
          ],
          [
           48
          ],
          [
           49
          ],
          [
           82.1
          ],
          [
           47.1
          ],
          [
           56.2
          ],
          [
           33.2
          ],
          [
           40
          ],
          [
           89
          ],
          [
           52
          ],
          [
           111.1
          ],
          [
           85.2
          ],
          [
           68.1
          ],
          [
           29
          ],
          [
           99.1
          ],
          [
           32.1
          ],
          [
           25.2
          ],
          [
           51
          ],
          [
           67.2
          ],
          [
           45.2
          ],
          [
           55.2
          ],
          [
           32
          ],
          [
           37.1
          ],
          [
           59.1
          ],
          [
           81
          ],
          [
           28.1
          ],
          [
           42.1
          ],
          [
           35.1
          ],
          [
           59.1
          ],
          [
           49.2
          ],
          [
           23.2
          ],
          [
           57.1
          ],
          [
           54.2
          ],
          [
           33.1
          ],
          [
           69
          ],
          [
           45.1
          ],
          [
           40.2
          ],
          [
           42.2
          ],
          [
           25
          ],
          [
           32.2
          ],
          [
           37.1
          ],
          [
           46.1
          ],
          [
           32.1
          ],
          [
           61
          ],
          [
           56
          ],
          [
           45.2
          ],
          [
           38
          ],
          [
           74.2
          ],
          [
           48
          ],
          [
           47.1
          ],
          [
           51
          ],
          [
           59.1
          ],
          [
           53
          ],
          [
           54.1
          ],
          [
           39.1
          ],
          [
           42
          ],
          [
           40.2
          ],
          [
           47
          ],
          [
           36.1
          ],
          [
           53.2
          ],
          [
           47.1
          ],
          [
           39.1
          ],
          [
           27
          ],
          [
           50
          ],
          [
           50.1
          ],
          [
           35.2
          ],
          [
           76.2
          ],
          [
           90.2
          ],
          [
           50
          ],
          [
           58.2
          ],
          [
           39
          ],
          [
           28.2
          ],
          [
           36.2
          ],
          [
           40.2
          ],
          [
           57.1
          ],
          [
           47
          ],
          [
           42.1
          ],
          [
           40.2
          ],
          [
           51.2
          ],
          [
           27.2
          ],
          [
           56.1
          ],
          [
           36.2
          ],
          [
           27
          ],
          [
           24.1
          ],
          [
           20.1
          ],
          [
           52.1
          ],
          [
           27.1
          ],
          [
           41.1
          ],
          [
           21
          ],
          [
           60.2
          ],
          [
           33.2
          ],
          [
           66.2
          ],
          [
           29.2
          ],
          [
           54.2
          ],
          [
           34.1
          ],
          [
           61.1
          ],
          [
           31
          ],
          [
           36.2
          ],
          [
           33.2
          ],
          [
           50
          ],
          [
           48.1
          ],
          [
           55
          ],
          [
           34
          ],
          [
           48
          ],
          [
           23
          ],
          [
           48.1
          ],
          [
           44
          ],
          [
           45
          ],
          [
           34.2
          ],
          [
           42.1
          ],
          [
           22
          ],
          [
           62.1
          ],
          [
           38.1
          ],
          [
           44.1
          ],
          [
           38
          ],
          [
           61.1
          ],
          [
           26.1
          ],
          [
           48.1
          ],
          [
           36
          ],
          [
           29.1
          ],
          [
           35
          ],
          [
           41.1
          ],
          [
           23.1
          ],
          [
           42.2
          ],
          [
           23.2
          ],
          [
           30
          ],
          [
           31.1
          ],
          [
           21.1
          ],
          [
           29.1
          ],
          [
           24.2
          ],
          [
           33.1
          ],
          [
           44.1
          ],
          [
           28
          ],
          [
           29
          ],
          [
           37.1
          ],
          [
           81
          ],
          [
           49
          ],
          [
           23.2
          ],
          [
           36
          ],
          [
           27.1
          ],
          [
           25.2
          ],
          [
           27.1
          ],
          [
           42.2
          ],
          [
           86.1
          ],
          [
           20.2
          ],
          [
           32.1
          ],
          [
           29
          ],
          [
           38.1
          ],
          [
           40
          ],
          [
           31.1
          ],
          [
           30
          ],
          [
           50.2
          ],
          [
           23.2
          ],
          [
           72.1
          ],
          [
           23.1
          ],
          [
           20.1
          ],
          [
           48.1
          ],
          [
           40
          ],
          [
           26
          ],
          [
           21.1
          ],
          [
           25
          ],
          [
           22.2
          ],
          [
           43.1
          ],
          [
           84.1
          ],
          [
           41
          ],
          [
           21.1
          ],
          [
           47
          ],
          [
           22.1
          ],
          [
           23.2
          ],
          [
           66.2
          ],
          [
           21.2
          ],
          [
           25.2
          ],
          [
           30.2
          ],
          [
           67
          ],
          [
           23
          ],
          [
           38
          ],
          [
           38
          ],
          [
           31
          ],
          [
           31.1
          ],
          [
           31.2
          ],
          [
           29.1
          ],
          [
           61.2
          ],
          [
           26.1
          ],
          [
           24.1
          ],
          [
           21.2
          ],
          [
           42.2
          ],
          [
           22
          ],
          [
           22.1
          ],
          [
           27.2
          ],
          [
           24.1
          ],
          [
           51.2
          ],
          [
           23.2
          ],
          [
           39.1
          ],
          [
           52
          ],
          [
           50.1
          ],
          [
           24.1
          ],
          [
           41
          ],
          [
           37
          ],
          [
           29.2
          ],
          [
           23.1
          ],
          [
           53.2
          ],
          [
           45.1
          ],
          [
           30.2
          ],
          [
           29
          ],
          [
           35.1
          ],
          [
           22
          ],
          [
           24.1
          ],
          [
           24.1
          ],
          [
           31
          ],
          [
           39.2
          ],
          [
           21.2
          ],
          [
           87.1
          ],
          [
           21.1
          ],
          [
           26.2
          ],
          [
           27
          ],
          [
           20.2
          ],
          [
           30.1
          ],
          [
           28.2
          ],
          [
           45
          ],
          [
           20.2
          ],
          [
           38.1
          ],
          [
           22.1
          ],
          [
           32
          ],
          [
           50
          ],
          [
           26
          ],
          [
           21.2
          ],
          [
           42.2
          ],
          [
           43.1
          ]
         ],
         "hovertemplate": "<b>%{hovertext}</b><br><br>xRV/BF=%{x}<br>ERA=%{y}<br>IP=%{customdata[0]}<extra></extra>",
         "hovertext": [
          "Strider, Spencer",
          "Gausman, Kevin",
          "Ryan, Joe",
          "López, Pablo",
          "Gallen, Zac",
          "Webb, Logan",
          "Wheeler, Zack",
          "Cole, Gerrit",
          "Castillo, Luis",
          "Luzardo, Jesús",
          "Eflin, Zach",
          "Kirby, George",
          "Nola, Aaron",
          "Valdez, Framber",
          "Gilbert, Logan",
          "Lynn, Lance",
          "Keller, Mitch",
          "Garrett, Braxton",
          "Scherzer, Max",
          "Ohtani, Shohei",
          "Giolito, Lucas",
          "Peralta, Freddy",
          "Cease, Dylan",
          "Snell, Blake",
          "Detmers, Reid",
          "Burnes, Corbin",
          "McClanahan, Shane",
          "Kikuchi, Yusei",
          "Kershaw, Clayton",
          "Brown, Hunter",
          "Bautista, Félix",
          "Steele, Justin",
          "Gore, MacKenzie",
          "Ober, Bailey",
          "Berríos, José",
          "Gray, Sonny",
          "Kremer, Dean",
          "Alcantara, Sandy",
          "Eovaldi, Nathan",
          "Glasnow, Tyler",
          "Darvish, Yu",
          "Wells, Tyler",
          "Senga, Kodai",
          "Germán, Domingo",
          "Rodriguez, Eduardo",
          "Bradley, Taj",
          "Pivetta, Nick",
          "Sears, JP",
          "Cobb, Alex",
          "Bassitt, Chris",
          "Bradish, Kyle",
          "Montgomery, Jordan",
          "Lugo, Seth",
          "Musgrove, Joe",
          "Morton, Charlie",
          "Greene, Hunter",
          "Schmidt, Clarke",
          "Kelly, Merrill",
          "Mikolas, Miles",
          "Canning, Griffin",
          "Strahm, Matt",
          "Javier, Cristian",
          "Crawford, Kutter",
          "Gibson, Kyle",
          "Heaney, Andrew",
          "Smyly, Drew",
          "Richards, Trevor",
          "Singer, Brady",
          "Paxton, James",
          "Lorenzen, Michael",
          "Urías, Julio",
          "Bieber, Shane",
          "Miller, Bryce",
          "Stroman, Marcus",
          "Matz, Steven",
          "Bello, Brayan",
          "DeSclafani, Anthony",
          "Bibee, Tanner",
          "Brash, Matt",
          "Oviedo, Johan",
          "Walker, Taijuan",
          "Allen, Logan",
          "Scott, Tanner",
          "Payamps, Joel",
          "Abreu, Bryan",
          "Sale, Chris",
          "Greinke, Zack",
          "Junis, Jakob",
          "Rea, Colin",
          "Hill, Rich",
          "Maeda, Kenta",
          "Chapman, Aroldis",
          "Hernández, Carlos",
          "Wacha, Michael",
          "Manaea, Sean",
          "Abbott, Andrew",
          "Sewald, Paul",
          "Verlander, Justin",
          "Taillon, Jameson",
          "Flaherty, Jack",
          "Rodriguez, Grayson",
          "McGough, Scott",
          "Corbin, Patrick",
          "Doval, Camilo",
          "Martinez, Nick",
          "Boyd, Matthew",
          "Alzolay, Adbert",
          "Bednar, David",
          "deGrom, Jacob",
          "Gray, Jon",
          "Pressly, Ryan",
          "Nelson, Kyle",
          "Suárez, Ranger",
          "Kimbrel, Craig",
          "Elder, Bryce",
          "Duran, Jhoan",
          "Pérez, Eury",
          "Minter, A.J.",
          "Merryweather, Julian",
          "García, Yimi",
          "Sborz, Josh",
          "Lyles, Jordan",
          "Stratton, Chris",
          "Grove, Michael",
          "Lively, Ben",
          "Puk, A.J.",
          "Nardi, Andrew",
          "Díaz, Alexis",
          "Gomber, Austin",
          "Williams, Devin",
          "Woo, Bryan",
          "Cruz, Fernando",
          "Williams, Trevor",
          "Leiter Jr., Mark",
          "Swanson, Erik",
          "Nelson, Ryne",
          "Whitlock, Garrett",
          "Peterson, David",
          "Gray, Josiah",
          "Wentz, Joey",
          "Miller, Bobby",
          "Dunning, Dane",
          "Romano, Jordan",
          "Hader, Josh",
          "Houck, Tanner",
          "Medina, Luis",
          "Alexander, Tyler",
          "King, Michael",
          "Olson, Reese",
          "Cano, Yennier",
          "Coulombe, Danny",
          "Cortes, Nestor",
          "Johnson, Pierce",
          "Smith, Will",
          "Moreta, Dauri",
          "Okert, Steven",
          "Varland, Louie",
          "Santos, Gregory",
          "Freeland, Kyle",
          "Phillips, Evan",
          "López, Reynaldo",
          "Robertson, David",
          "Iglesias, Raisel",
          "France, J.P.",
          "Gallegos, Giovanny",
          "Rasmussen, Drew",
          "Jiménez, Joe",
          "Stripling, Ross",
          "Speier, Gabe",
          "Weaver, Luke",
          "Kopech, Michael",
          "Vesia, Alex",
          "Foley, Jason",
          "Blackburn, Paul",
          "Holton, Tyler",
          "Cabrera, Edward",
          "Holmes, Clay",
          "Winckowski, Josh",
          "Anderson, Tyler",
          "Sandoval, Patrick",
          "Jax, Griffin",
          "Harvey, Hunter",
          "Lawrence, Justin",
          "Estévez, Carlos",
          "Tonkin, Michael",
          "Civale, Aaron",
          "Hendricks, Kyle",
          "Barria, Jaime",
          "Floro, Dylan",
          "Wesneski, Hayden",
          "Stephenson, Robert",
          "Alvarado, José",
          "Chafin, Andrew",
          "Cisnero, José",
          "Walker, Ryan",
          "Rogers, Tyler",
          "Sandlin, Nick",
          "Pagán, Emilio",
          "Stephan, Trevor",
          "Holderman, Colin",
          "Hicks, Jordan",
          "Lodolo, Nick",
          "Clase, Emmanuel",
          "Sánchez, Cristopher",
          "Finnegan, Kyle",
          "Yates, Kirby",
          "Beck, Tristan",
          "Mayza, Tim",
          "Middleton, Keynan",
          "Bummer, Aaron",
          "Bird, Jake",
          "Maton, Phil",
          "Topa, Justin",
          "Farmer, Buck",
          "Martin, Chris",
          "Jansen, Kenley",
          "Morgan, Eli",
          "Houser, Adrian",
          "Teheran, Julio",
          "Muñoz, Andrés",
          "Milner, Hoby",
          "Bernardino, Brennan",
          "Burke, Brock",
          "Moll, Sam",
          "Brebbia, John",
          "Anderson, Nick",
          "Hernandez, Jose",
          "Shreve, Chasen",
          "Barlow, Scott",
          "Littell, Zack",
          "Fulmer, Michael",
          "Miley, Wade",
          "Hamilton, Ian",
          "Neris, Hector",
          "Kelly, Joe",
          "Gonsolin, Tony",
          "Cabrera, Génesis",
          "Ferguson, Caleb",
          "Stewart, Brock",
          "Adam, Jason",
          "Clarke, Taylor",
          "Hoffman, Jeff",
          "Baker, Bryan",
          "Gott, Trevor",
          "Wilson, Bryse",
          "Ashcraft, Graham",
          "Rogers, Taylor",
          "Bradford, Cody",
          "Bickford, Phil",
          "VerHagen, Drew",
          "Ginkel, Kevin",
          "Seabold, Connor",
          "Cuas, Jose",
          "Brazoban, Huascar",
          "Devenski, Chris",
          "Pearson, Nate",
          "Henry, Tommy",
          "Graterol, Brusdar",
          "Pérez, Martín",
          "Clevinger, Mike",
          "Contreras, Roansy",
          "Chavez, Jesse",
          "Waldichuk, Ken",
          "Skubal, Tarik",
          "Mahle, Tyler",
          "Montero, Rafael",
          "Severino, Luis",
          "Young, Alex",
          "Suter, Brent",
          "Vest, Will",
          "Leone, Dominic",
          "Baumann, Mike",
          "Williamson, Brandon",
          "Perdomo, Angel",
          "Moran, Jovani",
          "Erceg, Lucas",
          "Lambert, Peter",
          "Wilson, Steven",
          "Akin, Keegan",
          "Gibaut, Ian",
          "Pfaadt, Brandon",
          "Armstrong, Shawn",
          "Curry, Xzavion",
          "Faedo, Alex",
          "Hand, Brad",
          "Lauer, Eric",
          "Helsley, Ryan",
          "Cordero, Jimmy",
          "Velasquez, Vince",
          "Marinaccio, Ron",
          "Anderson, Grant",
          "Kaprielian, James",
          "Englert, Mason",
          "Soto, Gregory",
          "Moore, Matt",
          "Bielak, Brandon",
          "Almonte, Yency",
          "Hoeing, Bryan",
          "Abreu, Albert",
          "Harris, Hogan",
          "Irvin, Cole",
          "Kelly, Kevin",
          "Rucker, Michael",
          "Fried, Max",
          "Martinez, Seth",
          "Lange, Alex",
          "Leclerc, José",
          "Falter, Bailey",
          "Thompson, Mason",
          "Beeks, Jalen",
          "Garcia, Luis",
          "Blanco, Ronel",
          "De Los Santos, Enyel",
          "Strzelecki, Peter",
          "Syndergaard, Noah",
          "Irvin, Jake",
          "Castro, Miguel",
          "Manning, Matt",
          "Banks, Tanner",
          "Fairbanks, Pete",
          "Davidson, Tucker",
          "Smith, Drew",
          "Davies, Zach",
          "Ragans, Cole",
          "Raley, Brooks",
          "Jameson, Drey",
          "Graveman, Kendall",
          "Karinchak, James",
          "Scholtens, Jesse",
          "Loup, Aaron",
          "Soriano, José",
          "Herrin, Tim",
          "Lee, Dylan",
          "Lynch, Daniel",
          "Kahnle, Tommy",
          "Stanek, Ryne",
          "Mantiply, Joe",
          "Anderson, Chase",
          "Murphy, Chris",
          "Assad, Javier",
          "Brigham, Jeff",
          "Williams, Gavin",
          "Cosgrove, Tom",
          "Fujinami, Shintaro",
          "Voth, Austin",
          "Webb, Jacob",
          "Ramirez, Nick",
          "Gonzales, Marco",
          "Honeywell, Brent",
          "Kluber, Corey",
          "Domínguez, Seranthony",
          "May, Dustin",
          "Ort, Kaleb",
          "Pruitt, Austin",
          "Poche, Colin",
          "Sims, Lucas",
          "Battenfield, Peyton",
          "Vasquez, Andrew",
          "Jackson, Jay",
          "Brito, Jhony",
          "Weems, Jordan",
          "Brasier, Ryan",
          "Saucedo, Tayler",
          "Yarbrough, Ryan",
          "Jackson, Andre",
          "Peguero, Elvis",
          "Soriano, George",
          "Lambert, Jimmy",
          "Marte, Yunior",
          "Silseth, Chase",
          "Borucki, Ryan",
          "García, Luis",
          "Hunter, Tommy",
          "Romero, JoJo",
          "White, Brendan",
          "Miller, Mason",
          "Chargois, JT",
          "González, Victor",
          "Hentges, Sam",
          "Ruiz, José",
          "Criswell, Cooper",
          "Brogdon, Connor",
          "Alexander, Scott",
          "Chirinos, Yonny",
          "Ottavino, Adam",
          "Wantz, Andrew",
          "Urquidy, José",
          "Schreiber, John",
          "Faucher, Calvin",
          "Machado, Andrés",
          "Long, Sam",
          "Megill, Tylor",
          "Carlton, Drew",
          "Cueto, Johnny",
          "Covey, Dylan",
          "Sheehan, Emmet",
          "Diekman, Jake",
          "Martínez, Adrián",
          "Miller, Shelby",
          "McHugh, Collin",
          "Francis, Bowden",
          "Wood, Alex",
          "Lovelady, Richard",
          "Headrick, Brent",
          "Weathers, Ryan",
          "Law, Derek",
          "Bruihl, Justin",
          "Barnes, Matt",
          "Thompson, Zack",
          "Woodruff, Brandon",
          "López, Jorge",
          "Carrasco, Carlos",
          "Bido, Osvaldo",
          "Plesac, Zach",
          "Pallante, Andre",
          "Lucchesi, Joey",
          "Mlodzinski, Carmen",
          "Wainwright, Adam",
          "Hernández, Jonathan",
          "Nogosek, Stephen",
          "Bleier, Richard",
          "Quantrill, Cal",
          "Koch, Matt",
          "Marsh, Alec",
          "Hudson, Dakota",
          "Cox, Austin",
          "Gaddis, Hunter",
          "Edwards Jr., Carl",
          "Soroka, Michael",
          "Flexen, Chris",
          "Mayers, Mike",
          "Garrett, Amir",
          "Smith-Shawver, AJ",
          "Hill, Tim",
          "Winn, Keaton",
          "King, John",
          "Lamet, Dinelson",
          "Suarez, José",
          "Fleming, Josh",
          "Hartwig, Grant",
          "Ramírez, Erasmo",
          "Muller, Kyle",
          "Toussaint, Touki",
          "De Los Santos, Yerry",
          "Pérez, Cionel",
          "Blach, Ty",
          "Quintana, José",
          "Balazovic, Jordan",
          "Ortiz, Luis L.",
          "Peralta, Wandy",
          "Ramirez, Yohan",
          "Wittgren, Nick",
          "Feltner, Ryan",
          "Herget, Kevin",
          "Dodd, Dylan",
          "Underwood Jr., Duane",
          "Turnbull, Spencer",
          "Woodford, Jake",
          "Carasiti, Matt",
          "Manoah, Alek",
          "Thompson, Keegan",
          "Abbott, Cory",
          "Rodón, Carlos",
          "La Sorsa, Joe",
          "Ward, Thaddeus",
          "Priester, Quinn",
          "Shuster, Jared",
          "Cimber, Adam",
          "Kuhl, Chad",
          "Vásquez, Randy",
          "May, Trevor",
          "Liberatore, Matthew",
          "Cessa, Luis",
          "Kauffmann, Karl",
          "Bard, Daniel",
          "Keller, Brad"
         ],
         "legendgroup": "",
         "marker": {
          "color": "#636efa",
          "symbol": "circle"
         },
         "mode": "markers",
         "name": "",
         "orientation": "v",
         "showlegend": false,
         "type": "scatter",
         "x": [
          -0.08,
          -0.066,
          -0.065,
          -0.056,
          -0.053,
          -0.051,
          -0.053,
          -0.051,
          -0.052,
          -0.051,
          -0.056,
          -0.05,
          -0.045,
          -0.046,
          -0.049,
          -0.044,
          -0.042,
          -0.052,
          -0.05,
          -0.049,
          -0.04,
          -0.044,
          -0.039,
          -0.04,
          -0.045,
          -0.037,
          -0.047,
          -0.042,
          -0.052,
          -0.042,
          -0.096,
          -0.041,
          -0.04,
          -0.045,
          -0.036,
          -0.036,
          -0.035,
          -0.031,
          -0.042,
          -0.067,
          -0.038,
          -0.044,
          -0.038,
          -0.045,
          -0.046,
          -0.06,
          -0.046,
          -0.035,
          -0.037,
          -0.03,
          -0.038,
          -0.032,
          -0.046,
          -0.046,
          -0.03,
          -0.056,
          -0.034,
          -0.034,
          -0.027,
          -0.045,
          -0.058,
          -0.032,
          -0.045,
          -0.027,
          -0.034,
          -0.031,
          -0.072,
          -0.027,
          -0.045,
          -0.033,
          -0.038,
          -0.032,
          -0.041,
          -0.028,
          -0.033,
          -0.031,
          -0.036,
          -0.033,
          -0.063,
          -0.024,
          -0.026,
          -0.034,
          -0.063,
          -0.067,
          -0.061,
          -0.052,
          -0.03,
          -0.047,
          -0.032,
          -0.024,
          -0.048,
          -0.072,
          -0.056,
          -0.036,
          -0.038,
          -0.04,
          -0.068,
          -0.028,
          -0.029,
          -0.023,
          -0.036,
          -0.052,
          -0.021,
          -0.058,
          -0.034,
          -0.041,
          -0.059,
          -0.06,
          -0.105,
          -0.023,
          -0.058,
          -0.065,
          -0.028,
          -0.058,
          -0.021,
          -0.061,
          -0.046,
          -0.062,
          -0.051,
          -0.054,
          -0.065,
          -0.021,
          -0.045,
          -0.04,
          -0.037,
          -0.065,
          -0.066,
          -0.052,
          -0.02,
          -0.06,
          -0.047,
          -0.052,
          -0.02,
          -0.05,
          -0.049,
          -0.02,
          -0.046,
          -0.032,
          -0.019,
          -0.028,
          -0.034,
          -0.02,
          -0.058,
          -0.062,
          -0.036,
          -0.028,
          -0.057,
          -0.038,
          -0.039,
          -0.047,
          -0.064,
          -0.038,
          -0.045,
          -0.06,
          -0.05,
          -0.056,
          -0.042,
          -0.041,
          -0.019,
          -0.059,
          -0.047,
          -0.05,
          -0.063,
          -0.023,
          -0.05,
          -0.054,
          -0.053,
          -0.029,
          -0.062,
          -0.021,
          -0.019,
          -0.06,
          -0.044,
          -0.029,
          -0.039,
          -0.027,
          -0.048,
          -0.034,
          -0.019,
          -0.018,
          -0.044,
          -0.056,
          -0.037,
          -0.042,
          -0.038,
          -0.024,
          -0.023,
          -0.031,
          -0.045,
          -0.03,
          -0.058,
          -0.08,
          -0.05,
          -0.043,
          -0.047,
          -0.036,
          -0.049,
          -0.04,
          -0.038,
          -0.046,
          -0.038,
          -0.049,
          -0.036,
          -0.035,
          -0.04,
          -0.042,
          -0.031,
          -0.049,
          -0.044,
          -0.04,
          -0.026,
          -0.036,
          -0.041,
          -0.035,
          -0.05,
          -0.048,
          -0.036,
          -0.021,
          -0.031,
          -0.056,
          -0.039,
          -0.046,
          -0.039,
          -0.038,
          -0.065,
          -0.053,
          -0.046,
          -0.041,
          -0.035,
          -0.037,
          -0.034,
          -0.022,
          -0.041,
          -0.036,
          -0.051,
          -0.017,
          -0.039,
          -0.037,
          -0.073,
          -0.035,
          -0.034,
          -0.049,
          -0.04,
          -0.036,
          -0.029,
          -0.013,
          -0.04,
          -0.041,
          -0.03,
          -0.031,
          -0.036,
          -0.017,
          -0.03,
          -0.026,
          -0.047,
          -0.039,
          -0.017,
          -0.033,
          -0.013,
          -0.018,
          -0.022,
          -0.055,
          -0.014,
          -0.049,
          -0.063,
          -0.029,
          -0.019,
          -0.032,
          -0.028,
          -0.047,
          -0.04,
          -0.025,
          -0.019,
          -0.056,
          -0.034,
          -0.036,
          -0.024,
          -0.031,
          -0.054,
          -0.026,
          -0.025,
          -0.048,
          -0.021,
          -0.034,
          -0.034,
          -0.032,
          -0.058,
          -0.045,
          -0.036,
          -0.029,
          -0.042,
          -0.02,
          -0.023,
          -0.03,
          -0.039,
          -0.017,
          -0.026,
          -0.028,
          -0.024,
          -0.02,
          -0.023,
          -0.024,
          -0.031,
          -0.032,
          -0.028,
          -0.025,
          -0.035,
          -0.022,
          -0.026,
          -0.028,
          -0.044,
          -0.023,
          -0.026,
          -0.032,
          -0.015,
          -0.013,
          -0.024,
          -0.02,
          -0.029,
          -0.042,
          -0.027,
          -0.027,
          -0.018,
          -0.023,
          -0.025,
          -0.026,
          -0.021,
          -0.038,
          -0.02,
          -0.026,
          -0.037,
          -0.042,
          -0.052,
          -0.019,
          -0.039,
          -0.025,
          -0.051,
          -0.016,
          -0.03,
          -0.015,
          -0.034,
          -0.019,
          -0.03,
          -0.014,
          -0.028,
          -0.026,
          -0.028,
          -0.019,
          -0.019,
          -0.016,
          -0.025,
          -0.021,
          -0.037,
          -0.02,
          -0.022,
          -0.021,
          -0.027,
          -0.021,
          -0.047,
          -0.015,
          -0.024,
          -0.021,
          -0.024,
          -0.015,
          -0.032,
          -0.018,
          -0.024,
          -0.026,
          -0.022,
          -0.021,
          -0.038,
          -0.018,
          -0.033,
          -0.028,
          -0.025,
          -0.04,
          -0.029,
          -0.033,
          -0.023,
          -0.016,
          -0.027,
          -0.025,
          -0.021,
          -0.009,
          -0.015,
          -0.032,
          -0.02,
          -0.027,
          -0.025,
          -0.025,
          -0.016,
          -0.008,
          -0.034,
          -0.022,
          -0.023,
          -0.018,
          -0.016,
          -0.022,
          -0.023,
          -0.012,
          -0.03,
          -0.008,
          -0.028,
          -0.029,
          -0.012,
          -0.015,
          -0.023,
          -0.025,
          -0.023,
          -0.029,
          -0.013,
          -0.007,
          -0.013,
          -0.023,
          -0.012,
          -0.025,
          -0.023,
          -0.006,
          -0.021,
          -0.018,
          -0.015,
          -0.007,
          -0.023,
          -0.011,
          -0.012,
          -0.015,
          -0.013,
          -0.013,
          -0.014,
          -0.006,
          -0.014,
          -0.015,
          -0.018,
          -0.009,
          -0.018,
          -0.017,
          -0.011,
          -0.013,
          -0.007,
          -0.013,
          -0.008,
          -0.006,
          -0.006,
          -0.012,
          -0.007,
          -0.008,
          -0.011,
          -0.012,
          -0.005,
          -0.006,
          -0.007,
          -0.008,
          -0.005,
          -0.009,
          -0.008,
          -0.009,
          -0.006,
          -0.004,
          -0.007,
          -0.002,
          -0.005,
          -0.002,
          -0.002,
          -0.002,
          -0.001,
          0.001,
          0.001,
          0.001,
          0.002,
          0.004,
          0.003,
          0.003,
          0.008,
          0.022,
          0.013,
          0.023
         ],
         "xaxis": "x",
         "y": [
          3.75,
          3.24,
          4.43,
          3.66,
          3.24,
          3.26,
          3.63,
          2.76,
          3.23,
          4.13,
          3.67,
          3.11,
          4.58,
          3.31,
          3.8,
          5.88,
          4.27,
          3.91,
          3.67,
          3.17,
          4.44,
          4.08,
          4.32,
          2.65,
          4.93,
          3.6,
          3.29,
          3.44,
          2.48,
          4.16,
          1.57,
          2.79,
          4.38,
          3.4,
          3.53,
          3.04,
          4.5,
          4.09,
          2.69,
          3.01,
          4.24,
          3.8,
          3.3,
          4.56,
          3.13,
          5.67,
          4.34,
          4.27,
          3.62,
          3.95,
          3.18,
          3.3,
          4.16,
          3.05,
          3.54,
          3.93,
          4.76,
          3.05,
          4.27,
          4.69,
          3.34,
          4.49,
          3.8,
          4.89,
          4.17,
          4.96,
          2.98,
          4.91,
          3.34,
          3.23,
          4.35,
          3.77,
          4.04,
          3.85,
          3.86,
          3.81,
          4.88,
          2.9,
          3.46,
          4.55,
          4.03,
          3.33,
          2.73,
          1.79,
          2.25,
          4.52,
          5.53,
          4.1,
          5.11,
          5.17,
          4.13,
          2.18,
          4.37,
          2.68,
          4.89,
          2.99,
          3.19,
          3.36,
          5.71,
          4.73,
          5.44,
          4.76,
          4.85,
          2.36,
          3.66,
          5.45,
          2.52,
          1.99,
          2.67,
          3.52,
          2.92,
          3.09,
          3.88,
          3.12,
          3.46,
          2.89,
          3.19,
          4.31,
          3.54,
          4.11,
          3.94,
          6.3,
          3.94,
          6.61,
          5.2,
          4.46,
          3.27,
          2.39,
          5.52,
          1.36,
          4.75,
          4.59,
          5.2,
          2.75,
          3.29,
          5.47,
          5.6,
          5.45,
          3.96,
          7.03,
          3.7,
          3.1,
          2.72,
          0.84,
          5.05,
          5.31,
          4.5,
          2.91,
          4.83,
          1.75,
          2.77,
          4.97,
          4.74,
          3.27,
          4.1,
          3,
          5.3,
          3,
          4.94,
          2.6,
          3.81,
          2.52,
          3.11,
          2.74,
          3.75,
          2.62,
          2.72,
          5.29,
          3.32,
          6.87,
          4.58,
          5.61,
          2.56,
          4.09,
          1.74,
          4.79,
          2.74,
          2.81,
          5.28,
          4.09,
          3.62,
          3.05,
          3.49,
          3.35,
          3.56,
          2.44,
          4,
          4.33,
          4.3,
          4.65,
          4.06,
          1.38,
          4.58,
          4.4,
          2.23,
          2.51,
          3.65,
          3.08,
          2.92,
          3.21,
          3.72,
          6.29,
          3.15,
          3.39,
          2.6,
          2.87,
          3.61,
          1.07,
          3.48,
          6.55,
          3.88,
          3.04,
          2.28,
          4.07,
          1.34,
          2.9,
          3.31,
          4.43,
          4.74,
          2.78,
          2.59,
          2.72,
          2.87,
          4.17,
          3.14,
          3.06,
          4.06,
          4.79,
          5.83,
          3.99,
          4.05,
          3.05,
          1.87,
          1.81,
          4.41,
          4.24,
          3.68,
          2.84,
          0.7,
          2.76,
          5.87,
          2.86,
          3.64,
          3.89,
          3.3,
          4.89,
          2.83,
          4.5,
          5.94,
          4.31,
          2.02,
          7.65,
          3.99,
          4.29,
          5.08,
          5.18,
          4.15,
          1.56,
          4.85,
          3.26,
          6.59,
          1.55,
          6.07,
          4.18,
          3.16,
          5.47,
          7.98,
          2.96,
          2.43,
          3.09,
          4.34,
          3.64,
          4.33,
          3.18,
          5.31,
          6.62,
          5.46,
          3.44,
          6.85,
          3.3,
          6.91,
          1.08,
          3.39,
          5.16,
          4.43,
          5.48,
          3.24,
          3.86,
          3.86,
          4.08,
          4.73,
          6.34,
          5.46,
          4.73,
          1.66,
          3.74,
          5.06,
          4.37,
          4.76,
          6.98,
          4.92,
          3.48,
          5.03,
          2.57,
          5.31,
          3.83,
          2.97,
          4.86,
          4.56,
          6.41,
          4,
          4.68,
          2.86,
          4.54,
          6.57,
          4.76,
          4.5,
          4.6,
          4.85,
          2.83,
          6.63,
          4.2,
          7.38,
          4.21,
          2.55,
          3.32,
          3.31,
          3.9,
          3.2,
          5.65,
          3.33,
          5.55,
          3.1,
          4.64,
          1.98,
          4.14,
          6.86,
          6.08,
          2.94,
          3.11,
          5.16,
          2.8,
          1.57,
          8.07,
          4.94,
          3.44,
          2.67,
          5.22,
          3.91,
          7.04,
          4.24,
          2.63,
          6.26,
          2.98,
          2.25,
          4,
          5.19,
          2.13,
          1.64,
          4.76,
          2.82,
          4.06,
          2.13,
          3.82,
          5.47,
          3.91,
          2.25,
          5.52,
          5.14,
          3.27,
          3.86,
          5.06,
          6.85,
          3.6,
          4.88,
          3.38,
          3.68,
          5.11,
          5.4,
          5.89,
          4.82,
          4.03,
          4.1,
          5.22,
          3.31,
          4.56,
          5.5,
          2.96,
          7.01,
          6.26,
          5.27,
          5.53,
          4.35,
          5.57,
          4.66,
          5.63,
          4.73,
          5.17,
          2.4,
          3.55,
          1.9,
          4.85,
          4.63,
          6.2,
          6.89,
          2.7,
          5.19,
          5.48,
          3.96,
          1.99,
          5.82,
          6.4,
          5.05,
          7.59,
          4.79,
          4.43,
          2.28,
          8.78,
          6.65,
          5.61,
          5.28,
          6.45,
          1.57,
          5.68,
          4.03,
          3.77,
          5.17,
          3.69,
          5.52,
          7.74,
          6.15,
          3.33,
          4.57,
          4.22,
          4.09,
          4.84,
          11.71,
          9.62,
          4.7,
          4.94,
          5.72,
          7.79,
          4.47,
          3.33,
          3.95,
          4.14,
          3.03,
          3.47,
          4.86,
          3.18,
          4.11,
          4.97,
          5.86,
          5.73,
          7.4,
          5.18,
          7.26,
          5.67,
          7.06,
          5.87,
          4.22,
          5.06,
          7.33,
          5.66,
          7.12,
          9.1,
          5,
          7.4,
          8.45,
          2.42,
          4.78,
          6.12,
          9,
          8.72,
          3.59,
          4.36
         ],
         "yaxis": "y"
        },
        {
         "hovertemplate": "<b>OLS trendline</b><br>ERA = 42.207 * xRV/BF + 5.59521<br>R<sup>2</sup>=0.242148<br><br>xRV/BF=%{x}<br>ERA=%{y} <b>(trend)</b><extra></extra>",
         "legendgroup": "",
         "marker": {
          "color": "#636efa",
          "symbol": "circle"
         },
         "mode": "lines",
         "name": "",
         "showlegend": false,
         "type": "scatter",
         "x": [
          -0.105,
          -0.096,
          -0.08,
          -0.08,
          -0.073,
          -0.072,
          -0.072,
          -0.068,
          -0.067,
          -0.067,
          -0.066,
          -0.066,
          -0.065,
          -0.065,
          -0.065,
          -0.065,
          -0.065,
          -0.064,
          -0.063,
          -0.063,
          -0.063,
          -0.063,
          -0.062,
          -0.062,
          -0.062,
          -0.061,
          -0.061,
          -0.06,
          -0.06,
          -0.06,
          -0.06,
          -0.06,
          -0.059,
          -0.059,
          -0.058,
          -0.058,
          -0.058,
          -0.058,
          -0.058,
          -0.058,
          -0.058,
          -0.057,
          -0.056,
          -0.056,
          -0.056,
          -0.056,
          -0.056,
          -0.056,
          -0.056,
          -0.056,
          -0.055,
          -0.054,
          -0.054,
          -0.054,
          -0.053,
          -0.053,
          -0.053,
          -0.053,
          -0.052,
          -0.052,
          -0.052,
          -0.052,
          -0.052,
          -0.052,
          -0.052,
          -0.052,
          -0.051,
          -0.051,
          -0.051,
          -0.051,
          -0.051,
          -0.051,
          -0.05,
          -0.05,
          -0.05,
          -0.05,
          -0.05,
          -0.05,
          -0.05,
          -0.05,
          -0.049,
          -0.049,
          -0.049,
          -0.049,
          -0.049,
          -0.049,
          -0.049,
          -0.049,
          -0.048,
          -0.048,
          -0.048,
          -0.048,
          -0.047,
          -0.047,
          -0.047,
          -0.047,
          -0.047,
          -0.047,
          -0.047,
          -0.047,
          -0.047,
          -0.046,
          -0.046,
          -0.046,
          -0.046,
          -0.046,
          -0.046,
          -0.046,
          -0.046,
          -0.046,
          -0.046,
          -0.045,
          -0.045,
          -0.045,
          -0.045,
          -0.045,
          -0.045,
          -0.045,
          -0.045,
          -0.045,
          -0.045,
          -0.045,
          -0.044,
          -0.044,
          -0.044,
          -0.044,
          -0.044,
          -0.044,
          -0.044,
          -0.043,
          -0.042,
          -0.042,
          -0.042,
          -0.042,
          -0.042,
          -0.042,
          -0.042,
          -0.042,
          -0.042,
          -0.042,
          -0.041,
          -0.041,
          -0.041,
          -0.041,
          -0.041,
          -0.041,
          -0.041,
          -0.041,
          -0.04,
          -0.04,
          -0.04,
          -0.04,
          -0.04,
          -0.04,
          -0.04,
          -0.04,
          -0.04,
          -0.04,
          -0.04,
          -0.04,
          -0.039,
          -0.039,
          -0.039,
          -0.039,
          -0.039,
          -0.039,
          -0.039,
          -0.039,
          -0.039,
          -0.038,
          -0.038,
          -0.038,
          -0.038,
          -0.038,
          -0.038,
          -0.038,
          -0.038,
          -0.038,
          -0.038,
          -0.038,
          -0.038,
          -0.038,
          -0.037,
          -0.037,
          -0.037,
          -0.037,
          -0.037,
          -0.037,
          -0.037,
          -0.037,
          -0.036,
          -0.036,
          -0.036,
          -0.036,
          -0.036,
          -0.036,
          -0.036,
          -0.036,
          -0.036,
          -0.036,
          -0.036,
          -0.036,
          -0.036,
          -0.036,
          -0.036,
          -0.035,
          -0.035,
          -0.035,
          -0.035,
          -0.035,
          -0.035,
          -0.035,
          -0.034,
          -0.034,
          -0.034,
          -0.034,
          -0.034,
          -0.034,
          -0.034,
          -0.034,
          -0.034,
          -0.034,
          -0.034,
          -0.034,
          -0.034,
          -0.034,
          -0.033,
          -0.033,
          -0.033,
          -0.033,
          -0.033,
          -0.033,
          -0.032,
          -0.032,
          -0.032,
          -0.032,
          -0.032,
          -0.032,
          -0.032,
          -0.032,
          -0.032,
          -0.032,
          -0.032,
          -0.031,
          -0.031,
          -0.031,
          -0.031,
          -0.031,
          -0.031,
          -0.031,
          -0.031,
          -0.031,
          -0.03,
          -0.03,
          -0.03,
          -0.03,
          -0.03,
          -0.03,
          -0.03,
          -0.03,
          -0.03,
          -0.03,
          -0.029,
          -0.029,
          -0.029,
          -0.029,
          -0.029,
          -0.029,
          -0.029,
          -0.029,
          -0.029,
          -0.029,
          -0.028,
          -0.028,
          -0.028,
          -0.028,
          -0.028,
          -0.028,
          -0.028,
          -0.028,
          -0.028,
          -0.028,
          -0.028,
          -0.028,
          -0.028,
          -0.027,
          -0.027,
          -0.027,
          -0.027,
          -0.027,
          -0.027,
          -0.027,
          -0.027,
          -0.027,
          -0.026,
          -0.026,
          -0.026,
          -0.026,
          -0.026,
          -0.026,
          -0.026,
          -0.026,
          -0.026,
          -0.026,
          -0.026,
          -0.025,
          -0.025,
          -0.025,
          -0.025,
          -0.025,
          -0.025,
          -0.025,
          -0.025,
          -0.025,
          -0.025,
          -0.025,
          -0.025,
          -0.024,
          -0.024,
          -0.024,
          -0.024,
          -0.024,
          -0.024,
          -0.024,
          -0.024,
          -0.024,
          -0.024,
          -0.023,
          -0.023,
          -0.023,
          -0.023,
          -0.023,
          -0.023,
          -0.023,
          -0.023,
          -0.023,
          -0.023,
          -0.023,
          -0.023,
          -0.023,
          -0.023,
          -0.023,
          -0.023,
          -0.022,
          -0.022,
          -0.022,
          -0.022,
          -0.022,
          -0.022,
          -0.022,
          -0.021,
          -0.021,
          -0.021,
          -0.021,
          -0.021,
          -0.021,
          -0.021,
          -0.021,
          -0.021,
          -0.021,
          -0.021,
          -0.021,
          -0.021,
          -0.021,
          -0.02,
          -0.02,
          -0.02,
          -0.02,
          -0.02,
          -0.02,
          -0.02,
          -0.02,
          -0.02,
          -0.02,
          -0.019,
          -0.019,
          -0.019,
          -0.019,
          -0.019,
          -0.019,
          -0.019,
          -0.019,
          -0.019,
          -0.019,
          -0.018,
          -0.018,
          -0.018,
          -0.018,
          -0.018,
          -0.018,
          -0.018,
          -0.018,
          -0.018,
          -0.017,
          -0.017,
          -0.017,
          -0.017,
          -0.017,
          -0.016,
          -0.016,
          -0.016,
          -0.016,
          -0.016,
          -0.015,
          -0.015,
          -0.015,
          -0.015,
          -0.015,
          -0.015,
          -0.015,
          -0.015,
          -0.015,
          -0.014,
          -0.014,
          -0.014,
          -0.014,
          -0.013,
          -0.013,
          -0.013,
          -0.013,
          -0.013,
          -0.013,
          -0.013,
          -0.013,
          -0.013,
          -0.012,
          -0.012,
          -0.012,
          -0.012,
          -0.012,
          -0.012,
          -0.011,
          -0.011,
          -0.011,
          -0.009,
          -0.009,
          -0.009,
          -0.009,
          -0.008,
          -0.008,
          -0.008,
          -0.008,
          -0.008,
          -0.008,
          -0.007,
          -0.007,
          -0.007,
          -0.007,
          -0.007,
          -0.007,
          -0.006,
          -0.006,
          -0.006,
          -0.006,
          -0.006,
          -0.006,
          -0.005,
          -0.005,
          -0.005,
          -0.004,
          -0.002,
          -0.002,
          -0.002,
          -0.002,
          -0.001,
          0.001,
          0.001,
          0.001,
          0.002,
          0.003,
          0.003,
          0.004,
          0.008,
          0.013,
          0.022,
          0.023
         ],
         "xaxis": "x",
         "y": [
          1.1634704517978864,
          1.5433338553425617,
          2.2186465727553175,
          2.2186465727553175,
          2.5140958866233984,
          2.556302931461696,
          2.556302931461696,
          2.725131110814884,
          2.7673381556531815,
          2.7673381556531815,
          2.809545200491479,
          2.809545200491479,
          2.851752245329776,
          2.851752245329776,
          2.851752245329776,
          2.851752245329776,
          2.851752245329776,
          2.8939592901680733,
          2.9361663350063707,
          2.9361663350063707,
          2.9361663350063707,
          2.9361663350063707,
          2.9783733798446677,
          2.9783733798446677,
          2.9783733798446677,
          3.020580424682965,
          3.020580424682965,
          3.0627874695212625,
          3.0627874695212625,
          3.0627874695212625,
          3.0627874695212625,
          3.0627874695212625,
          3.1049945143595594,
          3.1049945143595594,
          3.147201559197857,
          3.147201559197857,
          3.147201559197857,
          3.147201559197857,
          3.147201559197857,
          3.147201559197857,
          3.147201559197857,
          3.189408604036154,
          3.231615648874451,
          3.231615648874451,
          3.231615648874451,
          3.231615648874451,
          3.231615648874451,
          3.231615648874451,
          3.231615648874451,
          3.231615648874451,
          3.2738226937127486,
          3.3160297385510455,
          3.3160297385510455,
          3.3160297385510455,
          3.358236783389343,
          3.358236783389343,
          3.358236783389343,
          3.358236783389343,
          3.4004438282276404,
          3.4004438282276404,
          3.4004438282276404,
          3.4004438282276404,
          3.4004438282276404,
          3.4004438282276404,
          3.4004438282276404,
          3.4004438282276404,
          3.4426508730659373,
          3.4426508730659373,
          3.4426508730659373,
          3.4426508730659373,
          3.4426508730659373,
          3.4426508730659373,
          3.4848579179042347,
          3.4848579179042347,
          3.4848579179042347,
          3.4848579179042347,
          3.4848579179042347,
          3.4848579179042347,
          3.4848579179042347,
          3.4848579179042347,
          3.5270649627425317,
          3.5270649627425317,
          3.5270649627425317,
          3.5270649627425317,
          3.5270649627425317,
          3.5270649627425317,
          3.5270649627425317,
          3.5270649627425317,
          3.569272007580829,
          3.569272007580829,
          3.569272007580829,
          3.569272007580829,
          3.611479052419126,
          3.611479052419126,
          3.611479052419126,
          3.611479052419126,
          3.611479052419126,
          3.611479052419126,
          3.611479052419126,
          3.611479052419126,
          3.611479052419126,
          3.653686097257424,
          3.653686097257424,
          3.653686097257424,
          3.653686097257424,
          3.653686097257424,
          3.653686097257424,
          3.653686097257424,
          3.653686097257424,
          3.653686097257424,
          3.653686097257424,
          3.695893142095721,
          3.695893142095721,
          3.695893142095721,
          3.695893142095721,
          3.695893142095721,
          3.695893142095721,
          3.695893142095721,
          3.695893142095721,
          3.695893142095721,
          3.695893142095721,
          3.695893142095721,
          3.7381001869340182,
          3.7381001869340182,
          3.7381001869340182,
          3.7381001869340182,
          3.7381001869340182,
          3.7381001869340182,
          3.7381001869340182,
          3.7803072317723156,
          3.8225142766106126,
          3.8225142766106126,
          3.8225142766106126,
          3.8225142766106126,
          3.8225142766106126,
          3.8225142766106126,
          3.8225142766106126,
          3.8225142766106126,
          3.8225142766106126,
          3.8225142766106126,
          3.8647213214489096,
          3.8647213214489096,
          3.8647213214489096,
          3.8647213214489096,
          3.8647213214489096,
          3.8647213214489096,
          3.8647213214489096,
          3.8647213214489096,
          3.906928366287207,
          3.906928366287207,
          3.906928366287207,
          3.906928366287207,
          3.906928366287207,
          3.906928366287207,
          3.906928366287207,
          3.906928366287207,
          3.906928366287207,
          3.906928366287207,
          3.906928366287207,
          3.906928366287207,
          3.9491354111255044,
          3.9491354111255044,
          3.9491354111255044,
          3.9491354111255044,
          3.9491354111255044,
          3.9491354111255044,
          3.9491354111255044,
          3.9491354111255044,
          3.9491354111255044,
          3.9913424559638013,
          3.9913424559638013,
          3.9913424559638013,
          3.9913424559638013,
          3.9913424559638013,
          3.9913424559638013,
          3.9913424559638013,
          3.9913424559638013,
          3.9913424559638013,
          3.9913424559638013,
          3.9913424559638013,
          3.9913424559638013,
          3.9913424559638013,
          4.033549500802099,
          4.033549500802099,
          4.033549500802099,
          4.033549500802099,
          4.033549500802099,
          4.033549500802099,
          4.033549500802099,
          4.033549500802099,
          4.075756545640396,
          4.075756545640396,
          4.075756545640396,
          4.075756545640396,
          4.075756545640396,
          4.075756545640396,
          4.075756545640396,
          4.075756545640396,
          4.075756545640396,
          4.075756545640396,
          4.075756545640396,
          4.075756545640396,
          4.075756545640396,
          4.075756545640396,
          4.075756545640396,
          4.117963590478693,
          4.117963590478693,
          4.117963590478693,
          4.117963590478693,
          4.117963590478693,
          4.117963590478693,
          4.117963590478693,
          4.16017063531699,
          4.16017063531699,
          4.16017063531699,
          4.16017063531699,
          4.16017063531699,
          4.16017063531699,
          4.16017063531699,
          4.16017063531699,
          4.16017063531699,
          4.16017063531699,
          4.16017063531699,
          4.16017063531699,
          4.16017063531699,
          4.16017063531699,
          4.202377680155288,
          4.202377680155288,
          4.202377680155288,
          4.202377680155288,
          4.202377680155288,
          4.202377680155288,
          4.244584724993585,
          4.244584724993585,
          4.244584724993585,
          4.244584724993585,
          4.244584724993585,
          4.244584724993585,
          4.244584724993585,
          4.244584724993585,
          4.244584724993585,
          4.244584724993585,
          4.244584724993585,
          4.286791769831882,
          4.286791769831882,
          4.286791769831882,
          4.286791769831882,
          4.286791769831882,
          4.286791769831882,
          4.286791769831882,
          4.286791769831882,
          4.286791769831882,
          4.32899881467018,
          4.32899881467018,
          4.32899881467018,
          4.32899881467018,
          4.32899881467018,
          4.32899881467018,
          4.32899881467018,
          4.32899881467018,
          4.32899881467018,
          4.32899881467018,
          4.371205859508477,
          4.371205859508477,
          4.371205859508477,
          4.371205859508477,
          4.371205859508477,
          4.371205859508477,
          4.371205859508477,
          4.371205859508477,
          4.371205859508477,
          4.371205859508477,
          4.413412904346774,
          4.413412904346774,
          4.413412904346774,
          4.413412904346774,
          4.413412904346774,
          4.413412904346774,
          4.413412904346774,
          4.413412904346774,
          4.413412904346774,
          4.413412904346774,
          4.413412904346774,
          4.413412904346774,
          4.413412904346774,
          4.4556199491850705,
          4.4556199491850705,
          4.4556199491850705,
          4.4556199491850705,
          4.4556199491850705,
          4.4556199491850705,
          4.4556199491850705,
          4.4556199491850705,
          4.4556199491850705,
          4.497826994023368,
          4.497826994023368,
          4.497826994023368,
          4.497826994023368,
          4.497826994023368,
          4.497826994023368,
          4.497826994023368,
          4.497826994023368,
          4.497826994023368,
          4.497826994023368,
          4.497826994023368,
          4.540034038861665,
          4.540034038861665,
          4.540034038861665,
          4.540034038861665,
          4.540034038861665,
          4.540034038861665,
          4.540034038861665,
          4.540034038861665,
          4.540034038861665,
          4.540034038861665,
          4.540034038861665,
          4.540034038861665,
          4.582241083699962,
          4.582241083699962,
          4.582241083699962,
          4.582241083699962,
          4.582241083699962,
          4.582241083699962,
          4.582241083699962,
          4.582241083699962,
          4.582241083699962,
          4.582241083699962,
          4.62444812853826,
          4.62444812853826,
          4.62444812853826,
          4.62444812853826,
          4.62444812853826,
          4.62444812853826,
          4.62444812853826,
          4.62444812853826,
          4.62444812853826,
          4.62444812853826,
          4.62444812853826,
          4.62444812853826,
          4.62444812853826,
          4.62444812853826,
          4.62444812853826,
          4.62444812853826,
          4.666655173376557,
          4.666655173376557,
          4.666655173376557,
          4.666655173376557,
          4.666655173376557,
          4.666655173376557,
          4.666655173376557,
          4.708862218214854,
          4.708862218214854,
          4.708862218214854,
          4.708862218214854,
          4.708862218214854,
          4.708862218214854,
          4.708862218214854,
          4.708862218214854,
          4.708862218214854,
          4.708862218214854,
          4.708862218214854,
          4.708862218214854,
          4.708862218214854,
          4.708862218214854,
          4.751069263053152,
          4.751069263053152,
          4.751069263053152,
          4.751069263053152,
          4.751069263053152,
          4.751069263053152,
          4.751069263053152,
          4.751069263053152,
          4.751069263053152,
          4.751069263053152,
          4.793276307891449,
          4.793276307891449,
          4.793276307891449,
          4.793276307891449,
          4.793276307891449,
          4.793276307891449,
          4.793276307891449,
          4.793276307891449,
          4.793276307891449,
          4.793276307891449,
          4.835483352729746,
          4.835483352729746,
          4.835483352729746,
          4.835483352729746,
          4.835483352729746,
          4.835483352729746,
          4.835483352729746,
          4.835483352729746,
          4.835483352729746,
          4.877690397568044,
          4.877690397568044,
          4.877690397568044,
          4.877690397568044,
          4.877690397568044,
          4.919897442406341,
          4.919897442406341,
          4.919897442406341,
          4.919897442406341,
          4.919897442406341,
          4.962104487244638,
          4.962104487244638,
          4.962104487244638,
          4.962104487244638,
          4.962104487244638,
          4.962104487244638,
          4.962104487244638,
          4.962104487244638,
          4.962104487244638,
          5.004311532082935,
          5.004311532082935,
          5.004311532082935,
          5.004311532082935,
          5.046518576921232,
          5.046518576921232,
          5.046518576921232,
          5.046518576921232,
          5.046518576921232,
          5.046518576921232,
          5.046518576921232,
          5.046518576921232,
          5.046518576921232,
          5.088725621759529,
          5.088725621759529,
          5.088725621759529,
          5.088725621759529,
          5.088725621759529,
          5.088725621759529,
          5.130932666597827,
          5.130932666597827,
          5.130932666597827,
          5.215346756274421,
          5.215346756274421,
          5.215346756274421,
          5.215346756274421,
          5.257553801112719,
          5.257553801112719,
          5.257553801112719,
          5.257553801112719,
          5.257553801112719,
          5.257553801112719,
          5.299760845951016,
          5.299760845951016,
          5.299760845951016,
          5.299760845951016,
          5.299760845951016,
          5.299760845951016,
          5.341967890789313,
          5.341967890789313,
          5.341967890789313,
          5.341967890789313,
          5.341967890789313,
          5.341967890789313,
          5.38417493562761,
          5.38417493562761,
          5.38417493562761,
          5.426381980465908,
          5.510796070142502,
          5.510796070142502,
          5.510796070142502,
          5.510796070142502,
          5.5530031149807995,
          5.637417204657393,
          5.637417204657393,
          5.637417204657393,
          5.679624249495691,
          5.721831294333988,
          5.721831294333988,
          5.764038339172285,
          5.932866518525474,
          6.14390174271696,
          6.523765146261636,
          6.565972191099933
         ],
         "yaxis": "y"
        }
       ],
       "layout": {
        "legend": {
         "tracegroupgap": 0
        },
        "margin": {
         "t": 60
        },
        "template": {
         "data": {
          "bar": [
           {
            "error_x": {
             "color": "#2a3f5f"
            },
            "error_y": {
             "color": "#2a3f5f"
            },
            "marker": {
             "line": {
              "color": "#E5ECF6",
              "width": 0.5
             },
             "pattern": {
              "fillmode": "overlay",
              "size": 10,
              "solidity": 0.2
             }
            },
            "type": "bar"
           }
          ],
          "barpolar": [
           {
            "marker": {
             "line": {
              "color": "#E5ECF6",
              "width": 0.5
             },
             "pattern": {
              "fillmode": "overlay",
              "size": 10,
              "solidity": 0.2
             }
            },
            "type": "barpolar"
           }
          ],
          "carpet": [
           {
            "aaxis": {
             "endlinecolor": "#2a3f5f",
             "gridcolor": "white",
             "linecolor": "white",
             "minorgridcolor": "white",
             "startlinecolor": "#2a3f5f"
            },
            "baxis": {
             "endlinecolor": "#2a3f5f",
             "gridcolor": "white",
             "linecolor": "white",
             "minorgridcolor": "white",
             "startlinecolor": "#2a3f5f"
            },
            "type": "carpet"
           }
          ],
          "choropleth": [
           {
            "colorbar": {
             "outlinewidth": 0,
             "ticks": ""
            },
            "type": "choropleth"
           }
          ],
          "contour": [
           {
            "colorbar": {
             "outlinewidth": 0,
             "ticks": ""
            },
            "colorscale": [
             [
              0,
              "#0d0887"
             ],
             [
              0.1111111111111111,
              "#46039f"
             ],
             [
              0.2222222222222222,
              "#7201a8"
             ],
             [
              0.3333333333333333,
              "#9c179e"
             ],
             [
              0.4444444444444444,
              "#bd3786"
             ],
             [
              0.5555555555555556,
              "#d8576b"
             ],
             [
              0.6666666666666666,
              "#ed7953"
             ],
             [
              0.7777777777777778,
              "#fb9f3a"
             ],
             [
              0.8888888888888888,
              "#fdca26"
             ],
             [
              1,
              "#f0f921"
             ]
            ],
            "type": "contour"
           }
          ],
          "contourcarpet": [
           {
            "colorbar": {
             "outlinewidth": 0,
             "ticks": ""
            },
            "type": "contourcarpet"
           }
          ],
          "heatmap": [
           {
            "colorbar": {
             "outlinewidth": 0,
             "ticks": ""
            },
            "colorscale": [
             [
              0,
              "#0d0887"
             ],
             [
              0.1111111111111111,
              "#46039f"
             ],
             [
              0.2222222222222222,
              "#7201a8"
             ],
             [
              0.3333333333333333,
              "#9c179e"
             ],
             [
              0.4444444444444444,
              "#bd3786"
             ],
             [
              0.5555555555555556,
              "#d8576b"
             ],
             [
              0.6666666666666666,
              "#ed7953"
             ],
             [
              0.7777777777777778,
              "#fb9f3a"
             ],
             [
              0.8888888888888888,
              "#fdca26"
             ],
             [
              1,
              "#f0f921"
             ]
            ],
            "type": "heatmap"
           }
          ],
          "heatmapgl": [
           {
            "colorbar": {
             "outlinewidth": 0,
             "ticks": ""
            },
            "colorscale": [
             [
              0,
              "#0d0887"
             ],
             [
              0.1111111111111111,
              "#46039f"
             ],
             [
              0.2222222222222222,
              "#7201a8"
             ],
             [
              0.3333333333333333,
              "#9c179e"
             ],
             [
              0.4444444444444444,
              "#bd3786"
             ],
             [
              0.5555555555555556,
              "#d8576b"
             ],
             [
              0.6666666666666666,
              "#ed7953"
             ],
             [
              0.7777777777777778,
              "#fb9f3a"
             ],
             [
              0.8888888888888888,
              "#fdca26"
             ],
             [
              1,
              "#f0f921"
             ]
            ],
            "type": "heatmapgl"
           }
          ],
          "histogram": [
           {
            "marker": {
             "pattern": {
              "fillmode": "overlay",
              "size": 10,
              "solidity": 0.2
             }
            },
            "type": "histogram"
           }
          ],
          "histogram2d": [
           {
            "colorbar": {
             "outlinewidth": 0,
             "ticks": ""
            },
            "colorscale": [
             [
              0,
              "#0d0887"
             ],
             [
              0.1111111111111111,
              "#46039f"
             ],
             [
              0.2222222222222222,
              "#7201a8"
             ],
             [
              0.3333333333333333,
              "#9c179e"
             ],
             [
              0.4444444444444444,
              "#bd3786"
             ],
             [
              0.5555555555555556,
              "#d8576b"
             ],
             [
              0.6666666666666666,
              "#ed7953"
             ],
             [
              0.7777777777777778,
              "#fb9f3a"
             ],
             [
              0.8888888888888888,
              "#fdca26"
             ],
             [
              1,
              "#f0f921"
             ]
            ],
            "type": "histogram2d"
           }
          ],
          "histogram2dcontour": [
           {
            "colorbar": {
             "outlinewidth": 0,
             "ticks": ""
            },
            "colorscale": [
             [
              0,
              "#0d0887"
             ],
             [
              0.1111111111111111,
              "#46039f"
             ],
             [
              0.2222222222222222,
              "#7201a8"
             ],
             [
              0.3333333333333333,
              "#9c179e"
             ],
             [
              0.4444444444444444,
              "#bd3786"
             ],
             [
              0.5555555555555556,
              "#d8576b"
             ],
             [
              0.6666666666666666,
              "#ed7953"
             ],
             [
              0.7777777777777778,
              "#fb9f3a"
             ],
             [
              0.8888888888888888,
              "#fdca26"
             ],
             [
              1,
              "#f0f921"
             ]
            ],
            "type": "histogram2dcontour"
           }
          ],
          "mesh3d": [
           {
            "colorbar": {
             "outlinewidth": 0,
             "ticks": ""
            },
            "type": "mesh3d"
           }
          ],
          "parcoords": [
           {
            "line": {
             "colorbar": {
              "outlinewidth": 0,
              "ticks": ""
             }
            },
            "type": "parcoords"
           }
          ],
          "pie": [
           {
            "automargin": true,
            "type": "pie"
           }
          ],
          "scatter": [
           {
            "fillpattern": {
             "fillmode": "overlay",
             "size": 10,
             "solidity": 0.2
            },
            "type": "scatter"
           }
          ],
          "scatter3d": [
           {
            "line": {
             "colorbar": {
              "outlinewidth": 0,
              "ticks": ""
             }
            },
            "marker": {
             "colorbar": {
              "outlinewidth": 0,
              "ticks": ""
             }
            },
            "type": "scatter3d"
           }
          ],
          "scattercarpet": [
           {
            "marker": {
             "colorbar": {
              "outlinewidth": 0,
              "ticks": ""
             }
            },
            "type": "scattercarpet"
           }
          ],
          "scattergeo": [
           {
            "marker": {
             "colorbar": {
              "outlinewidth": 0,
              "ticks": ""
             }
            },
            "type": "scattergeo"
           }
          ],
          "scattergl": [
           {
            "marker": {
             "colorbar": {
              "outlinewidth": 0,
              "ticks": ""
             }
            },
            "type": "scattergl"
           }
          ],
          "scattermapbox": [
           {
            "marker": {
             "colorbar": {
              "outlinewidth": 0,
              "ticks": ""
             }
            },
            "type": "scattermapbox"
           }
          ],
          "scatterpolar": [
           {
            "marker": {
             "colorbar": {
              "outlinewidth": 0,
              "ticks": ""
             }
            },
            "type": "scatterpolar"
           }
          ],
          "scatterpolargl": [
           {
            "marker": {
             "colorbar": {
              "outlinewidth": 0,
              "ticks": ""
             }
            },
            "type": "scatterpolargl"
           }
          ],
          "scatterternary": [
           {
            "marker": {
             "colorbar": {
              "outlinewidth": 0,
              "ticks": ""
             }
            },
            "type": "scatterternary"
           }
          ],
          "surface": [
           {
            "colorbar": {
             "outlinewidth": 0,
             "ticks": ""
            },
            "colorscale": [
             [
              0,
              "#0d0887"
             ],
             [
              0.1111111111111111,
              "#46039f"
             ],
             [
              0.2222222222222222,
              "#7201a8"
             ],
             [
              0.3333333333333333,
              "#9c179e"
             ],
             [
              0.4444444444444444,
              "#bd3786"
             ],
             [
              0.5555555555555556,
              "#d8576b"
             ],
             [
              0.6666666666666666,
              "#ed7953"
             ],
             [
              0.7777777777777778,
              "#fb9f3a"
             ],
             [
              0.8888888888888888,
              "#fdca26"
             ],
             [
              1,
              "#f0f921"
             ]
            ],
            "type": "surface"
           }
          ],
          "table": [
           {
            "cells": {
             "fill": {
              "color": "#EBF0F8"
             },
             "line": {
              "color": "white"
             }
            },
            "header": {
             "fill": {
              "color": "#C8D4E3"
             },
             "line": {
              "color": "white"
             }
            },
            "type": "table"
           }
          ]
         },
         "layout": {
          "annotationdefaults": {
           "arrowcolor": "#2a3f5f",
           "arrowhead": 0,
           "arrowwidth": 1
          },
          "autotypenumbers": "strict",
          "coloraxis": {
           "colorbar": {
            "outlinewidth": 0,
            "ticks": ""
           }
          },
          "colorscale": {
           "diverging": [
            [
             0,
             "#8e0152"
            ],
            [
             0.1,
             "#c51b7d"
            ],
            [
             0.2,
             "#de77ae"
            ],
            [
             0.3,
             "#f1b6da"
            ],
            [
             0.4,
             "#fde0ef"
            ],
            [
             0.5,
             "#f7f7f7"
            ],
            [
             0.6,
             "#e6f5d0"
            ],
            [
             0.7,
             "#b8e186"
            ],
            [
             0.8,
             "#7fbc41"
            ],
            [
             0.9,
             "#4d9221"
            ],
            [
             1,
             "#276419"
            ]
           ],
           "sequential": [
            [
             0,
             "#0d0887"
            ],
            [
             0.1111111111111111,
             "#46039f"
            ],
            [
             0.2222222222222222,
             "#7201a8"
            ],
            [
             0.3333333333333333,
             "#9c179e"
            ],
            [
             0.4444444444444444,
             "#bd3786"
            ],
            [
             0.5555555555555556,
             "#d8576b"
            ],
            [
             0.6666666666666666,
             "#ed7953"
            ],
            [
             0.7777777777777778,
             "#fb9f3a"
            ],
            [
             0.8888888888888888,
             "#fdca26"
            ],
            [
             1,
             "#f0f921"
            ]
           ],
           "sequentialminus": [
            [
             0,
             "#0d0887"
            ],
            [
             0.1111111111111111,
             "#46039f"
            ],
            [
             0.2222222222222222,
             "#7201a8"
            ],
            [
             0.3333333333333333,
             "#9c179e"
            ],
            [
             0.4444444444444444,
             "#bd3786"
            ],
            [
             0.5555555555555556,
             "#d8576b"
            ],
            [
             0.6666666666666666,
             "#ed7953"
            ],
            [
             0.7777777777777778,
             "#fb9f3a"
            ],
            [
             0.8888888888888888,
             "#fdca26"
            ],
            [
             1,
             "#f0f921"
            ]
           ]
          },
          "colorway": [
           "#636efa",
           "#EF553B",
           "#00cc96",
           "#ab63fa",
           "#FFA15A",
           "#19d3f3",
           "#FF6692",
           "#B6E880",
           "#FF97FF",
           "#FECB52"
          ],
          "font": {
           "color": "#2a3f5f"
          },
          "geo": {
           "bgcolor": "white",
           "lakecolor": "white",
           "landcolor": "#E5ECF6",
           "showlakes": true,
           "showland": true,
           "subunitcolor": "white"
          },
          "hoverlabel": {
           "align": "left"
          },
          "hovermode": "closest",
          "mapbox": {
           "style": "light"
          },
          "paper_bgcolor": "white",
          "plot_bgcolor": "#E5ECF6",
          "polar": {
           "angularaxis": {
            "gridcolor": "white",
            "linecolor": "white",
            "ticks": ""
           },
           "bgcolor": "#E5ECF6",
           "radialaxis": {
            "gridcolor": "white",
            "linecolor": "white",
            "ticks": ""
           }
          },
          "scene": {
           "xaxis": {
            "backgroundcolor": "#E5ECF6",
            "gridcolor": "white",
            "gridwidth": 2,
            "linecolor": "white",
            "showbackground": true,
            "ticks": "",
            "zerolinecolor": "white"
           },
           "yaxis": {
            "backgroundcolor": "#E5ECF6",
            "gridcolor": "white",
            "gridwidth": 2,
            "linecolor": "white",
            "showbackground": true,
            "ticks": "",
            "zerolinecolor": "white"
           },
           "zaxis": {
            "backgroundcolor": "#E5ECF6",
            "gridcolor": "white",
            "gridwidth": 2,
            "linecolor": "white",
            "showbackground": true,
            "ticks": "",
            "zerolinecolor": "white"
           }
          },
          "shapedefaults": {
           "line": {
            "color": "#2a3f5f"
           }
          },
          "ternary": {
           "aaxis": {
            "gridcolor": "white",
            "linecolor": "white",
            "ticks": ""
           },
           "baxis": {
            "gridcolor": "white",
            "linecolor": "white",
            "ticks": ""
           },
           "bgcolor": "#E5ECF6",
           "caxis": {
            "gridcolor": "white",
            "linecolor": "white",
            "ticks": ""
           }
          },
          "title": {
           "x": 0.05
          },
          "xaxis": {
           "automargin": true,
           "gridcolor": "white",
           "linecolor": "white",
           "ticks": "",
           "title": {
            "standoff": 15
           },
           "zerolinecolor": "white",
           "zerolinewidth": 2
          },
          "yaxis": {
           "automargin": true,
           "gridcolor": "white",
           "linecolor": "white",
           "ticks": "",
           "title": {
            "standoff": 15
           },
           "zerolinecolor": "white",
           "zerolinewidth": 2
          }
         }
        },
        "title": {
         "text": "ERA vs xRV/BF for pitchers with > 100 IP"
        },
        "xaxis": {
         "anchor": "y",
         "domain": [
          0,
          1
         ],
         "title": {
          "text": "xRV/BF"
         }
        },
        "yaxis": {
         "anchor": "x",
         "domain": [
          0,
          1
         ],
         "title": {
          "text": "ERA"
         }
        }
       }
      }
     },
     "metadata": {},
     "output_type": "display_data"
    }
   ],
   "source": [
    "import plotly.express as px\n",
    "\n",
    "df_100 = df_23[df_23['IP'] > 20]\n",
    "\n",
    "fig = px.scatter(df_100, x='xRV/BF', y='ERA', trendline='ols', hover_name='player_name', hover_data=['IP', 'ERA', 'xRV/BF'])\n",
    "\n",
    "fig.update_layout(\n",
    "    title='ERA vs xRV/BF for pitchers with > 100 IP',\n",
    "    xaxis_title='xRV/BF',\n",
    "    yaxis_title='ERA'\n",
    ")\n",
    "\n",
    "fig.show()"
   ]
  },
  {
   "cell_type": "code",
   "execution_count": 74,
   "metadata": {},
   "outputs": [
    {
     "data": {
      "text/html": [
       "<div>\n",
       "<style scoped>\n",
       "    .dataframe tbody tr th:only-of-type {\n",
       "        vertical-align: middle;\n",
       "    }\n",
       "\n",
       "    .dataframe tbody tr th {\n",
       "        vertical-align: top;\n",
       "    }\n",
       "\n",
       "    .dataframe thead th {\n",
       "        text-align: right;\n",
       "    }\n",
       "</style>\n",
       "<table border=\"1\" class=\"dataframe\">\n",
       "  <thead>\n",
       "    <tr style=\"text-align: right;\">\n",
       "      <th></th>\n",
       "      <th>IDfg</th>\n",
       "    </tr>\n",
       "  </thead>\n",
       "  <tbody>\n",
       "  </tbody>\n",
       "</table>\n",
       "</div>"
      ],
      "text/plain": [
       "Empty DataFrame\n",
       "Columns: [IDfg]\n",
       "Index: []"
      ]
     },
     "execution_count": 74,
     "metadata": {},
     "output_type": "execute_result"
    }
   ],
   "source": [
    "from pybaseball import pitching_stats\n",
    "\n",
    "xERA_data_2023 = pitching_stats(2022, 2023)\n",
    "xERA_data_2023.head()\n"
   ]
  },
  {
   "cell_type": "code",
   "execution_count": 91,
   "metadata": {},
   "outputs": [],
   "source": [
    "df_all.loc[df_all['events'] == 'walk', 'estimated_woba_using_speedangle'] = 0.7\n",
    "df_all.loc[df_all['events'] == 'intentional_walk', 'estimated_woba_using_speedangle'] = 0.7\n",
    "df_all.loc[df_all['events'] == 'hit_by_pitch', 'estimated_woba_using_speedangle'] = 0.7\n",
    "df_all.loc[df_all['events'] == 'strikeout', 'estimated_woba_using_speedangle'] = 0\n",
    "df_all.loc[df_all['events'] == 'strikeout_double_play', 'estimated_woba_using_speedangle'] = 0\n"
   ]
  },
  {
   "cell_type": "code",
   "execution_count": 95,
   "metadata": {},
   "outputs": [],
   "source": [
    "xera = df_all.loc[df_all['game_year']==2023].groupby(['player_name', 'pitcher'], as_index=False)['estimated_woba_using_speedangle'].mean()"
   ]
  },
  {
   "cell_type": "code",
   "execution_count": 96,
   "metadata": {},
   "outputs": [
    {
     "data": {
      "text/html": [
       "<div>\n",
       "<style scoped>\n",
       "    .dataframe tbody tr th:only-of-type {\n",
       "        vertical-align: middle;\n",
       "    }\n",
       "\n",
       "    .dataframe tbody tr th {\n",
       "        vertical-align: top;\n",
       "    }\n",
       "\n",
       "    .dataframe thead th {\n",
       "        text-align: right;\n",
       "    }\n",
       "</style>\n",
       "<table border=\"1\" class=\"dataframe\">\n",
       "  <thead>\n",
       "    <tr style=\"text-align: right;\">\n",
       "      <th></th>\n",
       "      <th>player_name</th>\n",
       "      <th>pitcher</th>\n",
       "      <th>estimated_woba_using_speedangle</th>\n",
       "    </tr>\n",
       "  </thead>\n",
       "  <tbody>\n",
       "    <tr>\n",
       "      <th>0</th>\n",
       "      <td>Abad, Fernando</td>\n",
       "      <td>472551</td>\n",
       "      <td>0.433188</td>\n",
       "    </tr>\n",
       "    <tr>\n",
       "      <th>1</th>\n",
       "      <td>Abbott, Andrew</td>\n",
       "      <td>671096</td>\n",
       "      <td>0.294709</td>\n",
       "    </tr>\n",
       "    <tr>\n",
       "      <th>2</th>\n",
       "      <td>Abbott, Cory</td>\n",
       "      <td>676265</td>\n",
       "      <td>0.329962</td>\n",
       "    </tr>\n",
       "    <tr>\n",
       "      <th>3</th>\n",
       "      <td>Abreu, Albert</td>\n",
       "      <td>656061</td>\n",
       "      <td>0.314297</td>\n",
       "    </tr>\n",
       "    <tr>\n",
       "      <th>4</th>\n",
       "      <td>Abreu, Bryan</td>\n",
       "      <td>650556</td>\n",
       "      <td>0.276379</td>\n",
       "    </tr>\n",
       "    <tr>\n",
       "      <th>...</th>\n",
       "      <td>...</td>\n",
       "      <td>...</td>\n",
       "      <td>...</td>\n",
       "    </tr>\n",
       "    <tr>\n",
       "      <th>775</th>\n",
       "      <td>Zastryzny, Rob</td>\n",
       "      <td>642239</td>\n",
       "      <td>0.337580</td>\n",
       "    </tr>\n",
       "    <tr>\n",
       "      <th>776</th>\n",
       "      <td>Zerpa, Angel</td>\n",
       "      <td>672582</td>\n",
       "      <td>0.497500</td>\n",
       "    </tr>\n",
       "    <tr>\n",
       "      <th>777</th>\n",
       "      <td>Zimmermann, Bruce</td>\n",
       "      <td>669145</td>\n",
       "      <td>0.315491</td>\n",
       "    </tr>\n",
       "    <tr>\n",
       "      <th>778</th>\n",
       "      <td>Zuñiga, Guillermo</td>\n",
       "      <td>670871</td>\n",
       "      <td>0.371333</td>\n",
       "    </tr>\n",
       "    <tr>\n",
       "      <th>779</th>\n",
       "      <td>deGrom, Jacob</td>\n",
       "      <td>594798</td>\n",
       "      <td>0.209522</td>\n",
       "    </tr>\n",
       "  </tbody>\n",
       "</table>\n",
       "<p>780 rows × 3 columns</p>\n",
       "</div>"
      ],
      "text/plain": [
       "           player_name  pitcher  estimated_woba_using_speedangle\n",
       "0       Abad, Fernando   472551                         0.433188\n",
       "1       Abbott, Andrew   671096                         0.294709\n",
       "2         Abbott, Cory   676265                         0.329962\n",
       "3        Abreu, Albert   656061                         0.314297\n",
       "4         Abreu, Bryan   650556                         0.276379\n",
       "..                 ...      ...                              ...\n",
       "775     Zastryzny, Rob   642239                         0.337580\n",
       "776       Zerpa, Angel   672582                         0.497500\n",
       "777  Zimmermann, Bruce   669145                         0.315491\n",
       "778  Zuñiga, Guillermo   670871                         0.371333\n",
       "779      deGrom, Jacob   594798                         0.209522\n",
       "\n",
       "[780 rows x 3 columns]"
      ]
     },
     "execution_count": 96,
     "metadata": {},
     "output_type": "execute_result"
    }
   ],
   "source": [
    "xera"
   ]
  },
  {
   "cell_type": "code",
   "execution_count": 97,
   "metadata": {},
   "outputs": [],
   "source": [
    "er_per_ip_23 = 15442/32175"
   ]
  },
  {
   "cell_type": "code",
   "execution_count": 98,
   "metadata": {},
   "outputs": [],
   "source": [
    "xwoba_mean = xera['estimated_woba_using_speedangle'].mean()"
   ]
  },
  {
   "cell_type": "code",
   "execution_count": 120,
   "metadata": {},
   "outputs": [],
   "source": [
    "xera['xERA'] = round(9 * (er_per_ip_23 * ((xera['estimated_woba_using_speedangle'].div(0.321))**2)), 2)"
   ]
  },
  {
   "cell_type": "code",
   "execution_count": 121,
   "metadata": {},
   "outputs": [
    {
     "data": {
      "text/html": [
       "<div>\n",
       "<style scoped>\n",
       "    .dataframe tbody tr th:only-of-type {\n",
       "        vertical-align: middle;\n",
       "    }\n",
       "\n",
       "    .dataframe tbody tr th {\n",
       "        vertical-align: top;\n",
       "    }\n",
       "\n",
       "    .dataframe thead th {\n",
       "        text-align: right;\n",
       "    }\n",
       "</style>\n",
       "<table border=\"1\" class=\"dataframe\">\n",
       "  <thead>\n",
       "    <tr style=\"text-align: right;\">\n",
       "      <th></th>\n",
       "      <th>player_name</th>\n",
       "      <th>pitcher</th>\n",
       "      <th>estimated_woba_using_speedangle</th>\n",
       "      <th>xERA</th>\n",
       "    </tr>\n",
       "  </thead>\n",
       "  <tbody>\n",
       "    <tr>\n",
       "      <th>0</th>\n",
       "      <td>Abad, Fernando</td>\n",
       "      <td>472551</td>\n",
       "      <td>0.433188</td>\n",
       "      <td>7.87</td>\n",
       "    </tr>\n",
       "    <tr>\n",
       "      <th>1</th>\n",
       "      <td>Abbott, Andrew</td>\n",
       "      <td>671096</td>\n",
       "      <td>0.294709</td>\n",
       "      <td>3.64</td>\n",
       "    </tr>\n",
       "    <tr>\n",
       "      <th>2</th>\n",
       "      <td>Abbott, Cory</td>\n",
       "      <td>676265</td>\n",
       "      <td>0.329962</td>\n",
       "      <td>4.56</td>\n",
       "    </tr>\n",
       "    <tr>\n",
       "      <th>3</th>\n",
       "      <td>Abreu, Albert</td>\n",
       "      <td>656061</td>\n",
       "      <td>0.314297</td>\n",
       "      <td>4.14</td>\n",
       "    </tr>\n",
       "    <tr>\n",
       "      <th>4</th>\n",
       "      <td>Abreu, Bryan</td>\n",
       "      <td>650556</td>\n",
       "      <td>0.276379</td>\n",
       "      <td>3.20</td>\n",
       "    </tr>\n",
       "    <tr>\n",
       "      <th>...</th>\n",
       "      <td>...</td>\n",
       "      <td>...</td>\n",
       "      <td>...</td>\n",
       "      <td>...</td>\n",
       "    </tr>\n",
       "    <tr>\n",
       "      <th>775</th>\n",
       "      <td>Zastryzny, Rob</td>\n",
       "      <td>642239</td>\n",
       "      <td>0.337580</td>\n",
       "      <td>4.78</td>\n",
       "    </tr>\n",
       "    <tr>\n",
       "      <th>776</th>\n",
       "      <td>Zerpa, Angel</td>\n",
       "      <td>672582</td>\n",
       "      <td>0.497500</td>\n",
       "      <td>10.38</td>\n",
       "    </tr>\n",
       "    <tr>\n",
       "      <th>777</th>\n",
       "      <td>Zimmermann, Bruce</td>\n",
       "      <td>669145</td>\n",
       "      <td>0.315491</td>\n",
       "      <td>4.17</td>\n",
       "    </tr>\n",
       "    <tr>\n",
       "      <th>778</th>\n",
       "      <td>Zuñiga, Guillermo</td>\n",
       "      <td>670871</td>\n",
       "      <td>0.371333</td>\n",
       "      <td>5.78</td>\n",
       "    </tr>\n",
       "    <tr>\n",
       "      <th>779</th>\n",
       "      <td>deGrom, Jacob</td>\n",
       "      <td>594798</td>\n",
       "      <td>0.209522</td>\n",
       "      <td>1.84</td>\n",
       "    </tr>\n",
       "  </tbody>\n",
       "</table>\n",
       "<p>780 rows × 4 columns</p>\n",
       "</div>"
      ],
      "text/plain": [
       "           player_name  pitcher  estimated_woba_using_speedangle   xERA\n",
       "0       Abad, Fernando   472551                         0.433188   7.87\n",
       "1       Abbott, Andrew   671096                         0.294709   3.64\n",
       "2         Abbott, Cory   676265                         0.329962   4.56\n",
       "3        Abreu, Albert   656061                         0.314297   4.14\n",
       "4         Abreu, Bryan   650556                         0.276379   3.20\n",
       "..                 ...      ...                              ...    ...\n",
       "775     Zastryzny, Rob   642239                         0.337580   4.78\n",
       "776       Zerpa, Angel   672582                         0.497500  10.38\n",
       "777  Zimmermann, Bruce   669145                         0.315491   4.17\n",
       "778  Zuñiga, Guillermo   670871                         0.371333   5.78\n",
       "779      deGrom, Jacob   594798                         0.209522   1.84\n",
       "\n",
       "[780 rows x 4 columns]"
      ]
     },
     "execution_count": 121,
     "metadata": {},
     "output_type": "execute_result"
    }
   ],
   "source": [
    "xera"
   ]
  },
  {
   "cell_type": "code",
   "execution_count": 130,
   "metadata": {},
   "outputs": [
    {
     "data": {
      "text/plain": [
       "-0.03182017255726361"
      ]
     },
     "execution_count": 130,
     "metadata": {},
     "output_type": "execute_result"
    }
   ],
   "source": [
    "mean_pred_run_value = df_23['pred_run_value'].sum() / df_23['BF'].sum()\n",
    "mean_pred_run_value"
   ]
  },
  {
   "cell_type": "code",
   "execution_count": 123,
   "metadata": {},
   "outputs": [],
   "source": [
    "df_23['xERA+'] = round(9 * (er_per_ip_23 * ((df_23['xRV/BF'].div(mean_pred_run_value))**2)), 2)\n"
   ]
  },
  {
   "cell_type": "code",
   "execution_count": 124,
   "metadata": {},
   "outputs": [
    {
     "data": {
      "text/html": [
       "<div>\n",
       "<style scoped>\n",
       "    .dataframe tbody tr th:only-of-type {\n",
       "        vertical-align: middle;\n",
       "    }\n",
       "\n",
       "    .dataframe tbody tr th {\n",
       "        vertical-align: top;\n",
       "    }\n",
       "\n",
       "    .dataframe thead th {\n",
       "        text-align: right;\n",
       "    }\n",
       "</style>\n",
       "<table border=\"1\" class=\"dataframe\">\n",
       "  <thead>\n",
       "    <tr style=\"text-align: right;\">\n",
       "      <th></th>\n",
       "      <th>player_name</th>\n",
       "      <th>pitcher</th>\n",
       "      <th>pred_run_value</th>\n",
       "      <th>Tm</th>\n",
       "      <th>IP</th>\n",
       "      <th>ER</th>\n",
       "      <th>ERA</th>\n",
       "      <th>GDP</th>\n",
       "      <th>BB</th>\n",
       "      <th>SO</th>\n",
       "      <th>BF</th>\n",
       "      <th>mlbID</th>\n",
       "      <th>xRV/BF</th>\n",
       "      <th>xERA+</th>\n",
       "      <th>xERA_x</th>\n",
       "      <th>xERA_y</th>\n",
       "      <th>xERA</th>\n",
       "    </tr>\n",
       "  </thead>\n",
       "  <tbody>\n",
       "    <tr>\n",
       "      <th>0</th>\n",
       "      <td>Strider, Spencer</td>\n",
       "      <td>675911</td>\n",
       "      <td>-45.5</td>\n",
       "      <td>Atlanta</td>\n",
       "      <td>139.1</td>\n",
       "      <td>58</td>\n",
       "      <td>3.75</td>\n",
       "      <td>5</td>\n",
       "      <td>45</td>\n",
       "      <td>217</td>\n",
       "      <td>572</td>\n",
       "      <td>675911</td>\n",
       "      <td>-0.080</td>\n",
       "      <td>27.30</td>\n",
       "      <td>2.88</td>\n",
       "      <td>3.21</td>\n",
       "      <td>3.15</td>\n",
       "    </tr>\n",
       "    <tr>\n",
       "      <th>1</th>\n",
       "      <td>Gausman, Kevin</td>\n",
       "      <td>592332</td>\n",
       "      <td>-39.2</td>\n",
       "      <td>Toronto</td>\n",
       "      <td>144.1</td>\n",
       "      <td>52</td>\n",
       "      <td>3.24</td>\n",
       "      <td>7</td>\n",
       "      <td>37</td>\n",
       "      <td>187</td>\n",
       "      <td>590</td>\n",
       "      <td>592332</td>\n",
       "      <td>-0.066</td>\n",
       "      <td>18.58</td>\n",
       "      <td>3.39</td>\n",
       "      <td>3.78</td>\n",
       "      <td>3.71</td>\n",
       "    </tr>\n",
       "    <tr>\n",
       "      <th>2</th>\n",
       "      <td>Ryan, Joe</td>\n",
       "      <td>657746</td>\n",
       "      <td>-34.2</td>\n",
       "      <td>Minnesota</td>\n",
       "      <td>126.0</td>\n",
       "      <td>62</td>\n",
       "      <td>4.43</td>\n",
       "      <td>5</td>\n",
       "      <td>25</td>\n",
       "      <td>152</td>\n",
       "      <td>523</td>\n",
       "      <td>657746</td>\n",
       "      <td>-0.065</td>\n",
       "      <td>18.02</td>\n",
       "      <td>3.02</td>\n",
       "      <td>3.37</td>\n",
       "      <td>3.30</td>\n",
       "    </tr>\n",
       "    <tr>\n",
       "      <th>3</th>\n",
       "      <td>López, Pablo</td>\n",
       "      <td>641154</td>\n",
       "      <td>-33.9</td>\n",
       "      <td>Minnesota</td>\n",
       "      <td>147.2</td>\n",
       "      <td>60</td>\n",
       "      <td>3.66</td>\n",
       "      <td>6</td>\n",
       "      <td>37</td>\n",
       "      <td>180</td>\n",
       "      <td>600</td>\n",
       "      <td>641154</td>\n",
       "      <td>-0.056</td>\n",
       "      <td>13.38</td>\n",
       "      <td>2.98</td>\n",
       "      <td>3.32</td>\n",
       "      <td>3.25</td>\n",
       "    </tr>\n",
       "    <tr>\n",
       "      <th>4</th>\n",
       "      <td>Gallen, Zac</td>\n",
       "      <td>668678</td>\n",
       "      <td>-32.8</td>\n",
       "      <td>Arizona</td>\n",
       "      <td>155.2</td>\n",
       "      <td>56</td>\n",
       "      <td>3.24</td>\n",
       "      <td>13</td>\n",
       "      <td>32</td>\n",
       "      <td>165</td>\n",
       "      <td>620</td>\n",
       "      <td>668678</td>\n",
       "      <td>-0.053</td>\n",
       "      <td>11.98</td>\n",
       "      <td>3.61</td>\n",
       "      <td>4.02</td>\n",
       "      <td>3.95</td>\n",
       "    </tr>\n",
       "  </tbody>\n",
       "</table>\n",
       "</div>"
      ],
      "text/plain": [
       "        player_name  pitcher  pred_run_value         Tm     IP  ER   ERA  GDP  \\\n",
       "0  Strider, Spencer   675911           -45.5    Atlanta  139.1  58  3.75    5   \n",
       "1    Gausman, Kevin   592332           -39.2    Toronto  144.1  52  3.24    7   \n",
       "2         Ryan, Joe   657746           -34.2  Minnesota  126.0  62  4.43    5   \n",
       "3      López, Pablo   641154           -33.9  Minnesota  147.2  60  3.66    6   \n",
       "4       Gallen, Zac   668678           -32.8    Arizona  155.2  56  3.24   13   \n",
       "\n",
       "   BB   SO   BF   mlbID  xRV/BF  xERA+  xERA_x  xERA_y  xERA  \n",
       "0  45  217  572  675911  -0.080  27.30    2.88    3.21  3.15  \n",
       "1  37  187  590  592332  -0.066  18.58    3.39    3.78  3.71  \n",
       "2  25  152  523  657746  -0.065  18.02    3.02    3.37  3.30  \n",
       "3  37  180  600  641154  -0.056  13.38    2.98    3.32  3.25  \n",
       "4  32  165  620  668678  -0.053  11.98    3.61    4.02  3.95  "
      ]
     },
     "execution_count": 124,
     "metadata": {},
     "output_type": "execute_result"
    }
   ],
   "source": [
    "df_23 = pd.merge(df_23, xera[['player_name', 'pitcher', 'xERA']], on=['player_name', 'pitcher'], how='left')\n",
    "df_23.head()\n"
   ]
  },
  {
   "cell_type": "code",
   "execution_count": 126,
   "metadata": {},
   "outputs": [
    {
     "data": {
      "text/plain": [
       "<AxesSubplot: >"
      ]
     },
     "execution_count": 126,
     "metadata": {},
     "output_type": "execute_result"
    },
    {
     "data": {
      "image/png": "[encoded data removed]",
      "text/plain": [
       "<Figure size 640x480 with 1 Axes>"
      ]
     },
     "metadata": {},
     "output_type": "display_data"
    }
   ],
   "source": [
    "df_23['xRV/BF'].hist(bins=50)"
   ]
  },
  {
   "cell_type": "code",
   "execution_count": 129,
   "metadata": {},
   "outputs": [
    {
     "data": {
      "text/plain": [
       "<AxesSubplot: >"
      ]
     },
     "execution_count": 129,
     "metadata": {},
     "output_type": "execute_result"
    },
    {
     "data": {
      "image/png": "[encoded data removed]",
      "text/plain": [
       "<Figure size 640x480 with 1 Axes>"
      ]
     },
     "metadata": {},
     "output_type": "display_data"
    }
   ],
   "source": [
    "xera['estimated_woba_using_speedangle'].hist(bins=50)"
   ]
  },
  {
   "cell_type": "code",
   "execution_count": 141,
   "metadata": {},
   "outputs": [
    {
     "name": "stderr",
     "output_type": "stream",
     "text": [
      "C:\\Users\\wampl\\AppData\\Local\\Temp\\ipykernel_18796\\3497080820.py:1: FutureWarning:\n",
      "\n",
      "The default value of numeric_only in DataFrame.corr is deprecated. In a future version, it will default to False. Select only valid columns or specify the value of numeric_only to silence this warning.\n",
      "\n"
     ]
    },
    {
     "data": {
      "text/html": [
       "<div>\n",
       "<style scoped>\n",
       "    .dataframe tbody tr th:only-of-type {\n",
       "        vertical-align: middle;\n",
       "    }\n",
       "\n",
       "    .dataframe tbody tr th {\n",
       "        vertical-align: top;\n",
       "    }\n",
       "\n",
       "    .dataframe thead th {\n",
       "        text-align: right;\n",
       "    }\n",
       "</style>\n",
       "<table border=\"1\" class=\"dataframe\">\n",
       "  <thead>\n",
       "    <tr style=\"text-align: right;\">\n",
       "      <th></th>\n",
       "      <th>pitcher</th>\n",
       "      <th>pred_run_value</th>\n",
       "      <th>IP</th>\n",
       "      <th>ER</th>\n",
       "      <th>ERA</th>\n",
       "      <th>GDP</th>\n",
       "      <th>BB</th>\n",
       "      <th>SO</th>\n",
       "      <th>BF</th>\n",
       "      <th>mlbID</th>\n",
       "      <th>xRV/BF</th>\n",
       "      <th>xERA+</th>\n",
       "      <th>xERA_x</th>\n",
       "      <th>xERA_y</th>\n",
       "      <th>xERA</th>\n",
       "    </tr>\n",
       "  </thead>\n",
       "  <tbody>\n",
       "    <tr>\n",
       "      <th>pitcher</th>\n",
       "      <td>1.000000</td>\n",
       "      <td>0.115377</td>\n",
       "      <td>-0.146017</td>\n",
       "      <td>-0.138670</td>\n",
       "      <td>0.008183</td>\n",
       "      <td>-0.114508</td>\n",
       "      <td>-0.110268</td>\n",
       "      <td>-0.125412</td>\n",
       "      <td>-0.145594</td>\n",
       "      <td>1.000000</td>\n",
       "      <td>0.003148</td>\n",
       "      <td>0.023816</td>\n",
       "      <td>0.017871</td>\n",
       "      <td>0.017902</td>\n",
       "      <td>0.017818</td>\n",
       "    </tr>\n",
       "    <tr>\n",
       "      <th>pred_run_value</th>\n",
       "      <td>0.115377</td>\n",
       "      <td>1.000000</td>\n",
       "      <td>-0.875214</td>\n",
       "      <td>-0.722386</td>\n",
       "      <td>0.209193</td>\n",
       "      <td>-0.645037</td>\n",
       "      <td>-0.679303</td>\n",
       "      <td>-0.948609</td>\n",
       "      <td>-0.856226</td>\n",
       "      <td>0.115377</td>\n",
       "      <td>0.478382</td>\n",
       "      <td>-0.082050</td>\n",
       "      <td>0.339349</td>\n",
       "      <td>0.339352</td>\n",
       "      <td>0.339403</td>\n",
       "    </tr>\n",
       "    <tr>\n",
       "      <th>IP</th>\n",
       "      <td>-0.146017</td>\n",
       "      <td>-0.875214</td>\n",
       "      <td>1.000000</td>\n",
       "      <td>0.917818</td>\n",
       "      <td>-0.214395</td>\n",
       "      <td>0.837321</td>\n",
       "      <td>0.877510</td>\n",
       "      <td>0.958587</td>\n",
       "      <td>0.997699</td>\n",
       "      <td>-0.146017</td>\n",
       "      <td>-0.311504</td>\n",
       "      <td>-0.067094</td>\n",
       "      <td>-0.287501</td>\n",
       "      <td>-0.287488</td>\n",
       "      <td>-0.287539</td>\n",
       "    </tr>\n",
       "    <tr>\n",
       "      <th>ER</th>\n",
       "      <td>-0.138670</td>\n",
       "      <td>-0.722386</td>\n",
       "      <td>0.917818</td>\n",
       "      <td>1.000000</td>\n",
       "      <td>-0.108936</td>\n",
       "      <td>0.761209</td>\n",
       "      <td>0.851615</td>\n",
       "      <td>0.844173</td>\n",
       "      <td>0.936508</td>\n",
       "      <td>-0.138670</td>\n",
       "      <td>-0.198505</td>\n",
       "      <td>-0.121884</td>\n",
       "      <td>-0.164524</td>\n",
       "      <td>-0.164475</td>\n",
       "      <td>-0.164534</td>\n",
       "    </tr>\n",
       "    <tr>\n",
       "      <th>ERA</th>\n",
       "      <td>0.008183</td>\n",
       "      <td>0.209193</td>\n",
       "      <td>-0.214395</td>\n",
       "      <td>-0.108936</td>\n",
       "      <td>1.000000</td>\n",
       "      <td>-0.181183</td>\n",
       "      <td>-0.187143</td>\n",
       "      <td>-0.219845</td>\n",
       "      <td>-0.204343</td>\n",
       "      <td>0.008183</td>\n",
       "      <td>0.372198</td>\n",
       "      <td>0.149529</td>\n",
       "      <td>0.522607</td>\n",
       "      <td>0.522705</td>\n",
       "      <td>0.522629</td>\n",
       "    </tr>\n",
       "    <tr>\n",
       "      <th>GDP</th>\n",
       "      <td>-0.114508</td>\n",
       "      <td>-0.645037</td>\n",
       "      <td>0.837321</td>\n",
       "      <td>0.761209</td>\n",
       "      <td>-0.181183</td>\n",
       "      <td>1.000000</td>\n",
       "      <td>0.749957</td>\n",
       "      <td>0.751547</td>\n",
       "      <td>0.835340</td>\n",
       "      <td>-0.114508</td>\n",
       "      <td>-0.188527</td>\n",
       "      <td>-0.099445</td>\n",
       "      <td>-0.214106</td>\n",
       "      <td>-0.214124</td>\n",
       "      <td>-0.214142</td>\n",
       "    </tr>\n",
       "    <tr>\n",
       "      <th>BB</th>\n",
       "      <td>-0.110268</td>\n",
       "      <td>-0.679303</td>\n",
       "      <td>0.877510</td>\n",
       "      <td>0.851615</td>\n",
       "      <td>-0.187143</td>\n",
       "      <td>0.749957</td>\n",
       "      <td>1.000000</td>\n",
       "      <td>0.865371</td>\n",
       "      <td>0.893832</td>\n",
       "      <td>-0.110268</td>\n",
       "      <td>-0.196416</td>\n",
       "      <td>-0.111922</td>\n",
       "      <td>-0.238376</td>\n",
       "      <td>-0.238333</td>\n",
       "      <td>-0.238389</td>\n",
       "    </tr>\n",
       "    <tr>\n",
       "      <th>SO</th>\n",
       "      <td>-0.125412</td>\n",
       "      <td>-0.948609</td>\n",
       "      <td>0.958587</td>\n",
       "      <td>0.844173</td>\n",
       "      <td>-0.219845</td>\n",
       "      <td>0.751547</td>\n",
       "      <td>0.865371</td>\n",
       "      <td>1.000000</td>\n",
       "      <td>0.952292</td>\n",
       "      <td>-0.125412</td>\n",
       "      <td>-0.393070</td>\n",
       "      <td>-0.000156</td>\n",
       "      <td>-0.326111</td>\n",
       "      <td>-0.326096</td>\n",
       "      <td>-0.326151</td>\n",
       "    </tr>\n",
       "    <tr>\n",
       "      <th>BF</th>\n",
       "      <td>-0.145594</td>\n",
       "      <td>-0.856226</td>\n",
       "      <td>0.997699</td>\n",
       "      <td>0.936508</td>\n",
       "      <td>-0.204343</td>\n",
       "      <td>0.835340</td>\n",
       "      <td>0.893832</td>\n",
       "      <td>0.952292</td>\n",
       "      <td>1.000000</td>\n",
       "      <td>-0.145594</td>\n",
       "      <td>-0.294063</td>\n",
       "      <td>-0.079086</td>\n",
       "      <td>-0.273086</td>\n",
       "      <td>-0.273067</td>\n",
       "      <td>-0.273118</td>\n",
       "    </tr>\n",
       "    <tr>\n",
       "      <th>mlbID</th>\n",
       "      <td>1.000000</td>\n",
       "      <td>0.115377</td>\n",
       "      <td>-0.146017</td>\n",
       "      <td>-0.138670</td>\n",
       "      <td>0.008183</td>\n",
       "      <td>-0.114508</td>\n",
       "      <td>-0.110268</td>\n",
       "      <td>-0.125412</td>\n",
       "      <td>-0.145594</td>\n",
       "      <td>1.000000</td>\n",
       "      <td>0.003148</td>\n",
       "      <td>0.023816</td>\n",
       "      <td>0.017871</td>\n",
       "      <td>0.017902</td>\n",
       "      <td>0.017818</td>\n",
       "    </tr>\n",
       "    <tr>\n",
       "      <th>xRV/BF</th>\n",
       "      <td>0.003148</td>\n",
       "      <td>0.478382</td>\n",
       "      <td>-0.311504</td>\n",
       "      <td>-0.198505</td>\n",
       "      <td>0.372198</td>\n",
       "      <td>-0.188527</td>\n",
       "      <td>-0.196416</td>\n",
       "      <td>-0.393070</td>\n",
       "      <td>-0.294063</td>\n",
       "      <td>0.003148</td>\n",
       "      <td>1.000000</td>\n",
       "      <td>-0.059049</td>\n",
       "      <td>0.516968</td>\n",
       "      <td>0.516938</td>\n",
       "      <td>0.516971</td>\n",
       "    </tr>\n",
       "    <tr>\n",
       "      <th>xERA+</th>\n",
       "      <td>0.023816</td>\n",
       "      <td>-0.082050</td>\n",
       "      <td>-0.067094</td>\n",
       "      <td>-0.121884</td>\n",
       "      <td>0.149529</td>\n",
       "      <td>-0.099445</td>\n",
       "      <td>-0.111922</td>\n",
       "      <td>-0.000156</td>\n",
       "      <td>-0.079086</td>\n",
       "      <td>0.023816</td>\n",
       "      <td>-0.059049</td>\n",
       "      <td>1.000000</td>\n",
       "      <td>0.023680</td>\n",
       "      <td>0.023672</td>\n",
       "      <td>0.023705</td>\n",
       "    </tr>\n",
       "    <tr>\n",
       "      <th>xERA_x</th>\n",
       "      <td>0.017871</td>\n",
       "      <td>0.339349</td>\n",
       "      <td>-0.287501</td>\n",
       "      <td>-0.164524</td>\n",
       "      <td>0.522607</td>\n",
       "      <td>-0.214106</td>\n",
       "      <td>-0.238376</td>\n",
       "      <td>-0.326111</td>\n",
       "      <td>-0.273086</td>\n",
       "      <td>0.017871</td>\n",
       "      <td>0.516968</td>\n",
       "      <td>0.023680</td>\n",
       "      <td>1.000000</td>\n",
       "      <td>0.999999</td>\n",
       "      <td>0.999999</td>\n",
       "    </tr>\n",
       "    <tr>\n",
       "      <th>xERA_y</th>\n",
       "      <td>0.017902</td>\n",
       "      <td>0.339352</td>\n",
       "      <td>-0.287488</td>\n",
       "      <td>-0.164475</td>\n",
       "      <td>0.522705</td>\n",
       "      <td>-0.214124</td>\n",
       "      <td>-0.238333</td>\n",
       "      <td>-0.326096</td>\n",
       "      <td>-0.273067</td>\n",
       "      <td>0.017902</td>\n",
       "      <td>0.516938</td>\n",
       "      <td>0.023672</td>\n",
       "      <td>0.999999</td>\n",
       "      <td>1.000000</td>\n",
       "      <td>0.999999</td>\n",
       "    </tr>\n",
       "    <tr>\n",
       "      <th>xERA</th>\n",
       "      <td>0.017818</td>\n",
       "      <td>0.339403</td>\n",
       "      <td>-0.287539</td>\n",
       "      <td>-0.164534</td>\n",
       "      <td>0.522629</td>\n",
       "      <td>-0.214142</td>\n",
       "      <td>-0.238389</td>\n",
       "      <td>-0.326151</td>\n",
       "      <td>-0.273118</td>\n",
       "      <td>0.017818</td>\n",
       "      <td>0.516971</td>\n",
       "      <td>0.023705</td>\n",
       "      <td>0.999999</td>\n",
       "      <td>0.999999</td>\n",
       "      <td>1.000000</td>\n",
       "    </tr>\n",
       "  </tbody>\n",
       "</table>\n",
       "</div>"
      ],
      "text/plain": [
       "                 pitcher  pred_run_value        IP        ER       ERA  \\\n",
       "pitcher         1.000000        0.115377 -0.146017 -0.138670  0.008183   \n",
       "pred_run_value  0.115377        1.000000 -0.875214 -0.722386  0.209193   \n",
       "IP             -0.146017       -0.875214  1.000000  0.917818 -0.214395   \n",
       "ER             -0.138670       -0.722386  0.917818  1.000000 -0.108936   \n",
       "ERA             0.008183        0.209193 -0.214395 -0.108936  1.000000   \n",
       "GDP            -0.114508       -0.645037  0.837321  0.761209 -0.181183   \n",
       "BB             -0.110268       -0.679303  0.877510  0.851615 -0.187143   \n",
       "SO             -0.125412       -0.948609  0.958587  0.844173 -0.219845   \n",
       "BF             -0.145594       -0.856226  0.997699  0.936508 -0.204343   \n",
       "mlbID           1.000000        0.115377 -0.146017 -0.138670  0.008183   \n",
       "xRV/BF          0.003148        0.478382 -0.311504 -0.198505  0.372198   \n",
       "xERA+           0.023816       -0.082050 -0.067094 -0.121884  0.149529   \n",
       "xERA_x          0.017871        0.339349 -0.287501 -0.164524  0.522607   \n",
       "xERA_y          0.017902        0.339352 -0.287488 -0.164475  0.522705   \n",
       "xERA            0.017818        0.339403 -0.287539 -0.164534  0.522629   \n",
       "\n",
       "                     GDP        BB        SO        BF     mlbID    xRV/BF  \\\n",
       "pitcher        -0.114508 -0.110268 -0.125412 -0.145594  1.000000  0.003148   \n",
       "pred_run_value -0.645037 -0.679303 -0.948609 -0.856226  0.115377  0.478382   \n",
       "IP              0.837321  0.877510  0.958587  0.997699 -0.146017 -0.311504   \n",
       "ER              0.761209  0.851615  0.844173  0.936508 -0.138670 -0.198505   \n",
       "ERA            -0.181183 -0.187143 -0.219845 -0.204343  0.008183  0.372198   \n",
       "GDP             1.000000  0.749957  0.751547  0.835340 -0.114508 -0.188527   \n",
       "BB              0.749957  1.000000  0.865371  0.893832 -0.110268 -0.196416   \n",
       "SO              0.751547  0.865371  1.000000  0.952292 -0.125412 -0.393070   \n",
       "BF              0.835340  0.893832  0.952292  1.000000 -0.145594 -0.294063   \n",
       "mlbID          -0.114508 -0.110268 -0.125412 -0.145594  1.000000  0.003148   \n",
       "xRV/BF         -0.188527 -0.196416 -0.393070 -0.294063  0.003148  1.000000   \n",
       "xERA+          -0.099445 -0.111922 -0.000156 -0.079086  0.023816 -0.059049   \n",
       "xERA_x         -0.214106 -0.238376 -0.326111 -0.273086  0.017871  0.516968   \n",
       "xERA_y         -0.214124 -0.238333 -0.326096 -0.273067  0.017902  0.516938   \n",
       "xERA           -0.214142 -0.238389 -0.326151 -0.273118  0.017818  0.516971   \n",
       "\n",
       "                   xERA+    xERA_x    xERA_y      xERA  \n",
       "pitcher         0.023816  0.017871  0.017902  0.017818  \n",
       "pred_run_value -0.082050  0.339349  0.339352  0.339403  \n",
       "IP             -0.067094 -0.287501 -0.287488 -0.287539  \n",
       "ER             -0.121884 -0.164524 -0.164475 -0.164534  \n",
       "ERA             0.149529  0.522607  0.522705  0.522629  \n",
       "GDP            -0.099445 -0.214106 -0.214124 -0.214142  \n",
       "BB             -0.111922 -0.238376 -0.238333 -0.238389  \n",
       "SO             -0.000156 -0.326111 -0.326096 -0.326151  \n",
       "BF             -0.079086 -0.273086 -0.273067 -0.273118  \n",
       "mlbID           0.023816  0.017871  0.017902  0.017818  \n",
       "xRV/BF         -0.059049  0.516968  0.516938  0.516971  \n",
       "xERA+           1.000000  0.023680  0.023672  0.023705  \n",
       "xERA_x          0.023680  1.000000  0.999999  0.999999  \n",
       "xERA_y          0.023672  0.999999  1.000000  0.999999  \n",
       "xERA            0.023705  0.999999  0.999999  1.000000  "
      ]
     },
     "execution_count": 141,
     "metadata": {},
     "output_type": "execute_result"
    }
   ],
   "source": [
    "df_23.corr()"
   ]
  },
  {
   "cell_type": "code",
   "execution_count": null,
   "metadata": {},
   "outputs": [],
   "source": []
  }
 ],
 "metadata": {
  "kernelspec": {
   "display_name": "datasci",
   "language": "python",
   "name": "python3"
  },
  "language_info": {
   "codemirror_mode": {
    "name": "ipython",
    "version": 3
   },
   "file_extension": ".py",
   "mimetype": "text/x-python",
   "name": "python",
   "nbconvert_exporter": "python",
   "pygments_lexer": "ipython3",
   "version": "3.10.8"
  },
  "orig_nbformat": 4
 },
 "nbformat": 4,
 "nbformat_minor": 2
}
